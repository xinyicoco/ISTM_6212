{
 "cells": [
  {
   "cell_type": "markdown",
   "metadata": {},
   "source": [
    "# Project 3: US Commodity Flow Survey"
   ]
  },
  {
   "cell_type": "markdown",
   "metadata": {},
   "source": [
    "Group Members: Boer Fang, Chris Bunker, Patrick Steeves, Stella Lu "
   ]
  },
  {
   "cell_type": "markdown",
   "metadata": {},
   "source": [
    "# Part 1: Data Selection and Description"
   ]
  },
  {
   "cell_type": "markdown",
   "metadata": {},
   "source": [
    "### Data Selection"
   ]
  },
  {
   "cell_type": "markdown",
   "metadata": {},
   "source": [
    "For this project, our group decided to select data for US Commodities. The original dataset had over 4 million records in it which made it extremely slow to upload and analyze. We made the decision to reduce the number of records by just selecting the first 500,000 records. We believe this will still give a good sample for the year, especially because the data does not go in chronological order. By taking the first 500,000 we are taking a random sample.\n",
    "\n",
    "The goal for this project is to see..."
   ]
  },
  {
   "cell_type": "markdown",
   "metadata": {},
   "source": [
    "### Data Source"
   ]
  },
  {
   "cell_type": "markdown",
   "metadata": {},
   "source": [
    "The original data was downloaded from the US Census: url\n",
    "The reduced data we will use in this notebook can be found on github:\n",
    "\n",
    "..."
   ]
  },
  {
   "cell_type": "markdown",
   "metadata": {},
   "source": [
    "### Data Description"
   ]
  },
  {
   "cell_type": "markdown",
   "metadata": {},
   "source": [
    "The medadata file for this data can be found here:\n",
    "\n",
    "This data ... "
   ]
  },
  {
   "cell_type": "markdown",
   "metadata": {},
   "source": [
    "# <br><br>Part 2: Data Wrangling "
   ]
  },
  {
   "cell_type": "code",
   "execution_count": 1,
   "metadata": {
    "collapsed": false
   },
   "outputs": [
    {
     "data": {
      "text/plain": [
       "'/home/jovyan/work'"
      ]
     },
     "execution_count": 1,
     "metadata": {},
     "output_type": "execute_result"
    }
   ],
   "source": [
    "pwd"
   ]
  },
  {
   "cell_type": "code",
   "execution_count": 2,
   "metadata": {
    "collapsed": false
   },
   "outputs": [
    {
     "name": "stdout",
     "output_type": "stream",
     "text": [
      "CF.csv  Commodity_Flow_Survey.zip  Project_03_v4.ipynb\r\n"
     ]
    }
   ],
   "source": [
    "ls"
   ]
  },
  {
   "cell_type": "code",
   "execution_count": 3,
   "metadata": {
    "collapsed": false
   },
   "outputs": [
    {
     "name": "stdout",
     "output_type": "stream",
     "text": [
      "Archive:  /home/jovyan/work/Commodity_Flow_Survey.zip\n",
      "  inflating: Commodity_Flow_Survey.csv  \n"
     ]
    }
   ],
   "source": [
    "!unzip /home/jovyan/work/Commodity_Flow_Survey.zip"
   ]
  },
  {
   "cell_type": "code",
   "execution_count": 1,
   "metadata": {
    "collapsed": false
   },
   "outputs": [],
   "source": [
    "!mv Commodity_Flow_Survey.csv CF.csv"
   ]
  },
  {
   "cell_type": "code",
   "execution_count": 3,
   "metadata": {
    "collapsed": false
   },
   "outputs": [
    {
     "name": "stdout",
     "output_type": "stream",
     "text": [
      "115 CF.csv\r\n"
     ]
    }
   ],
   "source": [
    "!wc -l CF.csv"
   ]
  },
  {
   "cell_type": "code",
   "execution_count": 4,
   "metadata": {
    "collapsed": false
   },
   "outputs": [
    {
     "name": "stdout",
     "output_type": "stream",
     "text": [
      "  1: SHIPMT_ID\r\n",
      "  2: ORIG_STATE\r\n",
      "  3: ORIG_MA\r\n",
      "  4: ORIG_CFS_AREA\r\n",
      "  5: DEST_STATE\r\n",
      "  6: DEST_MA\r\n",
      "  7: DEST_CFS_AREA\r\n",
      "  8: NAICS\r\n",
      "  9: QUARTER\r\n",
      " 10: SCTG\r\n",
      " 11: MODE\r\n",
      " 12: SHIPMT_VALUE\r\n",
      " 13: SHIPMT_WGHT\r\n",
      " 14: SHIPMT_DIST_GC\r\n",
      " 15: SHIPMT_DIST_ROUTED\r\n",
      " 16: TEMP_CNTL_YN\r\n",
      " 17: EXPORT_YN\r\n",
      " 18: EXPORT_CNTRY\r\n",
      " 19: HAZMAT\r\n",
      " 20: WGT_FACTOR\r\n"
     ]
    }
   ],
   "source": [
    "!csvcut -n CF.csv"
   ]
  },
  {
   "cell_type": "markdown",
   "metadata": {},
   "source": [
    "## <br><br>Commodity Flow Database"
   ]
  },
  {
   "cell_type": "code",
   "execution_count": 2,
   "metadata": {
    "collapsed": false
   },
   "outputs": [
    {
     "name": "stdout",
     "output_type": "stream",
     "text": [
      "[sudo] password for jovyan: Restarting PostgreSQL 9.5 database server: main.\n"
     ]
    }
   ],
   "source": [
    "!echo 'redspot' | sudo -S service postgresql restart"
   ]
  },
  {
   "cell_type": "code",
   "execution_count": 3,
   "metadata": {
    "collapsed": false
   },
   "outputs": [],
   "source": [
    "!createdb -U dbuser proj3"
   ]
  },
  {
   "cell_type": "code",
   "execution_count": 4,
   "metadata": {
    "collapsed": false
   },
   "outputs": [
    {
     "name": "stderr",
     "output_type": "stream",
     "text": [
      "/opt/conda/lib/python3.5/site-packages/IPython/config.py:13: ShimWarning: The `IPython.config` package has been deprecated. You should import from traitlets.config instead.\n",
      "  \"You should import from traitlets.config instead.\", ShimWarning)\n",
      "/opt/conda/lib/python3.5/site-packages/IPython/utils/traitlets.py:5: UserWarning: IPython.utils.traitlets has moved to a top-level traitlets package.\n",
      "  warn(\"IPython.utils.traitlets has moved to a top-level traitlets package.\")\n"
     ]
    }
   ],
   "source": [
    "%load_ext sql"
   ]
  },
  {
   "cell_type": "code",
   "execution_count": 5,
   "metadata": {
    "collapsed": false
   },
   "outputs": [
    {
     "data": {
      "text/plain": [
       "'Connected: dbuser@proj3'"
      ]
     },
     "execution_count": 5,
     "metadata": {},
     "output_type": "execute_result"
    }
   ],
   "source": [
    "%sql postgresql://dbuser@localhost:5432/proj3"
   ]
  },
  {
   "cell_type": "code",
   "execution_count": 6,
   "metadata": {
    "collapsed": false
   },
   "outputs": [
    {
     "name": "stdout",
     "output_type": "stream",
     "text": [
      "Done.\n",
      "Done.\n"
     ]
    },
    {
     "data": {
      "text/plain": [
       "[]"
      ]
     },
     "execution_count": 6,
     "metadata": {},
     "output_type": "execute_result"
    }
   ],
   "source": [
    "%%sql\n",
    "DROP TABLE IF EXISTS CF;\n",
    "CREATE TABLE CF (\n",
    "    SHIPMT_ID INTEGER,\n",
    "    ORIG_STATE INTEGER,\n",
    "    ORIG_MA INTEGER,\n",
    "    ORIG_CFS_AREA VARCHAR (10),\n",
    "    DEST_STATE INTEGER,\n",
    "    DEST_MA INTEGER,\n",
    "    DEST_CFS_AREA VARCHAR (10),\n",
    "    NAICS INTEGER,\n",
    "    QUARTER INTEGER,\n",
    "    SCTG INTEGER,\n",
    "    MODE INTEGER,\n",
    "    SHIPMT_VALUE INTEGER,\n",
    "    SHIPMT_WGHT INTEGER,\n",
    "    SHIPMT_DIST_GC INTEGER,\n",
    "    SHIPMT_DIST_ROUTED INTEGER,\n",
    "    TEMP_CNTL_YN BOOLEAN,\n",
    "    EXPORT_YN BOOLEAN,\n",
    "    EXPORT_CNTRY CHAR (1),\n",
    "    HAZMAT VARCHAR (1),\n",
    "    WGT_FACTOR NUMERIC\n",
    ");"
   ]
  },
  {
   "cell_type": "code",
   "execution_count": 7,
   "metadata": {
    "collapsed": false
   },
   "outputs": [
    {
     "name": "stdout",
     "output_type": "stream",
     "text": [
      "114 rows affected.\n"
     ]
    },
    {
     "data": {
      "text/plain": [
       "[]"
      ]
     },
     "execution_count": 7,
     "metadata": {},
     "output_type": "execute_result"
    }
   ],
   "source": [
    "%%sql\n",
    "COPY CF FROM '/home/jovyan/work/CF.csv'\n",
    "CSV\n",
    "HEADER\n",
    "DELIMITER ',';"
   ]
  },
  {
   "cell_type": "code",
   "execution_count": 8,
   "metadata": {
    "collapsed": false
   },
   "outputs": [
    {
     "name": "stdout",
     "output_type": "stream",
     "text": [
      "Done.\n"
     ]
    },
    {
     "data": {
      "text/plain": [
       "[]"
      ]
     },
     "execution_count": 8,
     "metadata": {},
     "output_type": "execute_result"
    }
   ],
   "source": [
    "%%sql\n",
    "ALTER TABLE CF\n",
    "DROP COLUMN SHIPMT_ID;"
   ]
  },
  {
   "cell_type": "code",
   "execution_count": 9,
   "metadata": {
    "collapsed": false
   },
   "outputs": [
    {
     "name": "stdout",
     "output_type": "stream",
     "text": [
      "Done.\n"
     ]
    },
    {
     "data": {
      "text/plain": [
       "[]"
      ]
     },
     "execution_count": 9,
     "metadata": {},
     "output_type": "execute_result"
    }
   ],
   "source": [
    "%%sql\n",
    "ALTER TABLE CF\n",
    "ADD COLUMN SHIPMT_ID BIGSERIAL;"
   ]
  },
  {
   "cell_type": "code",
   "execution_count": 10,
   "metadata": {
    "collapsed": false
   },
   "outputs": [
    {
     "name": "stdout",
     "output_type": "stream",
     "text": [
      "1 rows affected.\n"
     ]
    },
    {
     "data": {
      "text/html": [
       "<table>\n",
       "    <tr>\n",
       "        <th>count</th>\n",
       "    </tr>\n",
       "    <tr>\n",
       "        <td>114</td>\n",
       "    </tr>\n",
       "</table>"
      ],
      "text/plain": [
       "[(114,)]"
      ]
     },
     "execution_count": 10,
     "metadata": {},
     "output_type": "execute_result"
    }
   ],
   "source": [
    "%%sql\n",
    "SELECT COUNT(*) FROM CF;"
   ]
  },
  {
   "cell_type": "code",
   "execution_count": 11,
   "metadata": {
    "collapsed": false
   },
   "outputs": [
    {
     "name": "stdout",
     "output_type": "stream",
     "text": [
      "3 rows affected.\n"
     ]
    },
    {
     "data": {
      "text/html": [
       "<table>\n",
       "    <tr>\n",
       "        <th>hazmat</th>\n",
       "    </tr>\n",
       "    <tr>\n",
       "        <td>H</td>\n",
       "    </tr>\n",
       "    <tr>\n",
       "        <td>N</td>\n",
       "    </tr>\n",
       "    <tr>\n",
       "        <td>P</td>\n",
       "    </tr>\n",
       "</table>"
      ],
      "text/plain": [
       "[('H',), ('N',), ('P',)]"
      ]
     },
     "execution_count": 11,
     "metadata": {},
     "output_type": "execute_result"
    }
   ],
   "source": [
    "%%sql \n",
    "SELECT DISTINCT HAZMAT FROM CF;"
   ]
  },
  {
   "cell_type": "code",
   "execution_count": 12,
   "metadata": {
    "collapsed": false
   },
   "outputs": [
    {
     "name": "stdout",
     "output_type": "stream",
     "text": [
      "10 rows affected.\n"
     ]
    },
    {
     "data": {
      "text/html": [
       "<table>\n",
       "    <tr>\n",
       "        <th>orig_state</th>\n",
       "        <th>count</th>\n",
       "    </tr>\n",
       "    <tr>\n",
       "        <td>42</td>\n",
       "        <td>10</td>\n",
       "    </tr>\n",
       "    <tr>\n",
       "        <td>6</td>\n",
       "        <td>9</td>\n",
       "    </tr>\n",
       "    <tr>\n",
       "        <td>39</td>\n",
       "        <td>6</td>\n",
       "    </tr>\n",
       "    <tr>\n",
       "        <td>29</td>\n",
       "        <td>5</td>\n",
       "    </tr>\n",
       "    <tr>\n",
       "        <td>55</td>\n",
       "        <td>5</td>\n",
       "    </tr>\n",
       "    <tr>\n",
       "        <td>17</td>\n",
       "        <td>4</td>\n",
       "    </tr>\n",
       "    <tr>\n",
       "        <td>26</td>\n",
       "        <td>4</td>\n",
       "    </tr>\n",
       "    <tr>\n",
       "        <td>36</td>\n",
       "        <td>4</td>\n",
       "    </tr>\n",
       "    <tr>\n",
       "        <td>27</td>\n",
       "        <td>4</td>\n",
       "    </tr>\n",
       "    <tr>\n",
       "        <td>1</td>\n",
       "        <td>4</td>\n",
       "    </tr>\n",
       "</table>"
      ],
      "text/plain": [
       "[(42, 10),\n",
       " (6, 9),\n",
       " (39, 6),\n",
       " (29, 5),\n",
       " (55, 5),\n",
       " (17, 4),\n",
       " (26, 4),\n",
       " (36, 4),\n",
       " (27, 4),\n",
       " (1, 4)]"
      ]
     },
     "execution_count": 12,
     "metadata": {},
     "output_type": "execute_result"
    }
   ],
   "source": [
    "%%sql\n",
    "SELECT orig_state, COUNT(*) AS count \n",
    "FROM CF\n",
    "GROUP BY orig_state\n",
    "ORDER BY count DESC\n",
    "LIMIT 10;"
   ]
  },
  {
   "cell_type": "markdown",
   "metadata": {},
   "source": [
    "## <br><br>Create Star Schema"
   ]
  },
  {
   "cell_type": "markdown",
   "metadata": {},
   "source": [
    "First we begin by creating our fact table and populating it with all of the data from the original CF table."
   ]
  },
  {
   "cell_type": "code",
   "execution_count": 13,
   "metadata": {
    "collapsed": false
   },
   "outputs": [
    {
     "name": "stdout",
     "output_type": "stream",
     "text": [
      "Done.\n",
      "114 rows affected.\n"
     ]
    },
    {
     "data": {
      "text/plain": [
       "[]"
      ]
     },
     "execution_count": 13,
     "metadata": {},
     "output_type": "execute_result"
    }
   ],
   "source": [
    "%%sql\n",
    "DROP TABLE IF EXISTS cf_fact2;\n",
    "CREATE TABLE cf_fact2 AS\n",
    "    (SELECT * FROM CF);"
   ]
  },
  {
   "cell_type": "markdown",
   "metadata": {},
   "source": [
    "Next, we begin to create our dimensional tables and adding a primary key to each of them by altering the table after creating and adding a BIGSERIAL primary key identifier."
   ]
  },
  {
   "cell_type": "markdown",
   "metadata": {},
   "source": [
    "### <br>Control Dimension"
   ]
  },
  {
   "cell_type": "code",
   "execution_count": 14,
   "metadata": {
    "collapsed": false
   },
   "outputs": [
    {
     "name": "stdout",
     "output_type": "stream",
     "text": [
      "Done.\n",
      "4 rows affected.\n"
     ]
    },
    {
     "data": {
      "text/plain": [
       "[]"
      ]
     },
     "execution_count": 14,
     "metadata": {},
     "output_type": "execute_result"
    }
   ],
   "source": [
    "%%sql\n",
    "DROP TABLE IF EXISTS control_dimension;\n",
    "CREATE TABLE control_dimension AS\n",
    "    SELECT DISTINCT\n",
    "    temp_cntl_yn,\n",
    "    hazmat\n",
    "FROM CF;"
   ]
  },
  {
   "cell_type": "code",
   "execution_count": 15,
   "metadata": {
    "collapsed": false
   },
   "outputs": [
    {
     "name": "stdout",
     "output_type": "stream",
     "text": [
      "Done.\n"
     ]
    },
    {
     "data": {
      "text/plain": [
       "[]"
      ]
     },
     "execution_count": 15,
     "metadata": {},
     "output_type": "execute_result"
    }
   ],
   "source": [
    "%%sql\n",
    "ALTER TABLE control_dimension ADD COLUMN control_key BIGSERIAL PRIMARY KEY;"
   ]
  },
  {
   "cell_type": "markdown",
   "metadata": {},
   "source": [
    "### <br>Update Fact2 Table"
   ]
  },
  {
   "cell_type": "code",
   "execution_count": 16,
   "metadata": {
    "collapsed": false
   },
   "outputs": [
    {
     "name": "stdout",
     "output_type": "stream",
     "text": [
      "Done.\n",
      "114 rows affected.\n"
     ]
    },
    {
     "data": {
      "text/plain": [
       "[]"
      ]
     },
     "execution_count": 16,
     "metadata": {},
     "output_type": "execute_result"
    }
   ],
   "source": [
    "%%sql\n",
    "DROP TABLE IF EXISTS cf_fact3;\n",
    "CREATE TABLE cf_fact3 AS\n",
    "(\n",
    "SELECT f.shipmt_id, f.ORIG_STATE, f.ORIG_MA, f.ORIG_CFS_AREA, f.DEST_STATE, f.DEST_MA, f.DEST_CFS_AREA, f.NAICS, f.QUARTER,\n",
    "    f.SCTG, f.MODE, f.SHIPMT_VALUE, F.SHIPMT_WGHT, SHIPMT_DIST_GC, SHIPMT_DIST_ROUTED, f.EXPORT_YN, f.EXPORT_CNTRY, f.WGT_FACTOR, d.control_key\n",
    "FROM (SELECT * FROM control_dimension) AS d\n",
    "INNER JOIN (SELECT * FROM cf_fact2) AS f\n",
    "ON f.temp_cntl_yn = d.temp_cntl_yn\n",
    "AND f.HAZMAT = d.hazmat\n",
    "    )\n",
    ";"
   ]
  },
  {
   "cell_type": "code",
   "execution_count": 17,
   "metadata": {
    "collapsed": false
   },
   "outputs": [
    {
     "name": "stdout",
     "output_type": "stream",
     "text": [
      "5 rows affected.\n"
     ]
    },
    {
     "data": {
      "text/html": [
       "<table>\n",
       "    <tr>\n",
       "        <th>shipmt_id</th>\n",
       "        <th>orig_state</th>\n",
       "        <th>orig_ma</th>\n",
       "        <th>orig_cfs_area</th>\n",
       "        <th>dest_state</th>\n",
       "        <th>dest_ma</th>\n",
       "        <th>dest_cfs_area</th>\n",
       "        <th>naics</th>\n",
       "        <th>quarter</th>\n",
       "        <th>sctg</th>\n",
       "        <th>mode</th>\n",
       "        <th>shipmt_value</th>\n",
       "        <th>shipmt_wght</th>\n",
       "        <th>shipmt_dist_gc</th>\n",
       "        <th>shipmt_dist_routed</th>\n",
       "        <th>export_yn</th>\n",
       "        <th>export_cntry</th>\n",
       "        <th>wgt_factor</th>\n",
       "        <th>control_key</th>\n",
       "    </tr>\n",
       "    <tr>\n",
       "        <td>1</td>\n",
       "        <td>25</td>\n",
       "        <td>148</td>\n",
       "        <td>25-148</td>\n",
       "        <td>25</td>\n",
       "        <td>148</td>\n",
       "        <td>25-148</td>\n",
       "        <td>333</td>\n",
       "        <td>2</td>\n",
       "        <td>35</td>\n",
       "        <td>14</td>\n",
       "        <td>2178</td>\n",
       "        <td>11</td>\n",
       "        <td>14</td>\n",
       "        <td>17</td>\n",
       "        <td>False</td>\n",
       "        <td>N</td>\n",
       "        <td>208.5</td>\n",
       "        <td>3</td>\n",
       "    </tr>\n",
       "    <tr>\n",
       "        <td>2</td>\n",
       "        <td>42</td>\n",
       "        <td>428</td>\n",
       "        <td>42-428</td>\n",
       "        <td>6</td>\n",
       "        <td>41740</td>\n",
       "        <td>06-41740</td>\n",
       "        <td>311</td>\n",
       "        <td>3</td>\n",
       "        <td>35</td>\n",
       "        <td>14</td>\n",
       "        <td>344</td>\n",
       "        <td>11</td>\n",
       "        <td>2344</td>\n",
       "        <td>2734</td>\n",
       "        <td>False</td>\n",
       "        <td>N</td>\n",
       "        <td>193.3</td>\n",
       "        <td>3</td>\n",
       "    </tr>\n",
       "    <tr>\n",
       "        <td>3</td>\n",
       "        <td>26</td>\n",
       "        <td>220</td>\n",
       "        <td>26-220</td>\n",
       "        <td>47</td>\n",
       "        <td>314</td>\n",
       "        <td>47-314</td>\n",
       "        <td>322</td>\n",
       "        <td>2</td>\n",
       "        <td>27</td>\n",
       "        <td>4</td>\n",
       "        <td>4197</td>\n",
       "        <td>5134</td>\n",
       "        <td>470</td>\n",
       "        <td>579</td>\n",
       "        <td>False</td>\n",
       "        <td>N</td>\n",
       "        <td>51.2</td>\n",
       "        <td>3</td>\n",
       "    </tr>\n",
       "    <tr>\n",
       "        <td>4</td>\n",
       "        <td>20</td>\n",
       "        <td>556</td>\n",
       "        <td>20-556</td>\n",
       "        <td>20</td>\n",
       "        <td>556</td>\n",
       "        <td>20-556</td>\n",
       "        <td>323</td>\n",
       "        <td>1</td>\n",
       "        <td>29</td>\n",
       "        <td>4</td>\n",
       "        <td>116</td>\n",
       "        <td>6</td>\n",
       "        <td>3</td>\n",
       "        <td>3</td>\n",
       "        <td>False</td>\n",
       "        <td>N</td>\n",
       "        <td>238.7</td>\n",
       "        <td>3</td>\n",
       "    </tr>\n",
       "    <tr>\n",
       "        <td>5</td>\n",
       "        <td>12</td>\n",
       "        <td>99999</td>\n",
       "        <td>12-99999</td>\n",
       "        <td>12</td>\n",
       "        <td>99999</td>\n",
       "        <td>12-99999</td>\n",
       "        <td>4235</td>\n",
       "        <td>3</td>\n",
       "        <td>33</td>\n",
       "        <td>5</td>\n",
       "        <td>388</td>\n",
       "        <td>527</td>\n",
       "        <td>124</td>\n",
       "        <td>201</td>\n",
       "        <td>False</td>\n",
       "        <td>N</td>\n",
       "        <td>398.1</td>\n",
       "        <td>3</td>\n",
       "    </tr>\n",
       "</table>"
      ],
      "text/plain": [
       "[(1, 25, 148, '25-148', 25, 148, '25-148', 333, 2, 35, 14, 2178, 11, 14, 17, False, 'N', Decimal('208.5'), 3),\n",
       " (2, 42, 428, '42-428', 6, 41740, '06-41740', 311, 3, 35, 14, 344, 11, 2344, 2734, False, 'N', Decimal('193.3'), 3),\n",
       " (3, 26, 220, '26-220', 47, 314, '47-314', 322, 2, 27, 4, 4197, 5134, 470, 579, False, 'N', Decimal('51.2'), 3),\n",
       " (4, 20, 556, '20-556', 20, 556, '20-556', 323, 1, 29, 4, 116, 6, 3, 3, False, 'N', Decimal('238.7'), 3),\n",
       " (5, 12, 99999, '12-99999', 12, 99999, '12-99999', 4235, 3, 33, 5, 388, 527, 124, 201, False, 'N', Decimal('398.1'), 3)]"
      ]
     },
     "execution_count": 17,
     "metadata": {},
     "output_type": "execute_result"
    }
   ],
   "source": [
    "%%sql\n",
    "SELECT * FROM cf_fact3\n",
    "LIMIT 5;"
   ]
  },
  {
   "cell_type": "markdown",
   "metadata": {},
   "source": [
    "### <br>Export Dimension"
   ]
  },
  {
   "cell_type": "code",
   "execution_count": 18,
   "metadata": {
    "collapsed": false
   },
   "outputs": [
    {
     "name": "stdout",
     "output_type": "stream",
     "text": [
      "Done.\n",
      "3 rows affected.\n"
     ]
    },
    {
     "data": {
      "text/plain": [
       "[]"
      ]
     },
     "execution_count": 18,
     "metadata": {},
     "output_type": "execute_result"
    }
   ],
   "source": [
    "%%sql\n",
    "DROP TABLE IF EXISTS export_dimension;\n",
    "CREATE TABLE export_dimension AS\n",
    "    SELECT DISTINCT\n",
    "    export_yn,\n",
    "    export_cntry\n",
    "FROM CF;"
   ]
  },
  {
   "cell_type": "code",
   "execution_count": 19,
   "metadata": {
    "collapsed": false
   },
   "outputs": [
    {
     "name": "stdout",
     "output_type": "stream",
     "text": [
      "Done.\n"
     ]
    },
    {
     "data": {
      "text/plain": [
       "[]"
      ]
     },
     "execution_count": 19,
     "metadata": {},
     "output_type": "execute_result"
    }
   ],
   "source": [
    "%%sql\n",
    "ALTER TABLE export_dimension ADD COLUMN export_key BIGSERIAL PRIMARY KEY;"
   ]
  },
  {
   "cell_type": "markdown",
   "metadata": {},
   "source": [
    "### <br>Update Fact3 Table"
   ]
  },
  {
   "cell_type": "code",
   "execution_count": 20,
   "metadata": {
    "collapsed": false
   },
   "outputs": [
    {
     "name": "stdout",
     "output_type": "stream",
     "text": [
      "Done.\n",
      "114 rows affected.\n"
     ]
    },
    {
     "data": {
      "text/plain": [
       "[]"
      ]
     },
     "execution_count": 20,
     "metadata": {},
     "output_type": "execute_result"
    }
   ],
   "source": [
    "%%sql\n",
    "DROP TABLE IF EXISTS cf_fact4;\n",
    "CREATE TABLE cf_fact4 AS\n",
    "(\n",
    "SELECT f.SHIPMT_ID, f.ORIG_STATE, f.ORIG_MA, f.ORIG_CFS_AREA, f.DEST_STATE, f.DEST_MA, f.DEST_CFS_AREA,\n",
    "    f.NAICS, f.QUARTER, f.SCTG, f.MODE, f.SHIPMT_VALUE, f.SHIPMT_WGHT, f.SHIPMT_DIST_GC, f.SHIPMT_DIST_ROUTED, f.WGT_FACTOR,\n",
    "    f.control_key, d.export_key\n",
    "FROM (SELECT * FROM export_dimension) AS d\n",
    "INNER JOIN (SELECT * FROM cf_fact3) AS f\n",
    "ON d.export_yn = f.export_yn\n",
    "AND f.export_cntry = d.export_cntry\n",
    "    )\n",
    ";"
   ]
  },
  {
   "cell_type": "code",
   "execution_count": 21,
   "metadata": {
    "collapsed": false
   },
   "outputs": [
    {
     "name": "stdout",
     "output_type": "stream",
     "text": [
      "5 rows affected.\n"
     ]
    },
    {
     "data": {
      "text/html": [
       "<table>\n",
       "    <tr>\n",
       "        <th>shipmt_id</th>\n",
       "        <th>orig_state</th>\n",
       "        <th>orig_ma</th>\n",
       "        <th>orig_cfs_area</th>\n",
       "        <th>dest_state</th>\n",
       "        <th>dest_ma</th>\n",
       "        <th>dest_cfs_area</th>\n",
       "        <th>naics</th>\n",
       "        <th>quarter</th>\n",
       "        <th>sctg</th>\n",
       "        <th>mode</th>\n",
       "        <th>shipmt_value</th>\n",
       "        <th>shipmt_wght</th>\n",
       "        <th>shipmt_dist_gc</th>\n",
       "        <th>shipmt_dist_routed</th>\n",
       "        <th>wgt_factor</th>\n",
       "        <th>control_key</th>\n",
       "        <th>export_key</th>\n",
       "    </tr>\n",
       "    <tr>\n",
       "        <td>1</td>\n",
       "        <td>25</td>\n",
       "        <td>148</td>\n",
       "        <td>25-148</td>\n",
       "        <td>25</td>\n",
       "        <td>148</td>\n",
       "        <td>25-148</td>\n",
       "        <td>333</td>\n",
       "        <td>2</td>\n",
       "        <td>35</td>\n",
       "        <td>14</td>\n",
       "        <td>2178</td>\n",
       "        <td>11</td>\n",
       "        <td>14</td>\n",
       "        <td>17</td>\n",
       "        <td>208.5</td>\n",
       "        <td>3</td>\n",
       "        <td>3</td>\n",
       "    </tr>\n",
       "    <tr>\n",
       "        <td>2</td>\n",
       "        <td>42</td>\n",
       "        <td>428</td>\n",
       "        <td>42-428</td>\n",
       "        <td>6</td>\n",
       "        <td>41740</td>\n",
       "        <td>06-41740</td>\n",
       "        <td>311</td>\n",
       "        <td>3</td>\n",
       "        <td>35</td>\n",
       "        <td>14</td>\n",
       "        <td>344</td>\n",
       "        <td>11</td>\n",
       "        <td>2344</td>\n",
       "        <td>2734</td>\n",
       "        <td>193.3</td>\n",
       "        <td>3</td>\n",
       "        <td>3</td>\n",
       "    </tr>\n",
       "    <tr>\n",
       "        <td>3</td>\n",
       "        <td>26</td>\n",
       "        <td>220</td>\n",
       "        <td>26-220</td>\n",
       "        <td>47</td>\n",
       "        <td>314</td>\n",
       "        <td>47-314</td>\n",
       "        <td>322</td>\n",
       "        <td>2</td>\n",
       "        <td>27</td>\n",
       "        <td>4</td>\n",
       "        <td>4197</td>\n",
       "        <td>5134</td>\n",
       "        <td>470</td>\n",
       "        <td>579</td>\n",
       "        <td>51.2</td>\n",
       "        <td>3</td>\n",
       "        <td>3</td>\n",
       "    </tr>\n",
       "    <tr>\n",
       "        <td>4</td>\n",
       "        <td>20</td>\n",
       "        <td>556</td>\n",
       "        <td>20-556</td>\n",
       "        <td>20</td>\n",
       "        <td>556</td>\n",
       "        <td>20-556</td>\n",
       "        <td>323</td>\n",
       "        <td>1</td>\n",
       "        <td>29</td>\n",
       "        <td>4</td>\n",
       "        <td>116</td>\n",
       "        <td>6</td>\n",
       "        <td>3</td>\n",
       "        <td>3</td>\n",
       "        <td>238.7</td>\n",
       "        <td>3</td>\n",
       "        <td>3</td>\n",
       "    </tr>\n",
       "    <tr>\n",
       "        <td>5</td>\n",
       "        <td>12</td>\n",
       "        <td>99999</td>\n",
       "        <td>12-99999</td>\n",
       "        <td>12</td>\n",
       "        <td>99999</td>\n",
       "        <td>12-99999</td>\n",
       "        <td>4235</td>\n",
       "        <td>3</td>\n",
       "        <td>33</td>\n",
       "        <td>5</td>\n",
       "        <td>388</td>\n",
       "        <td>527</td>\n",
       "        <td>124</td>\n",
       "        <td>201</td>\n",
       "        <td>398.1</td>\n",
       "        <td>3</td>\n",
       "        <td>3</td>\n",
       "    </tr>\n",
       "</table>"
      ],
      "text/plain": [
       "[(1, 25, 148, '25-148', 25, 148, '25-148', 333, 2, 35, 14, 2178, 11, 14, 17, Decimal('208.5'), 3, 3),\n",
       " (2, 42, 428, '42-428', 6, 41740, '06-41740', 311, 3, 35, 14, 344, 11, 2344, 2734, Decimal('193.3'), 3, 3),\n",
       " (3, 26, 220, '26-220', 47, 314, '47-314', 322, 2, 27, 4, 4197, 5134, 470, 579, Decimal('51.2'), 3, 3),\n",
       " (4, 20, 556, '20-556', 20, 556, '20-556', 323, 1, 29, 4, 116, 6, 3, 3, Decimal('238.7'), 3, 3),\n",
       " (5, 12, 99999, '12-99999', 12, 99999, '12-99999', 4235, 3, 33, 5, 388, 527, 124, 201, Decimal('398.1'), 3, 3)]"
      ]
     },
     "execution_count": 21,
     "metadata": {},
     "output_type": "execute_result"
    }
   ],
   "source": [
    "%%sql\n",
    "SELECT * FROM cf_fact4\n",
    "LIMIT 5;"
   ]
  },
  {
   "cell_type": "markdown",
   "metadata": {},
   "source": [
    "### <br>Origin Dimension"
   ]
  },
  {
   "cell_type": "code",
   "execution_count": 22,
   "metadata": {
    "collapsed": false
   },
   "outputs": [
    {
     "name": "stdout",
     "output_type": "stream",
     "text": [
      "Done.\n",
      "69 rows affected.\n"
     ]
    },
    {
     "data": {
      "text/plain": [
       "[]"
      ]
     },
     "execution_count": 22,
     "metadata": {},
     "output_type": "execute_result"
    }
   ],
   "source": [
    "%%sql\n",
    "DROP TABLE IF EXISTS origin_dimension;\n",
    "CREATE TABLE origin_dimension AS\n",
    "    SELECT DISTINCT\n",
    "    orig_state,\n",
    "    orig_ma,\n",
    "    orig_cfs_area\n",
    "FROM CF;"
   ]
  },
  {
   "cell_type": "code",
   "execution_count": 23,
   "metadata": {
    "collapsed": false
   },
   "outputs": [
    {
     "name": "stdout",
     "output_type": "stream",
     "text": [
      "Done.\n"
     ]
    },
    {
     "data": {
      "text/plain": [
       "[]"
      ]
     },
     "execution_count": 23,
     "metadata": {},
     "output_type": "execute_result"
    }
   ],
   "source": [
    "%%sql\n",
    "ALTER TABLE origin_dimension ADD COLUMN origin_key BIGSERIAL PRIMARY KEY;"
   ]
  },
  {
   "cell_type": "markdown",
   "metadata": {},
   "source": [
    "### <br>Update Fact4 Table"
   ]
  },
  {
   "cell_type": "code",
   "execution_count": 24,
   "metadata": {
    "collapsed": false
   },
   "outputs": [
    {
     "name": "stdout",
     "output_type": "stream",
     "text": [
      "Done.\n",
      "114 rows affected.\n"
     ]
    },
    {
     "data": {
      "text/plain": [
       "[]"
      ]
     },
     "execution_count": 24,
     "metadata": {},
     "output_type": "execute_result"
    }
   ],
   "source": [
    "%%sql\n",
    "DROP TABLE IF EXISTS cf_fact5;\n",
    "CREATE TABLE cf_fact5 AS\n",
    "(\n",
    "SELECT f.SHIPMT_ID, f.DEST_STATE, f.DEST_MA, f.DEST_CFS_AREA, f.NAICS, f.QUARTER, f.SCTG, f.MODE, f.SHIPMT_VALUE, \n",
    "    f.SHIPMT_WGHT, f.SHIPMT_DIST_GC, f.SHIPMT_DIST_ROUTED, f.WGT_FACTOR, f.control_key, f.export_key, d.origin_key\n",
    "FROM (SELECT * FROM origin_dimension) AS d\n",
    "INNER JOIN (SELECT * FROM cf_fact4) AS f\n",
    "ON d.orig_state = f.orig_state\n",
    "AND d.orig_ma = f.orig_ma\n",
    "AND d.orig_cfs_area = f.orig_cfs_area\n",
    "    )\n",
    ";"
   ]
  },
  {
   "cell_type": "code",
   "execution_count": 25,
   "metadata": {
    "collapsed": false
   },
   "outputs": [
    {
     "name": "stdout",
     "output_type": "stream",
     "text": [
      "5 rows affected.\n"
     ]
    },
    {
     "data": {
      "text/html": [
       "<table>\n",
       "    <tr>\n",
       "        <th>shipmt_id</th>\n",
       "        <th>dest_state</th>\n",
       "        <th>dest_ma</th>\n",
       "        <th>dest_cfs_area</th>\n",
       "        <th>naics</th>\n",
       "        <th>quarter</th>\n",
       "        <th>sctg</th>\n",
       "        <th>mode</th>\n",
       "        <th>shipmt_value</th>\n",
       "        <th>shipmt_wght</th>\n",
       "        <th>shipmt_dist_gc</th>\n",
       "        <th>shipmt_dist_routed</th>\n",
       "        <th>wgt_factor</th>\n",
       "        <th>control_key</th>\n",
       "        <th>export_key</th>\n",
       "        <th>origin_key</th>\n",
       "    </tr>\n",
       "    <tr>\n",
       "        <td>1</td>\n",
       "        <td>25</td>\n",
       "        <td>148</td>\n",
       "        <td>25-148</td>\n",
       "        <td>333</td>\n",
       "        <td>2</td>\n",
       "        <td>35</td>\n",
       "        <td>14</td>\n",
       "        <td>2178</td>\n",
       "        <td>11</td>\n",
       "        <td>14</td>\n",
       "        <td>17</td>\n",
       "        <td>208.5</td>\n",
       "        <td>3</td>\n",
       "        <td>3</td>\n",
       "        <td>31</td>\n",
       "    </tr>\n",
       "    <tr>\n",
       "        <td>2</td>\n",
       "        <td>6</td>\n",
       "        <td>41740</td>\n",
       "        <td>06-41740</td>\n",
       "        <td>311</td>\n",
       "        <td>3</td>\n",
       "        <td>35</td>\n",
       "        <td>14</td>\n",
       "        <td>344</td>\n",
       "        <td>11</td>\n",
       "        <td>2344</td>\n",
       "        <td>2734</td>\n",
       "        <td>193.3</td>\n",
       "        <td>3</td>\n",
       "        <td>3</td>\n",
       "        <td>26</td>\n",
       "    </tr>\n",
       "    <tr>\n",
       "        <td>3</td>\n",
       "        <td>47</td>\n",
       "        <td>314</td>\n",
       "        <td>47-314</td>\n",
       "        <td>322</td>\n",
       "        <td>2</td>\n",
       "        <td>27</td>\n",
       "        <td>4</td>\n",
       "        <td>4197</td>\n",
       "        <td>5134</td>\n",
       "        <td>470</td>\n",
       "        <td>579</td>\n",
       "        <td>51.2</td>\n",
       "        <td>3</td>\n",
       "        <td>3</td>\n",
       "        <td>59</td>\n",
       "    </tr>\n",
       "    <tr>\n",
       "        <td>4</td>\n",
       "        <td>20</td>\n",
       "        <td>556</td>\n",
       "        <td>20-556</td>\n",
       "        <td>323</td>\n",
       "        <td>1</td>\n",
       "        <td>29</td>\n",
       "        <td>4</td>\n",
       "        <td>116</td>\n",
       "        <td>6</td>\n",
       "        <td>3</td>\n",
       "        <td>3</td>\n",
       "        <td>238.7</td>\n",
       "        <td>3</td>\n",
       "        <td>3</td>\n",
       "        <td>17</td>\n",
       "    </tr>\n",
       "    <tr>\n",
       "        <td>5</td>\n",
       "        <td>12</td>\n",
       "        <td>99999</td>\n",
       "        <td>12-99999</td>\n",
       "        <td>4235</td>\n",
       "        <td>3</td>\n",
       "        <td>33</td>\n",
       "        <td>5</td>\n",
       "        <td>388</td>\n",
       "        <td>527</td>\n",
       "        <td>124</td>\n",
       "        <td>201</td>\n",
       "        <td>398.1</td>\n",
       "        <td>3</td>\n",
       "        <td>3</td>\n",
       "        <td>15</td>\n",
       "    </tr>\n",
       "</table>"
      ],
      "text/plain": [
       "[(1, 25, 148, '25-148', 333, 2, 35, 14, 2178, 11, 14, 17, Decimal('208.5'), 3, 3, 31),\n",
       " (2, 6, 41740, '06-41740', 311, 3, 35, 14, 344, 11, 2344, 2734, Decimal('193.3'), 3, 3, 26),\n",
       " (3, 47, 314, '47-314', 322, 2, 27, 4, 4197, 5134, 470, 579, Decimal('51.2'), 3, 3, 59),\n",
       " (4, 20, 556, '20-556', 323, 1, 29, 4, 116, 6, 3, 3, Decimal('238.7'), 3, 3, 17),\n",
       " (5, 12, 99999, '12-99999', 4235, 3, 33, 5, 388, 527, 124, 201, Decimal('398.1'), 3, 3, 15)]"
      ]
     },
     "execution_count": 25,
     "metadata": {},
     "output_type": "execute_result"
    }
   ],
   "source": [
    "%%sql\n",
    "SELECT * FROM cf_fact5\n",
    "LIMIT 5;"
   ]
  },
  {
   "cell_type": "markdown",
   "metadata": {},
   "source": [
    "### <br>Destination Dimension"
   ]
  },
  {
   "cell_type": "code",
   "execution_count": 26,
   "metadata": {
    "collapsed": false
   },
   "outputs": [
    {
     "name": "stdout",
     "output_type": "stream",
     "text": [
      "Done.\n",
      "67 rows affected.\n"
     ]
    },
    {
     "data": {
      "text/plain": [
       "[]"
      ]
     },
     "execution_count": 26,
     "metadata": {},
     "output_type": "execute_result"
    }
   ],
   "source": [
    "%%sql\n",
    "DROP TABLE IF EXISTS dest_dimension;\n",
    "CREATE TABLE dest_dimension AS\n",
    "    SELECT DISTINCT\n",
    "    dest_state,\n",
    "    dest_ma,\n",
    "    dest_cfs_area\n",
    "FROM CF;"
   ]
  },
  {
   "cell_type": "code",
   "execution_count": 27,
   "metadata": {
    "collapsed": false
   },
   "outputs": [
    {
     "name": "stdout",
     "output_type": "stream",
     "text": [
      "Done.\n"
     ]
    },
    {
     "data": {
      "text/plain": [
       "[]"
      ]
     },
     "execution_count": 27,
     "metadata": {},
     "output_type": "execute_result"
    }
   ],
   "source": [
    "%%sql\n",
    "ALTER TABLE dest_dimension ADD COLUMN dest_key BIGSERIAL PRIMARY KEY;"
   ]
  },
  {
   "cell_type": "markdown",
   "metadata": {},
   "source": [
    "### <br>Update Fact5 Table"
   ]
  },
  {
   "cell_type": "code",
   "execution_count": 28,
   "metadata": {
    "collapsed": false
   },
   "outputs": [
    {
     "name": "stdout",
     "output_type": "stream",
     "text": [
      "Done.\n",
      "114 rows affected.\n"
     ]
    },
    {
     "data": {
      "text/plain": [
       "[]"
      ]
     },
     "execution_count": 28,
     "metadata": {},
     "output_type": "execute_result"
    }
   ],
   "source": [
    "%%sql\n",
    "DROP TABLE IF EXISTS cf_fact6;\n",
    "CREATE TABLE cf_fact6 AS\n",
    "(\n",
    "SELECT f.SHIPMT_ID, f.NAICS, f.QUARTER, f.SCTG, f.MODE, f.SHIPMT_VALUE, f.SHIPMT_WGHT, f.SHIPMT_DIST_GC, \n",
    "    f.SHIPMT_DIST_ROUTED, f.WGT_FACTOR, f.control_key, f.export_key, f.origin_key, d.dest_key\n",
    "FROM (SELECT * FROM dest_dimension) AS d\n",
    "INNER JOIN (SELECT * FROM cf_fact5) AS f\n",
    "ON d.dest_state = f.dest_state\n",
    "AND d.dest_ma = f.dest_ma\n",
    "AND d.dest_cfs_area = f.dest_cfs_area\n",
    "    )\n",
    ";"
   ]
  },
  {
   "cell_type": "code",
   "execution_count": 29,
   "metadata": {
    "collapsed": false
   },
   "outputs": [
    {
     "name": "stdout",
     "output_type": "stream",
     "text": [
      "5 rows affected.\n"
     ]
    },
    {
     "data": {
      "text/html": [
       "<table>\n",
       "    <tr>\n",
       "        <th>shipmt_id</th>\n",
       "        <th>naics</th>\n",
       "        <th>quarter</th>\n",
       "        <th>sctg</th>\n",
       "        <th>mode</th>\n",
       "        <th>shipmt_value</th>\n",
       "        <th>shipmt_wght</th>\n",
       "        <th>shipmt_dist_gc</th>\n",
       "        <th>shipmt_dist_routed</th>\n",
       "        <th>wgt_factor</th>\n",
       "        <th>control_key</th>\n",
       "        <th>export_key</th>\n",
       "        <th>origin_key</th>\n",
       "        <th>dest_key</th>\n",
       "    </tr>\n",
       "    <tr>\n",
       "        <td>1</td>\n",
       "        <td>333</td>\n",
       "        <td>2</td>\n",
       "        <td>35</td>\n",
       "        <td>14</td>\n",
       "        <td>2178</td>\n",
       "        <td>11</td>\n",
       "        <td>14</td>\n",
       "        <td>17</td>\n",
       "        <td>208.5</td>\n",
       "        <td>3</td>\n",
       "        <td>3</td>\n",
       "        <td>31</td>\n",
       "        <td>30</td>\n",
       "    </tr>\n",
       "    <tr>\n",
       "        <td>2</td>\n",
       "        <td>311</td>\n",
       "        <td>3</td>\n",
       "        <td>35</td>\n",
       "        <td>14</td>\n",
       "        <td>344</td>\n",
       "        <td>11</td>\n",
       "        <td>2344</td>\n",
       "        <td>2734</td>\n",
       "        <td>193.3</td>\n",
       "        <td>3</td>\n",
       "        <td>3</td>\n",
       "        <td>26</td>\n",
       "        <td>42</td>\n",
       "    </tr>\n",
       "    <tr>\n",
       "        <td>3</td>\n",
       "        <td>322</td>\n",
       "        <td>2</td>\n",
       "        <td>27</td>\n",
       "        <td>4</td>\n",
       "        <td>4197</td>\n",
       "        <td>5134</td>\n",
       "        <td>470</td>\n",
       "        <td>579</td>\n",
       "        <td>51.2</td>\n",
       "        <td>3</td>\n",
       "        <td>3</td>\n",
       "        <td>59</td>\n",
       "        <td>4</td>\n",
       "    </tr>\n",
       "    <tr>\n",
       "        <td>4</td>\n",
       "        <td>323</td>\n",
       "        <td>1</td>\n",
       "        <td>29</td>\n",
       "        <td>4</td>\n",
       "        <td>116</td>\n",
       "        <td>6</td>\n",
       "        <td>3</td>\n",
       "        <td>3</td>\n",
       "        <td>238.7</td>\n",
       "        <td>3</td>\n",
       "        <td>3</td>\n",
       "        <td>17</td>\n",
       "        <td>18</td>\n",
       "    </tr>\n",
       "    <tr>\n",
       "        <td>5</td>\n",
       "        <td>4235</td>\n",
       "        <td>3</td>\n",
       "        <td>33</td>\n",
       "        <td>5</td>\n",
       "        <td>388</td>\n",
       "        <td>527</td>\n",
       "        <td>124</td>\n",
       "        <td>201</td>\n",
       "        <td>398.1</td>\n",
       "        <td>3</td>\n",
       "        <td>3</td>\n",
       "        <td>15</td>\n",
       "        <td>16</td>\n",
       "    </tr>\n",
       "</table>"
      ],
      "text/plain": [
       "[(1, 333, 2, 35, 14, 2178, 11, 14, 17, Decimal('208.5'), 3, 3, 31, 30),\n",
       " (2, 311, 3, 35, 14, 344, 11, 2344, 2734, Decimal('193.3'), 3, 3, 26, 42),\n",
       " (3, 322, 2, 27, 4, 4197, 5134, 470, 579, Decimal('51.2'), 3, 3, 59, 4),\n",
       " (4, 323, 1, 29, 4, 116, 6, 3, 3, Decimal('238.7'), 3, 3, 17, 18),\n",
       " (5, 4235, 3, 33, 5, 388, 527, 124, 201, Decimal('398.1'), 3, 3, 15, 16)]"
      ]
     },
     "execution_count": 29,
     "metadata": {},
     "output_type": "execute_result"
    }
   ],
   "source": [
    "%%sql\n",
    "SELECT * FROM cf_fact6\n",
    "LIMIT 5;"
   ]
  },
  {
   "cell_type": "markdown",
   "metadata": {},
   "source": [
    "### <br> Shipment dimension"
   ]
  },
  {
   "cell_type": "code",
   "execution_count": 30,
   "metadata": {
    "collapsed": false
   },
   "outputs": [
    {
     "name": "stdout",
     "output_type": "stream",
     "text": [
      "Done.\n",
      "92 rows affected.\n"
     ]
    },
    {
     "data": {
      "text/plain": [
       "[]"
      ]
     },
     "execution_count": 30,
     "metadata": {},
     "output_type": "execute_result"
    }
   ],
   "source": [
    "%%sql\n",
    "DROP TABLE IF EXISTS shipment_dimension;\n",
    "CREATE TABLE shipment_dimension AS\n",
    "    SELECT DISTINCT\n",
    "    naics,\n",
    "    sctg,\n",
    "    mode\n",
    "FROM CF;"
   ]
  },
  {
   "cell_type": "code",
   "execution_count": 31,
   "metadata": {
    "collapsed": false
   },
   "outputs": [
    {
     "name": "stdout",
     "output_type": "stream",
     "text": [
      "Done.\n"
     ]
    },
    {
     "data": {
      "text/plain": [
       "[]"
      ]
     },
     "execution_count": 31,
     "metadata": {},
     "output_type": "execute_result"
    }
   ],
   "source": [
    "%%sql\n",
    "ALTER TABLE shipment_dimension ADD COLUMN shipment_key BIGSERIAL PRIMARY KEY;"
   ]
  },
  {
   "cell_type": "code",
   "execution_count": 32,
   "metadata": {
    "collapsed": false
   },
   "outputs": [
    {
     "name": "stdout",
     "output_type": "stream",
     "text": [
      "Done.\n",
      "114 rows affected.\n"
     ]
    },
    {
     "data": {
      "text/plain": [
       "[]"
      ]
     },
     "execution_count": 32,
     "metadata": {},
     "output_type": "execute_result"
    }
   ],
   "source": [
    "%%sql\n",
    "DROP TABLE IF EXISTS cf_fact;\n",
    "CREATE TABLE cf_fact AS\n",
    "(\n",
    "SELECT f.SHIPMT_ID, f.QUARTER, f.SHIPMT_VALUE, f.SHIPMT_WGHT, f.SHIPMT_DIST_GC, \n",
    "    f.SHIPMT_DIST_ROUTED, f.WGT_FACTOR, f.control_key, f.export_key, f.origin_key, f.dest_key, d.shipment_key\n",
    "FROM (SELECT * FROM shipment_dimension) AS d\n",
    "INNER JOIN (SELECT * FROM cf_fact6) AS f\n",
    "ON d.naics = f.naics\n",
    "AND d.sctg = f.sctg\n",
    "AND d.mode = f.mode\n",
    "    )\n",
    ";"
   ]
  },
  {
   "cell_type": "code",
   "execution_count": 33,
   "metadata": {
    "collapsed": false
   },
   "outputs": [
    {
     "name": "stdout",
     "output_type": "stream",
     "text": [
      "Done.\n"
     ]
    },
    {
     "data": {
      "text/plain": [
       "[]"
      ]
     },
     "execution_count": 33,
     "metadata": {},
     "output_type": "execute_result"
    }
   ],
   "source": [
    "%%sql\n",
    "ALTER TABLE cf_fact\n",
    "ADD FOREIGN KEY (control_key) REFERENCES control_dimension(control_key),\n",
    "ADD FOREIGN KEY (export_key) REFERENCES export_dimension(export_key),\n",
    "ADD FOREIGN KEY (origin_key) REFERENCES origin_dimension(origin_key),\n",
    "ADD FOREIGN KEY (dest_key) REFERENCES dest_dimension(dest_key),\n",
    "ADD FOREIGN KEY (shipment_key) REFERENCES shipment_dimension(shipment_key);"
   ]
  },
  {
   "cell_type": "code",
   "execution_count": 34,
   "metadata": {
    "collapsed": false
   },
   "outputs": [
    {
     "name": "stdout",
     "output_type": "stream",
     "text": [
      "Done.\n",
      "Done.\n",
      "Done.\n",
      "Done.\n",
      "Done.\n"
     ]
    },
    {
     "data": {
      "text/plain": [
       "[]"
      ]
     },
     "execution_count": 34,
     "metadata": {},
     "output_type": "execute_result"
    }
   ],
   "source": [
    "%%sql\n",
    "DROP TABLE cf_fact2;\n",
    "DROP TABLE cf_fact3;\n",
    "DROP TABLE cf_fact4;\n",
    "DROP TABLE cf_fact5;\n",
    "DROP TABLE cf_fact6;"
   ]
  },
  {
   "cell_type": "markdown",
   "metadata": {},
   "source": [
    "## <br> Classification tables for states, transported goods, industries, and modes of transport"
   ]
  },
  {
   "cell_type": "markdown",
   "metadata": {},
   "source": [
    "In the data the states are reference by number (0-56). These numbers account for out of country (0), the 50 states, and DC. For some reason, theres are numbers missin (i.e. 3 and 7) so that is where the extra numbers come from. We are going to make a reference table for the origin and destination dimension tables so that we can look at the data using state names rather than reference numbers"
   ]
  },
  {
   "cell_type": "code",
   "execution_count": 35,
   "metadata": {
    "collapsed": false
   },
   "outputs": [
    {
     "name": "stdout",
     "output_type": "stream",
     "text": [
      "Done.\n",
      "Done.\n"
     ]
    },
    {
     "data": {
      "text/plain": [
       "[]"
      ]
     },
     "execution_count": 35,
     "metadata": {},
     "output_type": "execute_result"
    }
   ],
   "source": [
    "%%sql\n",
    "DROP TABLE IF EXISTS state_dimension;\n",
    "CREATE TABLE state_dimension(\n",
    "    state_id NUMERIC PRIMARY KEY,\n",
    "    state_name VARCHAR (50)\n",
    "    )\n",
    ";"
   ]
  },
  {
   "cell_type": "code",
   "execution_count": 36,
   "metadata": {
    "collapsed": false
   },
   "outputs": [
    {
     "name": "stdout",
     "output_type": "stream",
     "text": [
      "52 rows affected.\n"
     ]
    },
    {
     "data": {
      "text/plain": [
       "[]"
      ]
     },
     "execution_count": 36,
     "metadata": {},
     "output_type": "execute_result"
    }
   ],
   "source": [
    "%%sql\n",
    "INSERT INTO state_dimension (state_id, state_name)\n",
    "VALUES (0, 'Out 0f Country'), \n",
    "    (1, 'Alabama'),\n",
    "    (2, 'Alaska'),\n",
    "    (4, 'Arizona'),\n",
    "    (5, 'Arkansas'),\n",
    "    (6, 'California'),\n",
    "    (8, 'Colorado'),\n",
    "    (9, 'Connecticut'),\n",
    "    (10, 'Delaware'),\n",
    "    (11, 'DC'),\n",
    "    (12, 'Florida'),\n",
    "    (13, 'Georgia'),\n",
    "    (15, 'Hawaii'),\n",
    "    (16, 'Idaho'),\n",
    "    (17, 'Illinois'),\n",
    "    (18, 'Indiana'),\n",
    "    (19, 'Iowa'),\n",
    "    (20, 'Kansas'),\n",
    "    (21, 'Kentucky'),\n",
    "    (22, 'Louisiana'),\n",
    "    (23, 'Maine'),\n",
    "    (24, 'Maryland'),\n",
    "    (25, 'Massachusetts'),\n",
    "    (26, 'Michigan'),\n",
    "    (27, 'Minnesota'),\n",
    "    (28, 'Mississippi'),\n",
    "    (29, 'Missouri'),\n",
    "    (30, 'Montana'),\n",
    "    (31, 'Nebraska'),\n",
    "    (32, 'Nevada'),\n",
    "    (33, 'New Hampshire'),\n",
    "    (34, 'New Jersey'),\n",
    "    (35, 'New Mexico'),\n",
    "    (36, 'New York'),\n",
    "    (37, 'North Carolina'),\n",
    "    (38, 'North Dakota'),\n",
    "    (39, 'Ohio'),\n",
    "    (40, 'Oklahoma'),\n",
    "    (41, 'Oregon'),\n",
    "    (42, 'Pennsylvania'),\n",
    "    (44, 'Rhode Island'),\n",
    "    (45, 'South Carolina'),\n",
    "    (46, 'South Dakota'),\n",
    "    (47, 'Tennessee'),\n",
    "    (48, 'Texas'),\n",
    "    (49, 'Utah'),\n",
    "    (50, 'Vermont'),\n",
    "    (51, 'Virginia'),\n",
    "    (53, 'Washington'),\n",
    "    (54, 'West Virgina'),\n",
    "    (55, 'Wisconsin'),\n",
    "    (56, 'Wyoming');"
   ]
  },
  {
   "cell_type": "code",
   "execution_count": 37,
   "metadata": {
    "collapsed": false
   },
   "outputs": [
    {
     "name": "stdout",
     "output_type": "stream",
     "text": [
      "10 rows affected.\n"
     ]
    },
    {
     "data": {
      "text/html": [
       "<table>\n",
       "    <tr>\n",
       "        <th>state_id</th>\n",
       "        <th>state_name</th>\n",
       "    </tr>\n",
       "    <tr>\n",
       "        <td>0</td>\n",
       "        <td>Out 0f Country</td>\n",
       "    </tr>\n",
       "    <tr>\n",
       "        <td>1</td>\n",
       "        <td>Alabama</td>\n",
       "    </tr>\n",
       "    <tr>\n",
       "        <td>2</td>\n",
       "        <td>Alaska</td>\n",
       "    </tr>\n",
       "    <tr>\n",
       "        <td>4</td>\n",
       "        <td>Arizona</td>\n",
       "    </tr>\n",
       "    <tr>\n",
       "        <td>5</td>\n",
       "        <td>Arkansas</td>\n",
       "    </tr>\n",
       "    <tr>\n",
       "        <td>6</td>\n",
       "        <td>California</td>\n",
       "    </tr>\n",
       "    <tr>\n",
       "        <td>8</td>\n",
       "        <td>Colorado</td>\n",
       "    </tr>\n",
       "    <tr>\n",
       "        <td>9</td>\n",
       "        <td>Connecticut</td>\n",
       "    </tr>\n",
       "    <tr>\n",
       "        <td>10</td>\n",
       "        <td>Delaware</td>\n",
       "    </tr>\n",
       "    <tr>\n",
       "        <td>11</td>\n",
       "        <td>DC</td>\n",
       "    </tr>\n",
       "</table>"
      ],
      "text/plain": [
       "[(Decimal('0'), 'Out 0f Country'),\n",
       " (Decimal('1'), 'Alabama'),\n",
       " (Decimal('2'), 'Alaska'),\n",
       " (Decimal('4'), 'Arizona'),\n",
       " (Decimal('5'), 'Arkansas'),\n",
       " (Decimal('6'), 'California'),\n",
       " (Decimal('8'), 'Colorado'),\n",
       " (Decimal('9'), 'Connecticut'),\n",
       " (Decimal('10'), 'Delaware'),\n",
       " (Decimal('11'), 'DC')]"
      ]
     },
     "execution_count": 37,
     "metadata": {},
     "output_type": "execute_result"
    }
   ],
   "source": [
    "%%sql\n",
    "SELECT *\n",
    "FROM state_dimension\n",
    "LIMIT 10;"
   ]
  },
  {
   "cell_type": "code",
   "execution_count": 38,
   "metadata": {
    "collapsed": false
   },
   "outputs": [
    {
     "name": "stdout",
     "output_type": "stream",
     "text": [
      "Done.\n"
     ]
    },
    {
     "data": {
      "text/plain": [
       "[]"
      ]
     },
     "execution_count": 38,
     "metadata": {},
     "output_type": "execute_result"
    }
   ],
   "source": [
    "%%sql\n",
    "ALTER TABLE origin_dimension\n",
    "ADD FOREIGN KEY (orig_state) REFERENCES state_dimension(state_id);"
   ]
  },
  {
   "cell_type": "code",
   "execution_count": 39,
   "metadata": {
    "collapsed": false
   },
   "outputs": [
    {
     "name": "stdout",
     "output_type": "stream",
     "text": [
      "Done.\n"
     ]
    },
    {
     "data": {
      "text/plain": [
       "[]"
      ]
     },
     "execution_count": 39,
     "metadata": {},
     "output_type": "execute_result"
    }
   ],
   "source": [
    "%%sql\n",
    "ALTER TABLE dest_dimension\n",
    "ADD FOREIGN KEY (dest_state) REFERENCES state_dimension(state_id);"
   ]
  },
  {
   "cell_type": "markdown",
   "metadata": {},
   "source": [
    "<br>Now we can check whether our dimension was created properly"
   ]
  },
  {
   "cell_type": "code",
   "execution_count": 56,
   "metadata": {
    "collapsed": false
   },
   "outputs": [
    {
     "name": "stdout",
     "output_type": "stream",
     "text": [
      "20 rows affected.\n"
     ]
    },
    {
     "data": {
      "text/html": [
       "<table>\n",
       "    <tr>\n",
       "        <th>shipmt_value</th>\n",
       "        <th>shipmt_wght</th>\n",
       "        <th>orig_state</th>\n",
       "        <th>state_name</th>\n",
       "    </tr>\n",
       "    <tr>\n",
       "        <td>2178</td>\n",
       "        <td>11</td>\n",
       "        <td>25</td>\n",
       "        <td>Massachusetts</td>\n",
       "    </tr>\n",
       "    <tr>\n",
       "        <td>344</td>\n",
       "        <td>11</td>\n",
       "        <td>42</td>\n",
       "        <td>Pennsylvania</td>\n",
       "    </tr>\n",
       "    <tr>\n",
       "        <td>4197</td>\n",
       "        <td>5134</td>\n",
       "        <td>26</td>\n",
       "        <td>Michigan</td>\n",
       "    </tr>\n",
       "    <tr>\n",
       "        <td>116</td>\n",
       "        <td>6</td>\n",
       "        <td>20</td>\n",
       "        <td>Kansas</td>\n",
       "    </tr>\n",
       "    <tr>\n",
       "        <td>388</td>\n",
       "        <td>527</td>\n",
       "        <td>12</td>\n",
       "        <td>Florida</td>\n",
       "    </tr>\n",
       "    <tr>\n",
       "        <td>3716</td>\n",
       "        <td>1132</td>\n",
       "        <td>24</td>\n",
       "        <td>Maryland</td>\n",
       "    </tr>\n",
       "    <tr>\n",
       "        <td>43738</td>\n",
       "        <td>13501</td>\n",
       "        <td>19</td>\n",
       "        <td>Iowa</td>\n",
       "    </tr>\n",
       "    <tr>\n",
       "        <td>77</td>\n",
       "        <td>4</td>\n",
       "        <td>6</td>\n",
       "        <td>California</td>\n",
       "    </tr>\n",
       "    <tr>\n",
       "        <td>338</td>\n",
       "        <td>12826</td>\n",
       "        <td>19</td>\n",
       "        <td>Iowa</td>\n",
       "    </tr>\n",
       "    <tr>\n",
       "        <td>145</td>\n",
       "        <td>22</td>\n",
       "        <td>13</td>\n",
       "        <td>Georgia</td>\n",
       "    </tr>\n",
       "    <tr>\n",
       "        <td>482</td>\n",
       "        <td>1</td>\n",
       "        <td>55</td>\n",
       "        <td>Wisconsin</td>\n",
       "    </tr>\n",
       "    <tr>\n",
       "        <td>7543</td>\n",
       "        <td>3960</td>\n",
       "        <td>39</td>\n",
       "        <td>Ohio</td>\n",
       "    </tr>\n",
       "    <tr>\n",
       "        <td>1159</td>\n",
       "        <td>3</td>\n",
       "        <td>33</td>\n",
       "        <td>New Hampshire</td>\n",
       "    </tr>\n",
       "    <tr>\n",
       "        <td>1422</td>\n",
       "        <td>49037</td>\n",
       "        <td>31</td>\n",
       "        <td>Nebraska</td>\n",
       "    </tr>\n",
       "    <tr>\n",
       "        <td>52</td>\n",
       "        <td>11</td>\n",
       "        <td>26</td>\n",
       "        <td>Michigan</td>\n",
       "    </tr>\n",
       "    <tr>\n",
       "        <td>283</td>\n",
       "        <td>30</td>\n",
       "        <td>39</td>\n",
       "        <td>Ohio</td>\n",
       "    </tr>\n",
       "    <tr>\n",
       "        <td>21303</td>\n",
       "        <td>65994</td>\n",
       "        <td>54</td>\n",
       "        <td>West Virgina</td>\n",
       "    </tr>\n",
       "    <tr>\n",
       "        <td>461</td>\n",
       "        <td>110</td>\n",
       "        <td>32</td>\n",
       "        <td>Nevada</td>\n",
       "    </tr>\n",
       "    <tr>\n",
       "        <td>577</td>\n",
       "        <td>6</td>\n",
       "        <td>42</td>\n",
       "        <td>Pennsylvania</td>\n",
       "    </tr>\n",
       "    <tr>\n",
       "        <td>125</td>\n",
       "        <td>3</td>\n",
       "        <td>9</td>\n",
       "        <td>Connecticut</td>\n",
       "    </tr>\n",
       "</table>"
      ],
      "text/plain": [
       "[(2178, 11, 25, 'Massachusetts'),\n",
       " (344, 11, 42, 'Pennsylvania'),\n",
       " (4197, 5134, 26, 'Michigan'),\n",
       " (116, 6, 20, 'Kansas'),\n",
       " (388, 527, 12, 'Florida'),\n",
       " (3716, 1132, 24, 'Maryland'),\n",
       " (43738, 13501, 19, 'Iowa'),\n",
       " (77, 4, 6, 'California'),\n",
       " (338, 12826, 19, 'Iowa'),\n",
       " (145, 22, 13, 'Georgia'),\n",
       " (482, 1, 55, 'Wisconsin'),\n",
       " (7543, 3960, 39, 'Ohio'),\n",
       " (1159, 3, 33, 'New Hampshire'),\n",
       " (1422, 49037, 31, 'Nebraska'),\n",
       " (52, 11, 26, 'Michigan'),\n",
       " (283, 30, 39, 'Ohio'),\n",
       " (21303, 65994, 54, 'West Virgina'),\n",
       " (461, 110, 32, 'Nevada'),\n",
       " (577, 6, 42, 'Pennsylvania'),\n",
       " (125, 3, 9, 'Connecticut')]"
      ]
     },
     "execution_count": 56,
     "metadata": {},
     "output_type": "execute_result"
    }
   ],
   "source": [
    "%%sql\n",
    "SELECT cf_fact.shipmt_value, cf_fact.shipmt_wght, origin_dimension.orig_state, state_dimension.state_name\n",
    "FROM origin_dimension, state_dimension, cf_fact\n",
    "WHERE cf_fact.origin_key = origin_dimension.origin_key\n",
    "AND origin_dimension.orig_state = state_dimension.state_id\n",
    "LIMIT 20;"
   ]
  },
  {
   "cell_type": "markdown",
   "metadata": {},
   "source": [
    "<br> We use the same method to create a dimension that defines the codes for transported goods in the shipment dimension"
   ]
  },
  {
   "cell_type": "code",
   "execution_count": 41,
   "metadata": {
    "collapsed": false
   },
   "outputs": [
    {
     "name": "stdout",
     "output_type": "stream",
     "text": [
      "Done.\n",
      "Done.\n"
     ]
    },
    {
     "data": {
      "text/plain": [
       "[]"
      ]
     },
     "execution_count": 41,
     "metadata": {},
     "output_type": "execute_result"
    }
   ],
   "source": [
    "%%sql\n",
    "DROP TABLE IF EXISTS goods_classification;\n",
    "CREATE TABLE goods_classification(\n",
    "    class_id INTEGER PRIMARY KEY,\n",
    "    class_descr VARCHAR (100)\n",
    "    )\n",
    ";"
   ]
  },
  {
   "cell_type": "code",
   "execution_count": 42,
   "metadata": {
    "collapsed": false
   },
   "outputs": [
    {
     "name": "stdout",
     "output_type": "stream",
     "text": [
      "44 rows affected.\n"
     ]
    },
    {
     "data": {
      "text/plain": [
       "[]"
      ]
     },
     "execution_count": 42,
     "metadata": {},
     "output_type": "execute_result"
    }
   ],
   "source": [
    "%%sql\n",
    "INSERT INTO goods_classification (class_id, class_descr)\n",
    "VALUES\n",
    "(01,'Animals and Fish (live)'),\n",
    "(02,'Cereal Grains (includes seed'),\n",
    "(03,'Agricultural Products (excludes Animal Feed, Cereal Grains, and Forage Products'),\n",
    "(04,'Animal Feed, Eggs, Honey, and Other Products of Animal Origin'),\n",
    "(05,'Meat, Poultry, Fish, Seafood, and Their Preparations'),\n",
    "(06,'Milled Grain Products and Preparations, and Bakery Products'),\n",
    "(07,'Other Prepared Foodstuffs, and Fats and Oils'),\n",
    "(08,'Alcoholic Beverages and Denatured Alcohol'),\n",
    "(09,'Tobacco Products'),\n",
    "(10,'Monumental or Building Stone'),\n",
    "(11,'Natural Sands'),\n",
    "(12,'Gravel and Crushed Stone (excludes Dolomite and Slate)'),\n",
    "(13,'Other Non-Metallic Minerals not elsewhere classified'),\n",
    "(14,'Metallic Ores and Concentrates'),\n",
    "(15,'Coal'),\n",
    "(16,'Crude Petroleum'),\n",
    "(17,'Gasoline, Aviation Turbine Fuel, and Ethanol (includes Kerosene, and Fuel Alcohols)'),\n",
    "(18,'Fuel Oils (includes Diesel, Bunker C, and Biodiesel)'),\n",
    "(19,'Other Coal and Petroleum Products, not elsewhere classified'),\n",
    "(20,'Basic Chemicals'),\n",
    "(21,'Pharmaceutical Products'),\n",
    "(22,'Fertilizers'),\n",
    "(23,'Other Chemical Products and Preparations'),\n",
    "(24,'Plastics and Rubber'),\n",
    "(25,'Logs and Other Wood in the Rough'),\n",
    "(26,'Wood Products'),\n",
    "(27,'Pulp, Newsprint, Paper, and Paperboard'),\n",
    "(28,'Paper or Paperboard Articles'),\n",
    "(29,'Printed Products'),\n",
    "(30,'Textiles, Leather, and Articles of Textiles or Leather'),\n",
    "(31,'Non-Metallic Mineral Products'),\n",
    "(32,'Base Metal in Primary or Semi-Finished Forms and in Finished Basic Shapes'),\n",
    "(33,'Articles of Base Metal'),\n",
    "(34,'Machinery'),\n",
    "(35,'Electronic and Other Electrical Equipment and Components, and Office Equipment'),\n",
    "(36,'Motorized and Other Vehicles (includes parts)'),\n",
    "(37,'Transportation Equipment, not elsewhere classified'),\n",
    "(38,'Precision Instruments and Apparatus'),\n",
    "(39,'Furniture, Mattresses and Mattress Supports, Lamps, Lighting Fittings, and Illuminated Signs'),\n",
    "(40,'Miscellaneous Manufactured Products'),\n",
    "(41,'Waste and Scrap (excludes of agriculture or food, see 041xx)'),\n",
    "(43,'Mixed Freight'),\n",
    "(99,'Missing Code'),\n",
    "(00,'SCTG suppressed')\n",
    ";"
   ]
  },
  {
   "cell_type": "code",
   "execution_count": 43,
   "metadata": {
    "collapsed": false
   },
   "outputs": [
    {
     "name": "stdout",
     "output_type": "stream",
     "text": [
      "10 rows affected.\n"
     ]
    },
    {
     "data": {
      "text/html": [
       "<table>\n",
       "    <tr>\n",
       "        <th>class_id</th>\n",
       "        <th>class_descr</th>\n",
       "    </tr>\n",
       "    <tr>\n",
       "        <td>1</td>\n",
       "        <td>Animals and Fish (live)</td>\n",
       "    </tr>\n",
       "    <tr>\n",
       "        <td>2</td>\n",
       "        <td>Cereal Grains (includes seed</td>\n",
       "    </tr>\n",
       "    <tr>\n",
       "        <td>3</td>\n",
       "        <td>Agricultural Products (excludes Animal Feed, Cereal Grains, and Forage Products</td>\n",
       "    </tr>\n",
       "    <tr>\n",
       "        <td>4</td>\n",
       "        <td>Animal Feed, Eggs, Honey, and Other Products of Animal Origin</td>\n",
       "    </tr>\n",
       "    <tr>\n",
       "        <td>5</td>\n",
       "        <td>Meat, Poultry, Fish, Seafood, and Their Preparations</td>\n",
       "    </tr>\n",
       "    <tr>\n",
       "        <td>6</td>\n",
       "        <td>Milled Grain Products and Preparations, and Bakery Products</td>\n",
       "    </tr>\n",
       "    <tr>\n",
       "        <td>7</td>\n",
       "        <td>Other Prepared Foodstuffs, and Fats and Oils</td>\n",
       "    </tr>\n",
       "    <tr>\n",
       "        <td>8</td>\n",
       "        <td>Alcoholic Beverages and Denatured Alcohol</td>\n",
       "    </tr>\n",
       "    <tr>\n",
       "        <td>9</td>\n",
       "        <td>Tobacco Products</td>\n",
       "    </tr>\n",
       "    <tr>\n",
       "        <td>10</td>\n",
       "        <td>Monumental or Building Stone</td>\n",
       "    </tr>\n",
       "</table>"
      ],
      "text/plain": [
       "[(1, 'Animals and Fish (live)'),\n",
       " (2, 'Cereal Grains (includes seed'),\n",
       " (3, 'Agricultural Products (excludes Animal Feed, Cereal Grains, and Forage Products'),\n",
       " (4, 'Animal Feed, Eggs, Honey, and Other Products of Animal Origin'),\n",
       " (5, 'Meat, Poultry, Fish, Seafood, and Their Preparations'),\n",
       " (6, 'Milled Grain Products and Preparations, and Bakery Products'),\n",
       " (7, 'Other Prepared Foodstuffs, and Fats and Oils'),\n",
       " (8, 'Alcoholic Beverages and Denatured Alcohol'),\n",
       " (9, 'Tobacco Products'),\n",
       " (10, 'Monumental or Building Stone')]"
      ]
     },
     "execution_count": 43,
     "metadata": {},
     "output_type": "execute_result"
    }
   ],
   "source": [
    "%%sql\n",
    "SELECT * FROM goods_classification\n",
    "LIMIT 10;"
   ]
  },
  {
   "cell_type": "code",
   "execution_count": 44,
   "metadata": {
    "collapsed": false
   },
   "outputs": [
    {
     "name": "stdout",
     "output_type": "stream",
     "text": [
      "Done.\n"
     ]
    },
    {
     "data": {
      "text/plain": [
       "[]"
      ]
     },
     "execution_count": 44,
     "metadata": {},
     "output_type": "execute_result"
    }
   ],
   "source": [
    "%%sql\n",
    "ALTER TABLE shipment_dimension\n",
    "ADD FOREIGN KEY (sctg) REFERENCES goods_classification(class_id);"
   ]
  },
  {
   "cell_type": "markdown",
   "metadata": {},
   "source": [
    "<br> Now we define the codes for industry classifications which are present in the shipment dimension"
   ]
  },
  {
   "cell_type": "code",
   "execution_count": 45,
   "metadata": {
    "collapsed": false
   },
   "outputs": [
    {
     "name": "stdout",
     "output_type": "stream",
     "text": [
      "Done.\n",
      "Done.\n"
     ]
    },
    {
     "data": {
      "text/plain": [
       "[]"
      ]
     },
     "execution_count": 45,
     "metadata": {},
     "output_type": "execute_result"
    }
   ],
   "source": [
    "%%sql\n",
    "DROP TABLE IF EXISTS industry_classification;\n",
    "CREATE TABLE industry_classification(\n",
    "    industry_id INTEGER PRIMARY KEY,\n",
    "    industry_descr VARCHAR (100)\n",
    "    )\n",
    ";"
   ]
  },
  {
   "cell_type": "code",
   "execution_count": 49,
   "metadata": {
    "collapsed": false
   },
   "outputs": [
    {
     "name": "stdout",
     "output_type": "stream",
     "text": [
      "45 rows affected.\n"
     ]
    },
    {
     "data": {
      "text/plain": [
       "[]"
      ]
     },
     "execution_count": 49,
     "metadata": {},
     "output_type": "execute_result"
    }
   ],
   "source": [
    "%%sql\n",
    "INSERT INTO industry_classification (industry_id, industry_descr)\n",
    "VALUES\n",
    "(212,'Mining (except oil and gas)'),\n",
    "(311,'Food manufacturing'),\n",
    "(312,'Beverage and tobacco product manufacturing'),\n",
    "(313,'Textile mills'),\n",
    "(314,'Textile product mills'),\n",
    "(315,'Apparel manufacturing'),\n",
    "(316,'Leather and allied product manufacturing'),\n",
    "(321,'Wood product manufacturing'),\n",
    "(322,'Paper manufacturing'),\n",
    "(323,'Printing and related support activities'),\n",
    "(324,'Petroleum and coal products manufacturing'),\n",
    "(325,'Chemical manufacturing'),\n",
    "(326,'Plastics and rubber products manufacturing'),\n",
    "(327,'Nonmetallic mineral product manufacturing'),\n",
    "(331,'Primary metal manufacturing'),\n",
    "(332,'Fabricated metal product manufacturing'),\n",
    "(333,'Machinery manufacturing'),\n",
    "(334,'Computer and electronic product manufacturing'),\n",
    "(335,'Electrical equipment, appliance, and component manufacturing'),\n",
    "(336,'Transportation equipment manufacturing'),\n",
    "(337,'Furniture and related product manufacturing'),\n",
    "(339,'Miscellaneous manufacturing'),\n",
    "(4231,'Motor vehicle and parts merchant wholesalers'),\n",
    "(4232,'Furniture and home furnishing merchant wholesalers'),\n",
    "(4233,'Lumber and other construction materials merchant wholesalers'),\n",
    "(4234,'Commercial equip. merchant wholesalers'),\n",
    "(4235,'Metal and mineral (except petroleum) merchant wholesalers'),\n",
    "(4236,'Electrical and electronic goods merchant wholesalers'),\n",
    "(4237,'Hardware and plumbing merchant wholesalers'),\n",
    "(4238,'Machinery, equipment, and supplies merchant wholesalers'),\n",
    "(4239,'Miscellaneous durable goods merchant wholesalers'),\n",
    "(4241,'Paper and paper product merchant wholesalers'),\n",
    "(4242,'Drugs and druggists'' sundries merchant wholesalers'),\n",
    "(4243,'Apparel, piece goods, and notions merchant wholesalers'),\n",
    "(4244,'Grocery and related product merchant wholesalers'),\n",
    "(4245,'Farm product raw material merchant wholesalers'),\n",
    "(4246,'Chemical and allied products merchant wholesalers'),\n",
    "(4247,'Petroleum and petroleum products merchant wholesalers'),\n",
    "(4248,'Beer, wine, and distilled alcoholic beverage merchant wholesalers'),\n",
    "(4249,'Miscellaneous nondurable goods merchant wholesalers'),\n",
    "(4541,'Electronic shopping and mail-order houses'),\n",
    "(45431,'Direct selling establishments'),\n",
    "(4931,'Warehousing and storage (includes 484)'),\n",
    "(5111,'Newspaper, periodical, book, and directory publishers'),\n",
    "(551114,'Corporate, subsidiary, and regional managing offices')\n",
    ";"
   ]
  },
  {
   "cell_type": "markdown",
   "metadata": {},
   "source": [
    "<br> Finally, we create a table that defines the codes for modes of transport"
   ]
  },
  {
   "cell_type": "code",
   "execution_count": 50,
   "metadata": {
    "collapsed": false
   },
   "outputs": [
    {
     "name": "stdout",
     "output_type": "stream",
     "text": [
      "Done.\n",
      "Done.\n"
     ]
    },
    {
     "data": {
      "text/plain": [
       "[]"
      ]
     },
     "execution_count": 50,
     "metadata": {},
     "output_type": "execute_result"
    }
   ],
   "source": [
    "%%sql\n",
    "DROP TABLE IF EXISTS transport_mode;\n",
    "CREATE TABLE transport_mode(\n",
    "    mode_id INTEGER PRIMARY KEY,\n",
    "    mode_descr VARCHAR (50)\n",
    "    )\n",
    ";"
   ]
  },
  {
   "cell_type": "code",
   "execution_count": 52,
   "metadata": {
    "collapsed": false
   },
   "outputs": [
    {
     "name": "stdout",
     "output_type": "stream",
     "text": [
      "21 rows affected.\n"
     ]
    },
    {
     "data": {
      "text/plain": [
       "[]"
      ]
     },
     "execution_count": 52,
     "metadata": {},
     "output_type": "execute_result"
    }
   ],
   "source": [
    "%%sql\n",
    "INSERT INTO transport_mode \n",
    "VALUES\n",
    "(02,'Single mode'),\n",
    "(03,'Truck'),\n",
    "(04,'For-hire truck'),\n",
    "(05,'Private truck'),\n",
    "(06,'Rail'),\n",
    "(07,'Water'),\n",
    "(08,'Inland Water'),\n",
    "(09,'Great Lakes'),\n",
    "(10,'Deep Sea'),\n",
    "(101,'Multiple Waterways'),\n",
    "(11,'Air (incl truck & air)'),\n",
    "(12,'Pipeline'),\n",
    "(13,'Multiple mode'),\n",
    "(14,'Parcel, USPS, or courier'),\n",
    "(20,'Non-parcel multimode'),\n",
    "(15,'Truck and rail'),\n",
    "(16,'Truck and water'),\n",
    "(17,'Rail and water'),\n",
    "(18,'Other multiple mode'),\n",
    "(19,'Other mode'),\n",
    "(00,'Mode suppressed')\n",
    ";\n"
   ]
  },
  {
   "cell_type": "code",
   "execution_count": 54,
   "metadata": {
    "collapsed": false
   },
   "outputs": [
    {
     "name": "stdout",
     "output_type": "stream",
     "text": [
      "Done.\n"
     ]
    },
    {
     "data": {
      "text/plain": [
       "[]"
      ]
     },
     "execution_count": 54,
     "metadata": {},
     "output_type": "execute_result"
    }
   ],
   "source": [
    "%%sql\n",
    "ALTER TABLE shipment_dimension\n",
    "ADD FOREIGN KEY (mode) REFERENCES transport_mode(mode_id);"
   ]
  }
 ],
 "metadata": {
  "kernelspec": {
   "display_name": "Python 3",
   "language": "python",
   "name": "python3"
  },
  "language_info": {
   "codemirror_mode": {
    "name": "ipython",
    "version": 3
   },
   "file_extension": ".py",
   "mimetype": "text/x-python",
   "name": "python",
   "nbconvert_exporter": "python",
   "pygments_lexer": "ipython3",
   "version": "3.5.2"
  }
 },
 "nbformat": 4,
 "nbformat_minor": 1
}
