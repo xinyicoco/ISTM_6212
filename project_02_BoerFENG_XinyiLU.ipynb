{
 "cells": [
  {
   "cell_type": "markdown",
   "metadata": {},
   "source": [
    "# Project 02 - Due Friday, November 11 at 12pm\n",
    "\n",
    "*Objectives*: Gain experience loading a transactional dataset into a relational database model you define yourself and using SQL to explore its contents. Transform the data into a star schema, documenting the schema visually, and explore the transformed data analytically by writing and executing a number of SQL queries using common syntax and functions and describing your findings.  Gain practice working on these tasks with a partner.\n",
    "\n",
    "*Grading criteria*: The tasks should all be completed, and questions should all be answered with SQL queries, diagrams, and charts in the space provided, unless a text answer is requested.  The notebook itself should be completely reproducible at datanotebook.org, from start to finish: another person should be able to use the same code to obtain the same results as yours.  Note that you will receive no more than partial credit if you do not add text/markdown cells explaining your thinking at each major step in each problem.\n",
    "\n",
    "*Attestation*: **Work in pairs**.  At the end of your submitted notebook, identify the work each partner performed and attest that each contributed substantially to the work.\n",
    "\n",
    "*Deadline*: Friday, November 11, 12pm.  One member of each pair must submit your notebook to Blackboard; you should not both submit it separately.  You may each push a copy to your own GitHub repository.\n",
    "\n",
    "\n",
    "## Setup - select and obtain data\n",
    "\n",
    "The US City Open Data Census has a variety of [transactional data from all over the country](http://us-city.census.okfn.org/).  Select one topic and one city from this Census, download the data, and explain your reason for this choice before proceeding.  Provide a link to the web page for the data set you've chosen.\n",
    "\n",
    "I strongly encourage you to select a dataset from among the following topics:  Crime, Property Assessment, Campaign Finance Contributions, Service Requests (311), and Web Analytics.\n",
    "\n",
    "By *transactional* data I mean records at the grain of one event per business process.  In the case of Service Requests (311), for example, that would require data at the level of each individual report of a service request.  If this isn't clear, think about the bike trip data - each individual ride was included - and look for data at that level of event/process specificity.  Avoid data like the Connecticut boating data, which was summarized by year, not individual transactions.\n",
    "\n",
    "Please aim for a dataset of at least 10,000 individual records, but less than 250,000 records.  A little more or a little less is okay, but try to stay within these limits."
   ]
  },
  {
   "cell_type": "markdown",
   "metadata": {},
   "source": [
    "## Problem 1 - examine the data (20 points)\n",
    "\n",
    "Use `csvstat`, `pandas`, or other tools as you see fit and observe the contents of your dataset.  Review important points from any metadata provided.  Describe what you see:  What do the columns mean?  Are there null values?  Which columns interest you the most?  Which columns present some opportunities, challenges, or questions you would like to ask?"
   ]
  },
  {
   "cell_type": "code",
   "execution_count": 1,
   "metadata": {
    "collapsed": false
   },
   "outputs": [
    {
     "name": "stdout",
     "output_type": "stream",
     "text": [
      "--2016-11-11 13:24:34--  https://data.wprdc.org/datastore/dump/c0fcc09a-7ddc-4f79-a4c1-9542301ef9dd\n",
      "Resolving data.wprdc.org (data.wprdc.org)... 136.142.88.59\n",
      "Connecting to data.wprdc.org (data.wprdc.org)|136.142.88.59|:443... connected.\n",
      "HTTP request sent, awaiting response... 200 OK\n",
      "Length: 14724786 (14M) [text/csv]\n",
      "Saving to: ‘c0fcc09a-7ddc-4f79-a4c1-9542301ef9dd’\n",
      "\n",
      "c0fcc09a-7ddc-4f79- 100%[=====================>]  14.04M  15.0MB/s   in 0.9s   \n",
      "\n",
      "2016-11-11 13:24:43 (15.0 MB/s) - ‘c0fcc09a-7ddc-4f79-a4c1-9542301ef9dd’ saved [14724786/14724786]\n",
      "\n"
     ]
    }
   ],
   "source": [
    "!wget https://data.wprdc.org/datastore/dump/c0fcc09a-7ddc-4f79-a4c1-9542301ef9dd"
   ]
  },
  {
   "cell_type": "code",
   "execution_count": 2,
   "metadata": {
    "collapsed": false
   },
   "outputs": [],
   "source": [
    "!mv c0fcc09a-7ddc-4f79-a4c1-9542301ef9dd pittscrime.csv"
   ]
  },
  {
   "cell_type": "code",
   "execution_count": 3,
   "metadata": {
    "collapsed": false
   },
   "outputs": [
    {
     "name": "stdout",
     "output_type": "stream",
     "text": [
      "118611 pittscrime.csv\r\n"
     ]
    }
   ],
   "source": [
    "!wc -l pittscrime.csv"
   ]
  },
  {
   "cell_type": "code",
   "execution_count": 4,
   "metadata": {
    "collapsed": false
   },
   "outputs": [
    {
     "name": "stdout",
     "output_type": "stream",
     "text": [
      "  1: _id\r\n",
      "  2: REPORT_NAME\r\n",
      "  3: CCR\r\n",
      "  4: SECTION\r\n",
      "  5: DESCRIPTION\r\n",
      "  6: ARREST_TIME\r\n",
      "  7: ADDRESS\r\n",
      "  8: NEIGHBORHOOD\r\n",
      "  9: ZONE\r\n",
      " 10: AGE\r\n",
      " 11: GENDER\r\n"
     ]
    }
   ],
   "source": [
    "!csvcut -n pittscrime.csv"
   ]
  },
  {
   "cell_type": "markdown",
   "metadata": {},
   "source": [
    "What do columns mean?\n",
    "\n",
    "https://data.wprdc.org/dataset/pittsburgh-police-incident-blotter\n",
    "1. _id: The identification number for the each crime\n",
    "2. Report_name: The name of each crime report, such as arrest or offense\n",
    "3. ccr: CCR is the Central Control Record number. It is a reference number or unique identifier for a report.\n",
    "4. Section: The identification number for the crime report\n",
    "5. Description: The detailed explanation of each crime\n",
    "6. Arrest_time: The arrest time in the format of Year-month-dayTime.\n",
    "7. Address: The detailed address of the crime occured, e.g., 4th Ave & Delray St\n",
    "8. Neighborhood: The neighborhood which the address belongs to, e.g., Shadyside\n",
    "9. Zone: The zone number of the neighborhood belongs to\n",
    "10. Age: The age of the criminal\n",
    "11. Gender: The gender of the criminal"
   ]
  },
  {
   "cell_type": "code",
   "execution_count": 5,
   "metadata": {
    "collapsed": false
   },
   "outputs": [
    {
     "name": "stdout",
     "output_type": "stream",
     "text": [
      "  1. 108712\r\n",
      "\t<class 'int'>\r\n",
      "\tNulls: False\r\n",
      "\tMin: 363\r\n",
      "\tMax: 118491\r\n",
      "\tSum: 58776173\r\n",
      "\tMean: 58835.00800800801\r\n",
      "\tMedian: 58562\r\n",
      "\tStandard Deviation: 34245.50494626937\r\n",
      "\tUnique values: 999\r\n",
      "  2. _unnamed\r\n",
      "\t<class 'str'>\r\n",
      "\tNulls: True\r\n",
      "\tValues: ARREST, OFFENSE 2.0\r\n",
      "  3. 16176544\r\n",
      "\t<class 'int'>\r\n",
      "\tNulls: False\r\n",
      "\tMin: 13232551\r\n",
      "\tMax: 16249000\r\n",
      "\tSum: 15600230152\r\n",
      "\tMean: 15615845.997997997\r\n",
      "\tMedian: 15247595\r\n",
      "\tStandard Deviation: 498503.21687785705\r\n",
      "\tUnique values: 980\r\n",
      "\t5 most frequent values:\r\n",
      "\t\t16096722:\t3\r\n",
      "\t\t16063206:\t2\r\n",
      "\t\t15187410:\t2\r\n",
      "\t\t15237428:\t2\r\n",
      "\t\t15123366:\t2\r\n",
      "  4. 2701\r\n",
      "\t<class 'str'>\r\n",
      "\tNulls: False\r\n",
      "\tUnique values: 153\r\n",
      "\t5 most frequent values:\r\n",
      "\t\t2701:\t47\r\n",
      "\t\t13(a)(16):\t45\r\n",
      "\t\t3304:\t44\r\n",
      "\t\t9999:\t43\r\n",
      "\t\t13(a)(32):\t35\r\n",
      "\tMax length: 15\r\n",
      "  5. Simple Assault.\r\n",
      "\t<class 'str'>\r\n",
      "\tNulls: False\r\n",
      "\tUnique values: 168\r\n",
      "\t5 most frequent values:\r\n",
      "\t\tSimple Assault.:\t47\r\n",
      "\t\tPossession of Controlled Substance:\t45\r\n",
      "\t\tCriminal Mischief.:\t44\r\n",
      "\t\tParaphernalia - Use or Possession:\t35\r\n",
      "\t\tAggravated Assault.:\t31\r\n",
      "\tMax length: 121\r\n",
      "  6. 2016-09-18T02:30:00\r\n",
      "\t<class 'datetime.datetime'>\r\n",
      "\tNulls: False\r\n",
      "\tMin: 2015-03-10 15:35:00\r\n",
      "\tMax: 2016-11-10 09:53:00\r\n",
      "\tUnique values: 983\r\n",
      "\t5 most frequent values:\r\n",
      "\t\t2016-05-26 15:27:00:\t3\r\n",
      "\t\t2016-02-01 10:00:00:\t3\r\n",
      "\t\t2015-10-02 19:14:00:\t2\r\n",
      "\t\t2016-09-22 14:00:00:\t2\r\n",
      "\t\t2016-07-29 14:00:00:\t2\r\n",
      "  7. 100 block 9th St\r\n",
      "\t<class 'str'>\r\n",
      "\tNulls: False\r\n",
      "\tUnique values: 856\r\n",
      "\t5 most frequent values:\r\n",
      "\t\t6200 block Penn Ave:\t6\r\n",
      "\t\t1600 block Sandusky Ct:\t5\r\n",
      "\t\t200 block East Ohio St:\t5\r\n",
      "\t\t900 block Freeport Rd:\t4\r\n",
      "\t\t1700 block E Carson St:\t4\r\n",
      "\tMax length: 47\r\n",
      "  8. Golden Triangle/Civic Arena\r\n",
      "\t<class 'str'>\r\n",
      "\tNulls: False\r\n",
      "\tUnique values: 87\r\n",
      "\t5 most frequent values:\r\n",
      "\t\tGolden Triangle/Civic Arena:\t61\r\n",
      "\t\tSouth Side Flats:\t55\r\n",
      "\t\tEast Liberty:\t34\r\n",
      "\t\tMarshall-Shadeland:\t32\r\n",
      "\t\tCarrick:\t31\r\n",
      "\tMax length: 27\r\n",
      "  9. 2\r\n",
      "\t<class 'int'>\r\n",
      "\tNulls: True\r\n",
      "\tMin: 1\r\n",
      "\tMax: 6\r\n",
      "\tSum: 3216\r\n",
      "\tMean: 3.2256770310932796\r\n",
      "\tMedian: 3\r\n",
      "\tStandard Deviation: 1.6723075391567719\r\n",
      "\tUnique values: 6\r\n",
      "\t5 most frequent values:\r\n",
      "\t\t1:\t215\r\n",
      "\t\t5:\t195\r\n",
      "\t\t3:\t188\r\n",
      "\t\t2:\t167\r\n",
      "\t\t4:\t132\r\n",
      " 10. _unnamed\r\n",
      "\t<class 'int'>\r\n",
      "\tNulls: True\r\n",
      "\tMin: 12\r\n",
      "\tMax: 73\r\n",
      "\tSum: 11106\r\n",
      "\tMean: 32.66470588235294\r\n",
      "\tMedian: 30.5\r\n",
      "\tStandard Deviation: 12.293443550334446\r\n",
      "\tUnique values: 52\r\n",
      "\t5 most frequent values:\r\n",
      "\t\t25:\t20\r\n",
      "\t\t24:\t15\r\n",
      "\t\t21:\t15\r\n",
      "\t\t29:\t14\r\n",
      "\t\t33:\t13\r\n",
      " 11. _unnamed\r\n",
      "\t<class 'str'>\r\n",
      "\tNulls: True\r\n",
      "\tValues: F, M\r\n",
      "\r\n",
      "Row count: 999\r\n"
     ]
    }
   ],
   "source": [
    "!shuf -n 1000 pittscrime.csv | csvstat \n"
   ]
  },
  {
   "cell_type": "markdown",
   "metadata": {},
   "source": [
    "Are there null values?\n",
    "\n",
    "Yes. There are 4 columns have null values(C2 C9 C10 C11). They are Report_name, Zone, Age and Gender."
   ]
  },
  {
   "cell_type": "code",
   "execution_count": 6,
   "metadata": {
    "collapsed": false
   },
   "outputs": [
    {
     "name": "stdout",
     "output_type": "stream",
     "text": [
      "|--------+-------------+----------+-----------+-------------------------------------------------------+---------------------+----------------------------+-------------------+------+-----+---------|\r\n",
      "|  _id   | REPORT_NAME | CCR      | SECTION   | DESCRIPTION                                           | ARREST_TIME         | ADDRESS                    | NEIGHBORHOOD      | ZONE | AGE | GENDER  |\r\n",
      "|--------+-------------+----------+-----------+-------------------------------------------------------+---------------------+----------------------------+-------------------+------+-----+---------|\r\n",
      "|  53078 | OFFENSE 2.0 | 15154929 | 3502      | Burglary.                                             | 2015-08-18T06:13:00 | 700 block E Warrington Ave | Allentown         | 3    |     |         |\r\n",
      "|  53079 | OFFENSE 2.0 | 15155179 | 3502      | Burglary.                                             | 2015-08-18T07:45:00 | 2500 block E Carson St     | South Side Flats  | 3    |     |         |\r\n",
      "|  53080 | OFFENSE 2.0 | 15161163 | 9124      | Drug Investigation                                    | 2015-08-26T18:15:00 | Zone 1                     | Brighton Heights  | 1    |     |         |\r\n",
      "|  53081 | OFFENSE 2.0 | 15155881 | 4106      | Access Device Fraud                                   | 2015-08-18T10:00:00 | 400 block Ruxton St        | Mount Washington  | 3    |     |         |\r\n",
      "|  53082 | OFFENSE 2.0 | 15155881 | 3502      | Burglary.                                             | 2015-08-18T10:00:00 | 400 block Ruxton St        | Mount Washington  | 3    |     |         |\r\n",
      "|  53083 | OFFENSE 2.0 | 15155037 | 9999      | 9999 - (Misc. Incident): Forced Entry                 | 2015-08-18T10:18:00 | 800 block E Warrington Ave | Allentown         | 3    |     |         |\r\n",
      "|  53084 | OFFENSE 2.0 | 15155104 | 601.08(a) | Alcohol or Liquor Consumption on Streets or Sidewalks | 2015-08-18T11:35:00 | 15th St & bike trail       | South Side Flats  | 3    |     |         |\r\n",
      "|  53085 | OFFENSE 2.0 | 15155119 | 3304      | Criminal Mischief.                                    | 2015-08-18T13:30:00 | Pius St                    | South Side Slopes | 3    |     |         |\r\n",
      "|  53086 | OFFENSE 2.0 | 15155119 | 3503(a)   | Criminal Trespass                                     | 2015-08-18T13:30:00 | Pius St                    | South Side Slopes | 3    |     |         |\r\n",
      "|--------+-------------+----------+-----------+-------------------------------------------------------+---------------------+----------------------------+-------------------+------+-----+---------|\r\n"
     ]
    }
   ],
   "source": [
    "!head pittscrime.csv|csvlook"
   ]
  },
  {
   "cell_type": "markdown",
   "metadata": {},
   "source": [
    "We are particularly inerested in the location of the crime, which includes columns \"Address\", \"Neighborhood\" and \"Zone\". The location information could tell us the frequency of crime happening on each part of the Greater Pittsburgh area. Therefore I could do analysis on identifying the degree of safety on each area and help residents avoid the dangerous area. The questions I could ask includes but not limited to:\n",
    "1. Which neighborhoods have the least frequecy of crime?\n",
    "2. what type of crime happened most frequently?\n",
    "3. What are the safe place that we could suggest to live?\n",
    "4. What are the area that the policy should pay more attention to in order to decrease the crime rate?"
   ]
  },
  {
   "cell_type": "markdown",
   "metadata": {},
   "source": [
    "## Problem 2 - define a database model, load the data, and explore (20 points)\n",
    "\n",
    "Based on what you found above, create and connect to a new database, define a database table in it, and load this dataset into it.  You may use either of the methods for this step you have seen in earlier class notebooks.  You may choose to eliminate variables/columns if they are not relevant or interesting to you - explain your reasoning if you do.  Either way, you should load a majority of the columns present in the source dataset as it is in its raw form into the database, and all of its rows.\n",
    "\n",
    "Once your data has loaded successfully, run a `COUNT(*)` query to verify that all the data has loaded correctly.\n",
    "\n",
    "Explore the data to zero in on a few themes you would like to further study analytically.  Discuss columns that present opportunities for extraction into dimensions, and identify the specific columns that contain facts you want to measure."
   ]
  },
  {
   "cell_type": "markdown",
   "metadata": {},
   "source": [
    "This step is to restart PostgreSQL."
   ]
  },
  {
   "cell_type": "code",
   "execution_count": 7,
   "metadata": {
    "collapsed": false
   },
   "outputs": [
    {
     "name": "stdout",
     "output_type": "stream",
     "text": [
      "[sudo] password for jovyan: Restarting PostgreSQL 9.5 database server: main.\n"
     ]
    }
   ],
   "source": [
    "!echo 'redspot' | sudo -S service postgresql restart"
   ]
  },
  {
   "cell_type": "markdown",
   "metadata": {},
   "source": [
    "Then we create a database named pro2."
   ]
  },
  {
   "cell_type": "code",
   "execution_count": 8,
   "metadata": {
    "collapsed": false
   },
   "outputs": [
    {
     "name": "stdout",
     "output_type": "stream",
     "text": [
      "createdb: database creation failed: ERROR:  database \"pittscrime\" already exists\r\n"
     ]
    }
   ],
   "source": [
    "!createdb -U dbuser pittscrime"
   ]
  },
  {
   "cell_type": "markdown",
   "metadata": {},
   "source": [
    "This step is to load sql extension."
   ]
  },
  {
   "cell_type": "code",
   "execution_count": 9,
   "metadata": {
    "collapsed": false
   },
   "outputs": [
    {
     "name": "stderr",
     "output_type": "stream",
     "text": [
      "/opt/conda/lib/python3.5/site-packages/IPython/config.py:13: ShimWarning: The `IPython.config` package has been deprecated. You should import from traitlets.config instead.\n",
      "  \"You should import from traitlets.config instead.\", ShimWarning)\n",
      "/opt/conda/lib/python3.5/site-packages/IPython/utils/traitlets.py:5: UserWarning: IPython.utils.traitlets has moved to a top-level traitlets package.\n",
      "  warn(\"IPython.utils.traitlets has moved to a top-level traitlets package.\")\n"
     ]
    }
   ],
   "source": [
    "%load_ext sql"
   ]
  },
  {
   "cell_type": "markdown",
   "metadata": {},
   "source": [
    "This show we connect to the database successfully."
   ]
  },
  {
   "cell_type": "code",
   "execution_count": 10,
   "metadata": {
    "collapsed": false
   },
   "outputs": [
    {
     "data": {
      "text/plain": [
       "'Connected: dbuser@pittscrime'"
      ]
     },
     "execution_count": 10,
     "metadata": {},
     "output_type": "execute_result"
    }
   ],
   "source": [
    "%sql postgresql://dbuser@localhost:5432/pittscrime"
   ]
  },
  {
   "cell_type": "code",
   "execution_count": 11,
   "metadata": {
    "collapsed": false
   },
   "outputs": [
    {
     "name": "stdout",
     "output_type": "stream",
     "text": [
      "Done.\n",
      "Done.\n"
     ]
    },
    {
     "data": {
      "text/plain": [
       "[]"
      ]
     },
     "execution_count": 11,
     "metadata": {},
     "output_type": "execute_result"
    }
   ],
   "source": [
    "%%sql\n",
    "DROP TABLE IF EXISTS pittscrime;\n",
    "CREATE TABLE pittscrime\n",
    "(\n",
    "    id INTEGER,\n",
    "    REPORT_NAME VARCHAR(11),\n",
    "    CCR INTEGER,\n",
    "    SECTION VARCHAR(19),\n",
    "    DESCRIPTION VARCHAR(128),\n",
    "    ARREST_TIME TIMESTAMP,\n",
    "    ADDRESS VARCHAR(53), \n",
    "    NEIGHBORHOOD VARCHAR(27),\n",
    "    ZONE INTEGER, \n",
    "    AGE INTEGER, \n",
    "    GENDER VARCHAR(4)\n",
    ")\n"
   ]
  },
  {
   "cell_type": "code",
   "execution_count": 12,
   "metadata": {
    "collapsed": false
   },
   "outputs": [
    {
     "name": "stdout",
     "output_type": "stream",
     "text": [
      "/home/jovyan/work\r\n"
     ]
    }
   ],
   "source": [
    "!pwd"
   ]
  },
  {
   "cell_type": "code",
   "execution_count": 13,
   "metadata": {
    "collapsed": false
   },
   "outputs": [
    {
     "name": "stdout",
     "output_type": "stream",
     "text": [
      "118610 rows affected.\n"
     ]
    },
    {
     "data": {
      "text/plain": [
       "[]"
      ]
     },
     "execution_count": 13,
     "metadata": {},
     "output_type": "execute_result"
    }
   ],
   "source": [
    "%%sql\n",
    "COPY pittscrime FROM '/home/jovyan/work/pittscrime.csv'\n",
    "CSV\n",
    "HEADER\n",
    "QUOTE '\"'\n",
    "DELIMITER ',';"
   ]
  },
  {
   "cell_type": "code",
   "execution_count": 14,
   "metadata": {
    "collapsed": false
   },
   "outputs": [
    {
     "name": "stdout",
     "output_type": "stream",
     "text": [
      "1 rows affected.\n"
     ]
    },
    {
     "data": {
      "text/html": [
       "<table>\n",
       "    <tr>\n",
       "        <th>count</th>\n",
       "    </tr>\n",
       "    <tr>\n",
       "        <td>118610</td>\n",
       "    </tr>\n",
       "</table>"
      ],
      "text/plain": [
       "[(118610,)]"
      ]
     },
     "execution_count": 14,
     "metadata": {},
     "output_type": "execute_result"
    }
   ],
   "source": [
    "%%sql\n",
    "SELECT COUNT(*)\n",
    "FROM pittscrime;"
   ]
  },
  {
   "cell_type": "markdown",
   "metadata": {},
   "source": [
    "Now we are going to explore more about the crime data. We are particularly interested in the Crime rate at different neighborhood. So we count the cime frequency of each neighborhood first."
   ]
  },
  {
   "cell_type": "code",
   "execution_count": 15,
   "metadata": {
    "collapsed": false
   },
   "outputs": [
    {
     "name": "stdout",
     "output_type": "stream",
     "text": [
      "20 rows affected.\n"
     ]
    },
    {
     "data": {
      "text/html": [
       "<table>\n",
       "    <tr>\n",
       "        <th>neighborhood</th>\n",
       "        <th>count</th>\n",
       "    </tr>\n",
       "    <tr>\n",
       "        <td>Golden Triangle/Civic Arena</td>\n",
       "        <td>8229</td>\n",
       "    </tr>\n",
       "    <tr>\n",
       "        <td>South Side Flats</td>\n",
       "        <td>7692</td>\n",
       "    </tr>\n",
       "    <tr>\n",
       "        <td>East Allegheny</td>\n",
       "        <td>3538</td>\n",
       "    </tr>\n",
       "    <tr>\n",
       "        <td>East Liberty</td>\n",
       "        <td>3529</td>\n",
       "    </tr>\n",
       "    <tr>\n",
       "        <td>Carrick</td>\n",
       "        <td>3422</td>\n",
       "    </tr>\n",
       "    <tr>\n",
       "        <td>Brighton Heights</td>\n",
       "        <td>2711</td>\n",
       "    </tr>\n",
       "    <tr>\n",
       "        <td>Bluff</td>\n",
       "        <td>2605</td>\n",
       "    </tr>\n",
       "    <tr>\n",
       "        <td>Sheraden</td>\n",
       "        <td>2577</td>\n",
       "    </tr>\n",
       "    <tr>\n",
       "        <td>Marshall-Shadeland</td>\n",
       "        <td>2534</td>\n",
       "    </tr>\n",
       "    <tr>\n",
       "        <td>Mount Washington</td>\n",
       "        <td>2523</td>\n",
       "    </tr>\n",
       "    <tr>\n",
       "        <td>Brookline</td>\n",
       "        <td>2400</td>\n",
       "    </tr>\n",
       "    <tr>\n",
       "        <td>Homewood South</td>\n",
       "        <td>2392</td>\n",
       "    </tr>\n",
       "    <tr>\n",
       "        <td>Knoxville</td>\n",
       "        <td>2308</td>\n",
       "    </tr>\n",
       "    <tr>\n",
       "        <td>Shadyside</td>\n",
       "        <td>2301</td>\n",
       "    </tr>\n",
       "    <tr>\n",
       "        <td>Bloomfield</td>\n",
       "        <td>2269</td>\n",
       "    </tr>\n",
       "    <tr>\n",
       "        <td>Lincoln-Lemington-Belmar</td>\n",
       "        <td>2251</td>\n",
       "    </tr>\n",
       "    <tr>\n",
       "        <td>Central Northside</td>\n",
       "        <td>2207</td>\n",
       "    </tr>\n",
       "    <tr>\n",
       "        <td>Homewood North</td>\n",
       "        <td>2197</td>\n",
       "    </tr>\n",
       "    <tr>\n",
       "        <td>Allegheny Center</td>\n",
       "        <td>2060</td>\n",
       "    </tr>\n",
       "    <tr>\n",
       "        <td>Allentown</td>\n",
       "        <td>2002</td>\n",
       "    </tr>\n",
       "</table>"
      ],
      "text/plain": [
       "[('Golden Triangle/Civic Arena', 8229),\n",
       " ('South Side Flats', 7692),\n",
       " ('East Allegheny', 3538),\n",
       " ('East Liberty', 3529),\n",
       " ('Carrick', 3422),\n",
       " ('Brighton Heights', 2711),\n",
       " ('Bluff', 2605),\n",
       " ('Sheraden', 2577),\n",
       " ('Marshall-Shadeland', 2534),\n",
       " ('Mount Washington', 2523),\n",
       " ('Brookline', 2400),\n",
       " ('Homewood South', 2392),\n",
       " ('Knoxville', 2308),\n",
       " ('Shadyside', 2301),\n",
       " ('Bloomfield', 2269),\n",
       " ('Lincoln-Lemington-Belmar', 2251),\n",
       " ('Central Northside', 2207),\n",
       " ('Homewood North', 2197),\n",
       " ('Allegheny Center', 2060),\n",
       " ('Allentown', 2002)]"
      ]
     },
     "execution_count": 15,
     "metadata": {},
     "output_type": "execute_result"
    }
   ],
   "source": [
    "%%sql\n",
    "SELECT DISTINCT neighborhood, COUNT(*) as Count\n",
    "FROM pittscrime\n",
    "GROUP BY neighborhood\n",
    "ORDER BY Count DESC\n",
    "LIMIT 20;"
   ]
  },
  {
   "cell_type": "markdown",
   "metadata": {},
   "source": [
    "The above table gives the top 20 neighborhoods with the highest crime rate. Golden Triangle/Civic Arena, South Side Flats and East Liberty are the most danagerous neighborhoods."
   ]
  },
  {
   "cell_type": "code",
   "execution_count": 16,
   "metadata": {
    "collapsed": false
   },
   "outputs": [
    {
     "name": "stdout",
     "output_type": "stream",
     "text": [
      "20 rows affected.\n"
     ]
    },
    {
     "data": {
      "text/html": [
       "<table>\n",
       "    <tr>\n",
       "        <th>neighborhood</th>\n",
       "        <th>count</th>\n",
       "    </tr>\n",
       "    <tr>\n",
       "        <td>Golden Triangle/Civic Arena</td>\n",
       "        <td>8229</td>\n",
       "    </tr>\n",
       "    <tr>\n",
       "        <td>South Side Flats</td>\n",
       "        <td>7692</td>\n",
       "    </tr>\n",
       "    <tr>\n",
       "        <td>East Allegheny</td>\n",
       "        <td>3538</td>\n",
       "    </tr>\n",
       "    <tr>\n",
       "        <td>East Liberty</td>\n",
       "        <td>3529</td>\n",
       "    </tr>\n",
       "    <tr>\n",
       "        <td>Carrick</td>\n",
       "        <td>3422</td>\n",
       "    </tr>\n",
       "    <tr>\n",
       "        <td>Brighton Heights</td>\n",
       "        <td>2711</td>\n",
       "    </tr>\n",
       "    <tr>\n",
       "        <td>Bluff</td>\n",
       "        <td>2605</td>\n",
       "    </tr>\n",
       "    <tr>\n",
       "        <td>Sheraden</td>\n",
       "        <td>2577</td>\n",
       "    </tr>\n",
       "    <tr>\n",
       "        <td>Marshall-Shadeland</td>\n",
       "        <td>2534</td>\n",
       "    </tr>\n",
       "    <tr>\n",
       "        <td>Mount Washington</td>\n",
       "        <td>2523</td>\n",
       "    </tr>\n",
       "    <tr>\n",
       "        <td>Brookline</td>\n",
       "        <td>2400</td>\n",
       "    </tr>\n",
       "    <tr>\n",
       "        <td>Homewood South</td>\n",
       "        <td>2392</td>\n",
       "    </tr>\n",
       "    <tr>\n",
       "        <td>Knoxville</td>\n",
       "        <td>2308</td>\n",
       "    </tr>\n",
       "    <tr>\n",
       "        <td>Shadyside</td>\n",
       "        <td>2301</td>\n",
       "    </tr>\n",
       "    <tr>\n",
       "        <td>Bloomfield</td>\n",
       "        <td>2269</td>\n",
       "    </tr>\n",
       "    <tr>\n",
       "        <td>Lincoln-Lemington-Belmar</td>\n",
       "        <td>2251</td>\n",
       "    </tr>\n",
       "    <tr>\n",
       "        <td>Central Northside</td>\n",
       "        <td>2207</td>\n",
       "    </tr>\n",
       "    <tr>\n",
       "        <td>Homewood North</td>\n",
       "        <td>2197</td>\n",
       "    </tr>\n",
       "    <tr>\n",
       "        <td>Allegheny Center</td>\n",
       "        <td>2060</td>\n",
       "    </tr>\n",
       "    <tr>\n",
       "        <td>Allentown</td>\n",
       "        <td>2002</td>\n",
       "    </tr>\n",
       "</table>"
      ],
      "text/plain": [
       "[('Golden Triangle/Civic Arena', 8229),\n",
       " ('South Side Flats', 7692),\n",
       " ('East Allegheny', 3538),\n",
       " ('East Liberty', 3529),\n",
       " ('Carrick', 3422),\n",
       " ('Brighton Heights', 2711),\n",
       " ('Bluff', 2605),\n",
       " ('Sheraden', 2577),\n",
       " ('Marshall-Shadeland', 2534),\n",
       " ('Mount Washington', 2523),\n",
       " ('Brookline', 2400),\n",
       " ('Homewood South', 2392),\n",
       " ('Knoxville', 2308),\n",
       " ('Shadyside', 2301),\n",
       " ('Bloomfield', 2269),\n",
       " ('Lincoln-Lemington-Belmar', 2251),\n",
       " ('Central Northside', 2207),\n",
       " ('Homewood North', 2197),\n",
       " ('Allegheny Center', 2060),\n",
       " ('Allentown', 2002)]"
      ]
     },
     "execution_count": 16,
     "metadata": {},
     "output_type": "execute_result"
    }
   ],
   "source": [
    "%%sql\n",
    "SELECT DISTINCT neighborhood, COUNT(*) as Count\n",
    "FROM pittscrime\n",
    "GROUP BY neighborhood\n",
    "ORDER BY Count DESC\n",
    "LIMIT 20"
   ]
  },
  {
   "cell_type": "markdown",
   "metadata": {},
   "source": [
    "The above table gives the top 20 neighborhoods with the highest crime rate. Golden Triangle/Civic Arena, South Side Flats and East Liberty are the most danagerous neighborhoods."
   ]
  },
  {
   "cell_type": "code",
   "execution_count": 17,
   "metadata": {
    "collapsed": false
   },
   "outputs": [],
   "source": [
    "import matplotlib\n",
    "%matplotlib inline"
   ]
  },
  {
   "cell_type": "code",
   "execution_count": 18,
   "metadata": {
    "collapsed": false
   },
   "outputs": [
    {
     "data": {
      "text/plain": [
       "<Container object of 20 artists>"
      ]
     },
     "execution_count": 18,
     "metadata": {},
     "output_type": "execute_result"
    },
    {
     "data": {
      "image/png": "[encoded data removed]",
      "text/plain": [
       "<matplotlib.figure.Figure at 0x7f82d4587c50>"
      ]
     },
     "metadata": {},
     "output_type": "display_data"
    }
   ],
   "source": [
    "result = _\n",
    "result.bar()"
   ]
  },
  {
   "cell_type": "markdown",
   "metadata": {},
   "source": [
    "The graph tells that Golden Triangle and Southside Flats have much higher crime rate than the other area. Therefore we could make a dimension on location, which includes information on the address, neighborhood and zone of the crime happened. \n",
    "\n",
    "Another dimension we are interested in is Report, which includes information on report_name, description, section and arrest_time. Such information could help quickly identify the type of crime. "
   ]
  },
  {
   "cell_type": "code",
   "execution_count": 19,
   "metadata": {
    "collapsed": false
   },
   "outputs": [
    {
     "name": "stdout",
     "output_type": "stream",
     "text": [
      "20 rows affected.\n"
     ]
    },
    {
     "data": {
      "text/html": [
       "<table>\n",
       "    <tr>\n",
       "        <th>arrest_time</th>\n",
       "        <th>count</th>\n",
       "    </tr>\n",
       "    <tr>\n",
       "        <td>2016-02-01 10:00:00</td>\n",
       "        <td>86</td>\n",
       "    </tr>\n",
       "    <tr>\n",
       "        <td>2016-03-31 11:45:00</td>\n",
       "        <td>65</td>\n",
       "    </tr>\n",
       "    <tr>\n",
       "        <td>2016-04-22 19:30:00</td>\n",
       "        <td>55</td>\n",
       "    </tr>\n",
       "    <tr>\n",
       "        <td>2016-05-13 13:30:00</td>\n",
       "        <td>45</td>\n",
       "    </tr>\n",
       "    <tr>\n",
       "        <td>2015-08-11 16:19:00</td>\n",
       "        <td>39</td>\n",
       "    </tr>\n",
       "    <tr>\n",
       "        <td>2015-09-10 17:05:00</td>\n",
       "        <td>38</td>\n",
       "    </tr>\n",
       "    <tr>\n",
       "        <td>2016-06-11 05:00:00</td>\n",
       "        <td>36</td>\n",
       "    </tr>\n",
       "    <tr>\n",
       "        <td>2016-06-23 18:53:00</td>\n",
       "        <td>35</td>\n",
       "    </tr>\n",
       "    <tr>\n",
       "        <td>2016-02-20 19:00:00</td>\n",
       "        <td>34</td>\n",
       "    </tr>\n",
       "    <tr>\n",
       "        <td>2015-08-16 17:35:00</td>\n",
       "        <td>34</td>\n",
       "    </tr>\n",
       "    <tr>\n",
       "        <td>2016-01-23 19:20:00</td>\n",
       "        <td>31</td>\n",
       "    </tr>\n",
       "    <tr>\n",
       "        <td>2015-11-07 03:19:00</td>\n",
       "        <td>30</td>\n",
       "    </tr>\n",
       "    <tr>\n",
       "        <td>2016-06-26 04:46:00</td>\n",
       "        <td>30</td>\n",
       "    </tr>\n",
       "    <tr>\n",
       "        <td>2015-04-17 19:09:00</td>\n",
       "        <td>30</td>\n",
       "    </tr>\n",
       "    <tr>\n",
       "        <td>2016-09-29 19:15:00</td>\n",
       "        <td>30</td>\n",
       "    </tr>\n",
       "    <tr>\n",
       "        <td>2016-09-28 13:09:00</td>\n",
       "        <td>30</td>\n",
       "    </tr>\n",
       "    <tr>\n",
       "        <td>2015-04-10 20:33:00</td>\n",
       "        <td>28</td>\n",
       "    </tr>\n",
       "    <tr>\n",
       "        <td>2016-09-20 17:08:00</td>\n",
       "        <td>28</td>\n",
       "    </tr>\n",
       "    <tr>\n",
       "        <td>2015-11-02 04:22:00</td>\n",
       "        <td>28</td>\n",
       "    </tr>\n",
       "    <tr>\n",
       "        <td>2016-08-08 14:17:00</td>\n",
       "        <td>27</td>\n",
       "    </tr>\n",
       "</table>"
      ],
      "text/plain": [
       "[(datetime.datetime(2016, 2, 1, 10, 0), 86),\n",
       " (datetime.datetime(2016, 3, 31, 11, 45), 65),\n",
       " (datetime.datetime(2016, 4, 22, 19, 30), 55),\n",
       " (datetime.datetime(2016, 5, 13, 13, 30), 45),\n",
       " (datetime.datetime(2015, 8, 11, 16, 19), 39),\n",
       " (datetime.datetime(2015, 9, 10, 17, 5), 38),\n",
       " (datetime.datetime(2016, 6, 11, 5, 0), 36),\n",
       " (datetime.datetime(2016, 6, 23, 18, 53), 35),\n",
       " (datetime.datetime(2016, 2, 20, 19, 0), 34),\n",
       " (datetime.datetime(2015, 8, 16, 17, 35), 34),\n",
       " (datetime.datetime(2016, 1, 23, 19, 20), 31),\n",
       " (datetime.datetime(2015, 11, 7, 3, 19), 30),\n",
       " (datetime.datetime(2016, 6, 26, 4, 46), 30),\n",
       " (datetime.datetime(2015, 4, 17, 19, 9), 30),\n",
       " (datetime.datetime(2016, 9, 29, 19, 15), 30),\n",
       " (datetime.datetime(2016, 9, 28, 13, 9), 30),\n",
       " (datetime.datetime(2015, 4, 10, 20, 33), 28),\n",
       " (datetime.datetime(2016, 9, 20, 17, 8), 28),\n",
       " (datetime.datetime(2015, 11, 2, 4, 22), 28),\n",
       " (datetime.datetime(2016, 8, 8, 14, 17), 27)]"
      ]
     },
     "execution_count": 19,
     "metadata": {},
     "output_type": "execute_result"
    }
   ],
   "source": [
    "%%sql\n",
    "SELECT DISTINCT arrest_time, COUNT(*) as Count\n",
    "FROM pittscrime\n",
    "GROUP BY arrest_time\n",
    "ORDER BY Count DESC\n",
    "LIMIT 20;"
   ]
  },
  {
   "cell_type": "code",
   "execution_count": 20,
   "metadata": {
    "collapsed": true
   },
   "outputs": [],
   "source": [
    "import matplotlib\n",
    "%matplotlib inline"
   ]
  },
  {
   "cell_type": "code",
   "execution_count": 21,
   "metadata": {
    "collapsed": false
   },
   "outputs": [
    {
     "data": {
      "text/plain": [
       "<Container object of 20 artists>"
      ]
     },
     "execution_count": 21,
     "metadata": {},
     "output_type": "execute_result"
    },
    {
     "data": {
      "image/png": "[encoded data removed]",
      "text/plain": [
       "<matplotlib.figure.Figure at 0x7f82cf8602b0>"
      ]
     },
     "metadata": {},
     "output_type": "display_data"
    }
   ],
   "source": [
    "result = _\n",
    "result.bar()"
   ]
  },
  {
   "cell_type": "markdown",
   "metadata": {},
   "source": [
    "The above graph show that the top 20 time periods of crime happened. However the column includes a lot of information like year, month, day and exact time. So we'd better to separate all these information for better analysis."
   ]
  },
  {
   "cell_type": "code",
   "execution_count": 22,
   "metadata": {
    "collapsed": false
   },
   "outputs": [
    {
     "name": "stdout",
     "output_type": "stream",
     "text": [
      "Done.\n",
      "Done.\n"
     ]
    },
    {
     "data": {
      "text/plain": [
       "[]"
      ]
     },
     "execution_count": 22,
     "metadata": {},
     "output_type": "execute_result"
    }
   ],
   "source": [
    "%%sql\n",
    "DROP TABLE IF EXISTS arrest_day;\n",
    "CREATE TABLE arrest_day (\n",
    "    \n",
    "    day_of_year CHAR(10),\n",
    "    year INTEGER,\n",
    "    month INTEGER,\n",
    "    day INTEGER,\n",
    "    day_of_week_str CHAR(9),\n",
    "    day_of_week INTEGER,\n",
    "    is_weekend BOOLEAN,\n",
    "    is_weekday BOOLEAN,\n",
    "    hour_24 INTEGER,\n",
    "    quarter INTEGER\n",
    ");"
   ]
  },
  {
   "cell_type": "code",
   "execution_count": 23,
   "metadata": {
    "collapsed": false
   },
   "outputs": [
    {
     "name": "stdout",
     "output_type": "stream",
     "text": [
      "13831 rows affected.\n"
     ]
    },
    {
     "data": {
      "text/plain": [
       "[]"
      ]
     },
     "execution_count": 23,
     "metadata": {},
     "output_type": "execute_result"
    }
   ],
   "source": [
    "%%sql\n",
    "INSERT INTO arrest_day (day_of_year, year, month, day, day_of_week_str, day_of_week,\n",
    "                  is_weekend, is_weekday, hour_24, quarter)\n",
    "SELECT DISTINCT TO_CHAR(arrest_time, 'YYYY-MM-DD') AS day_of_year, \n",
    "    CAST(TO_CHAR(arrest_time, 'YYYY') AS INTEGER) AS year,\n",
    "    CAST(TO_CHAR(arrest_time, 'MM') AS INTEGER) AS month,\n",
    "    CAST(TO_CHAR(arrest_time, 'DD') AS INTEGER) AS day,\n",
    "    TO_CHAR(arrest_time, 'Day') AS day_of_week_str,\n",
    "    CAST(TO_CHAR(arrest_time, 'D') AS INTEGER) AS day_of_week,\n",
    "    CASE WHEN CAST(TO_CHAR(arrest_time, 'D') AS INTEGER) IN (1, 7) \n",
    "        THEN TRUE\n",
    "        ELSE FALSE\n",
    "    END AS is_weekend,\n",
    "    CASE WHEN CAST(TO_CHAR(arrest_time, 'D') AS INTEGER) NOT IN (1, 7) \n",
    "        THEN TRUE\n",
    "        ELSE FALSE\n",
    "    END AS is_weekday,\n",
    "    CAST(TO_CHAR(arrest_time, 'HH24') AS INTEGER) AS hour_24,\n",
    "    CAST(TO_CHAR(arrest_time, 'Q') AS INTEGER) AS quarter\n",
    "FROM pittscrime;"
   ]
  },
  {
   "cell_type": "code",
   "execution_count": 24,
   "metadata": {
    "collapsed": false
   },
   "outputs": [
    {
     "name": "stdout",
     "output_type": "stream",
     "text": [
      "10 rows affected.\n"
     ]
    },
    {
     "data": {
      "text/html": [
       "<table>\n",
       "    <tr>\n",
       "        <th>day_of_year</th>\n",
       "        <th>year</th>\n",
       "        <th>month</th>\n",
       "        <th>day</th>\n",
       "        <th>day_of_week_str</th>\n",
       "        <th>day_of_week</th>\n",
       "        <th>is_weekend</th>\n",
       "        <th>is_weekday</th>\n",
       "        <th>hour_24</th>\n",
       "        <th>quarter</th>\n",
       "    </tr>\n",
       "    <tr>\n",
       "        <td>2015-12-23</td>\n",
       "        <td>2015</td>\n",
       "        <td>12</td>\n",
       "        <td>23</td>\n",
       "        <td>Wednesday</td>\n",
       "        <td>4</td>\n",
       "        <td>False</td>\n",
       "        <td>True</td>\n",
       "        <td>14</td>\n",
       "        <td>4</td>\n",
       "    </tr>\n",
       "    <tr>\n",
       "        <td>2016-07-03</td>\n",
       "        <td>2016</td>\n",
       "        <td>7</td>\n",
       "        <td>3</td>\n",
       "        <td>Sunday   </td>\n",
       "        <td>1</td>\n",
       "        <td>True</td>\n",
       "        <td>False</td>\n",
       "        <td>9</td>\n",
       "        <td>3</td>\n",
       "    </tr>\n",
       "    <tr>\n",
       "        <td>2015-07-22</td>\n",
       "        <td>2015</td>\n",
       "        <td>7</td>\n",
       "        <td>22</td>\n",
       "        <td>Wednesday</td>\n",
       "        <td>4</td>\n",
       "        <td>False</td>\n",
       "        <td>True</td>\n",
       "        <td>12</td>\n",
       "        <td>3</td>\n",
       "    </tr>\n",
       "    <tr>\n",
       "        <td>2015-07-30</td>\n",
       "        <td>2015</td>\n",
       "        <td>7</td>\n",
       "        <td>30</td>\n",
       "        <td>Thursday </td>\n",
       "        <td>5</td>\n",
       "        <td>False</td>\n",
       "        <td>True</td>\n",
       "        <td>5</td>\n",
       "        <td>3</td>\n",
       "    </tr>\n",
       "    <tr>\n",
       "        <td>2015-08-11</td>\n",
       "        <td>2015</td>\n",
       "        <td>8</td>\n",
       "        <td>11</td>\n",
       "        <td>Tuesday  </td>\n",
       "        <td>3</td>\n",
       "        <td>False</td>\n",
       "        <td>True</td>\n",
       "        <td>23</td>\n",
       "        <td>3</td>\n",
       "    </tr>\n",
       "    <tr>\n",
       "        <td>2015-08-17</td>\n",
       "        <td>2015</td>\n",
       "        <td>8</td>\n",
       "        <td>17</td>\n",
       "        <td>Monday   </td>\n",
       "        <td>2</td>\n",
       "        <td>False</td>\n",
       "        <td>True</td>\n",
       "        <td>21</td>\n",
       "        <td>3</td>\n",
       "    </tr>\n",
       "    <tr>\n",
       "        <td>2015-09-04</td>\n",
       "        <td>2015</td>\n",
       "        <td>9</td>\n",
       "        <td>4</td>\n",
       "        <td>Friday   </td>\n",
       "        <td>6</td>\n",
       "        <td>False</td>\n",
       "        <td>True</td>\n",
       "        <td>9</td>\n",
       "        <td>3</td>\n",
       "    </tr>\n",
       "    <tr>\n",
       "        <td>2016-07-01</td>\n",
       "        <td>2016</td>\n",
       "        <td>7</td>\n",
       "        <td>1</td>\n",
       "        <td>Friday   </td>\n",
       "        <td>6</td>\n",
       "        <td>False</td>\n",
       "        <td>True</td>\n",
       "        <td>21</td>\n",
       "        <td>3</td>\n",
       "    </tr>\n",
       "    <tr>\n",
       "        <td>2015-06-24</td>\n",
       "        <td>2015</td>\n",
       "        <td>6</td>\n",
       "        <td>24</td>\n",
       "        <td>Wednesday</td>\n",
       "        <td>4</td>\n",
       "        <td>False</td>\n",
       "        <td>True</td>\n",
       "        <td>23</td>\n",
       "        <td>2</td>\n",
       "    </tr>\n",
       "    <tr>\n",
       "        <td>2015-10-21</td>\n",
       "        <td>2015</td>\n",
       "        <td>10</td>\n",
       "        <td>21</td>\n",
       "        <td>Wednesday</td>\n",
       "        <td>4</td>\n",
       "        <td>False</td>\n",
       "        <td>True</td>\n",
       "        <td>9</td>\n",
       "        <td>4</td>\n",
       "    </tr>\n",
       "</table>"
      ],
      "text/plain": [
       "[('2015-12-23', 2015, 12, 23, 'Wednesday', 4, False, True, 14, 4),\n",
       " ('2016-07-03', 2016, 7, 3, 'Sunday   ', 1, True, False, 9, 3),\n",
       " ('2015-07-22', 2015, 7, 22, 'Wednesday', 4, False, True, 12, 3),\n",
       " ('2015-07-30', 2015, 7, 30, 'Thursday ', 5, False, True, 5, 3),\n",
       " ('2015-08-11', 2015, 8, 11, 'Tuesday  ', 3, False, True, 23, 3),\n",
       " ('2015-08-17', 2015, 8, 17, 'Monday   ', 2, False, True, 21, 3),\n",
       " ('2015-09-04', 2015, 9, 4, 'Friday   ', 6, False, True, 9, 3),\n",
       " ('2016-07-01', 2016, 7, 1, 'Friday   ', 6, False, True, 21, 3),\n",
       " ('2015-06-24', 2015, 6, 24, 'Wednesday', 4, False, True, 23, 2),\n",
       " ('2015-10-21', 2015, 10, 21, 'Wednesday', 4, False, True, 9, 4)]"
      ]
     },
     "execution_count": 24,
     "metadata": {},
     "output_type": "execute_result"
    }
   ],
   "source": [
    "%%sql\n",
    "SELECT * FROM arrest_day\n",
    "LIMIT 10;"
   ]
  },
  {
   "cell_type": "markdown",
   "metadata": {},
   "source": [
    "The above table separates the information included in the \"arrest_time\" column from tabble \"pittscrime\" into a new table called \"days\". We could clearly see the detailed information on the time on each of the crime happened."
   ]
  },
  {
   "cell_type": "markdown",
   "metadata": {},
   "source": [
    "## Problem 3 - define a star schema, and load your data into it (30 points)\n",
    "\n",
    "Define a star schema consisting of at least one fact table and at least two dimensions.  Transform your source data into the new fact table and dimensions.  Discuss your key modeling decisions.\n",
    "\n",
    "Document your star schema with a diagram.  There several tools available for this, such as Google Docs and Microsoft Visio."
   ]
  },
  {
   "cell_type": "markdown",
   "metadata": {},
   "source": [
    "We create three dimension tables, which are report_dim,location_dim and arrest_day respectively. The report_dim table includes report_dim_id, report_name, ccr, section, description. The location_dim table contains location_dim_id, neighborhood, zone and address.\n",
    "The arrest_day dimension table includes arrestday_dim_id, day_of_year, year, month, day, day_of_week_str, day_of_week, is_weekend, is_weekday, hour_24, quarter. Finally, the pittscrime_fact table includes location_dim_id, report_dim_id, report_name, ccr, section, description, neighborhood, zone, arrest_time."
   ]
  },
  {
   "cell_type": "code",
   "execution_count": 25,
   "metadata": {
    "collapsed": false
   },
   "outputs": [
    {
     "name": "stdout",
     "output_type": "stream",
     "text": [
      "/home/jovyan/work\r\n"
     ]
    }
   ],
   "source": [
    "!pwd"
   ]
  },
  {
   "cell_type": "code",
   "execution_count": 26,
   "metadata": {
    "collapsed": true
   },
   "outputs": [],
   "source": [
    "from IPython.display import Image\n",
    "PATH = \"/home/jovyan/work/\""
   ]
  },
  {
   "cell_type": "code",
   "execution_count": 27,
   "metadata": {
    "collapsed": false
   },
   "outputs": [
    {
     "data": {
      "image/png": "[encoded data removed]",
      "text/plain": [
       "<IPython.core.display.Image object>"
      ]
     },
     "execution_count": 27,
     "metadata": {
      "image/png": {
       "height": 1000,
       "width": 1000
      }
     },
     "output_type": "execute_result"
    }
   ],
   "source": [
    "Image(filename = PATH + \"starschema.png\", width=1000, height=1000)"
   ]
  },
  {
   "cell_type": "markdown",
   "metadata": {},
   "source": [
    "Add primary key to table \"arrest_day\" to create the first dimension table \"arrest_day\"."
   ]
  },
  {
   "cell_type": "code",
   "execution_count": 28,
   "metadata": {
    "collapsed": false
   },
   "outputs": [
    {
     "name": "stdout",
     "output_type": "stream",
     "text": [
      "Done.\n"
     ]
    },
    {
     "data": {
      "text/plain": [
       "[]"
      ]
     },
     "execution_count": 28,
     "metadata": {},
     "output_type": "execute_result"
    }
   ],
   "source": [
    "%%sql\n",
    "ALTER TABLE arrest_day\n",
    "ADD COLUMN arrestday_dim_id SERIAL PRIMARY KEY NOT NULL;"
   ]
  },
  {
   "cell_type": "code",
   "execution_count": 29,
   "metadata": {
    "collapsed": false
   },
   "outputs": [
    {
     "name": "stdout",
     "output_type": "stream",
     "text": [
      "10 rows affected.\n"
     ]
    },
    {
     "data": {
      "text/html": [
       "<table>\n",
       "    <tr>\n",
       "        <th>day_of_year</th>\n",
       "        <th>year</th>\n",
       "        <th>month</th>\n",
       "        <th>day</th>\n",
       "        <th>day_of_week_str</th>\n",
       "        <th>day_of_week</th>\n",
       "        <th>is_weekend</th>\n",
       "        <th>is_weekday</th>\n",
       "        <th>hour_24</th>\n",
       "        <th>quarter</th>\n",
       "        <th>arrestday_dim_id</th>\n",
       "    </tr>\n",
       "    <tr>\n",
       "        <td>2015-12-23</td>\n",
       "        <td>2015</td>\n",
       "        <td>12</td>\n",
       "        <td>23</td>\n",
       "        <td>Wednesday</td>\n",
       "        <td>4</td>\n",
       "        <td>False</td>\n",
       "        <td>True</td>\n",
       "        <td>14</td>\n",
       "        <td>4</td>\n",
       "        <td>1</td>\n",
       "    </tr>\n",
       "    <tr>\n",
       "        <td>2016-07-03</td>\n",
       "        <td>2016</td>\n",
       "        <td>7</td>\n",
       "        <td>3</td>\n",
       "        <td>Sunday   </td>\n",
       "        <td>1</td>\n",
       "        <td>True</td>\n",
       "        <td>False</td>\n",
       "        <td>9</td>\n",
       "        <td>3</td>\n",
       "        <td>2</td>\n",
       "    </tr>\n",
       "    <tr>\n",
       "        <td>2015-07-22</td>\n",
       "        <td>2015</td>\n",
       "        <td>7</td>\n",
       "        <td>22</td>\n",
       "        <td>Wednesday</td>\n",
       "        <td>4</td>\n",
       "        <td>False</td>\n",
       "        <td>True</td>\n",
       "        <td>12</td>\n",
       "        <td>3</td>\n",
       "        <td>3</td>\n",
       "    </tr>\n",
       "    <tr>\n",
       "        <td>2015-07-30</td>\n",
       "        <td>2015</td>\n",
       "        <td>7</td>\n",
       "        <td>30</td>\n",
       "        <td>Thursday </td>\n",
       "        <td>5</td>\n",
       "        <td>False</td>\n",
       "        <td>True</td>\n",
       "        <td>5</td>\n",
       "        <td>3</td>\n",
       "        <td>4</td>\n",
       "    </tr>\n",
       "    <tr>\n",
       "        <td>2015-08-11</td>\n",
       "        <td>2015</td>\n",
       "        <td>8</td>\n",
       "        <td>11</td>\n",
       "        <td>Tuesday  </td>\n",
       "        <td>3</td>\n",
       "        <td>False</td>\n",
       "        <td>True</td>\n",
       "        <td>23</td>\n",
       "        <td>3</td>\n",
       "        <td>5</td>\n",
       "    </tr>\n",
       "    <tr>\n",
       "        <td>2015-08-17</td>\n",
       "        <td>2015</td>\n",
       "        <td>8</td>\n",
       "        <td>17</td>\n",
       "        <td>Monday   </td>\n",
       "        <td>2</td>\n",
       "        <td>False</td>\n",
       "        <td>True</td>\n",
       "        <td>21</td>\n",
       "        <td>3</td>\n",
       "        <td>6</td>\n",
       "    </tr>\n",
       "    <tr>\n",
       "        <td>2015-09-04</td>\n",
       "        <td>2015</td>\n",
       "        <td>9</td>\n",
       "        <td>4</td>\n",
       "        <td>Friday   </td>\n",
       "        <td>6</td>\n",
       "        <td>False</td>\n",
       "        <td>True</td>\n",
       "        <td>9</td>\n",
       "        <td>3</td>\n",
       "        <td>7</td>\n",
       "    </tr>\n",
       "    <tr>\n",
       "        <td>2016-07-01</td>\n",
       "        <td>2016</td>\n",
       "        <td>7</td>\n",
       "        <td>1</td>\n",
       "        <td>Friday   </td>\n",
       "        <td>6</td>\n",
       "        <td>False</td>\n",
       "        <td>True</td>\n",
       "        <td>21</td>\n",
       "        <td>3</td>\n",
       "        <td>8</td>\n",
       "    </tr>\n",
       "    <tr>\n",
       "        <td>2015-06-24</td>\n",
       "        <td>2015</td>\n",
       "        <td>6</td>\n",
       "        <td>24</td>\n",
       "        <td>Wednesday</td>\n",
       "        <td>4</td>\n",
       "        <td>False</td>\n",
       "        <td>True</td>\n",
       "        <td>23</td>\n",
       "        <td>2</td>\n",
       "        <td>9</td>\n",
       "    </tr>\n",
       "    <tr>\n",
       "        <td>2015-10-21</td>\n",
       "        <td>2015</td>\n",
       "        <td>10</td>\n",
       "        <td>21</td>\n",
       "        <td>Wednesday</td>\n",
       "        <td>4</td>\n",
       "        <td>False</td>\n",
       "        <td>True</td>\n",
       "        <td>9</td>\n",
       "        <td>4</td>\n",
       "        <td>10</td>\n",
       "    </tr>\n",
       "</table>"
      ],
      "text/plain": [
       "[('2015-12-23', 2015, 12, 23, 'Wednesday', 4, False, True, 14, 4, 1),\n",
       " ('2016-07-03', 2016, 7, 3, 'Sunday   ', 1, True, False, 9, 3, 2),\n",
       " ('2015-07-22', 2015, 7, 22, 'Wednesday', 4, False, True, 12, 3, 3),\n",
       " ('2015-07-30', 2015, 7, 30, 'Thursday ', 5, False, True, 5, 3, 4),\n",
       " ('2015-08-11', 2015, 8, 11, 'Tuesday  ', 3, False, True, 23, 3, 5),\n",
       " ('2015-08-17', 2015, 8, 17, 'Monday   ', 2, False, True, 21, 3, 6),\n",
       " ('2015-09-04', 2015, 9, 4, 'Friday   ', 6, False, True, 9, 3, 7),\n",
       " ('2016-07-01', 2016, 7, 1, 'Friday   ', 6, False, True, 21, 3, 8),\n",
       " ('2015-06-24', 2015, 6, 24, 'Wednesday', 4, False, True, 23, 2, 9),\n",
       " ('2015-10-21', 2015, 10, 21, 'Wednesday', 4, False, True, 9, 4, 10)]"
      ]
     },
     "execution_count": 29,
     "metadata": {},
     "output_type": "execute_result"
    }
   ],
   "source": [
    "%%sql\n",
    "SELECT *\n",
    "FROM arrest_day\n",
    "LIMIT 10"
   ]
  },
  {
   "cell_type": "markdown",
   "metadata": {},
   "source": [
    "This step is to create a location dimension."
   ]
  },
  {
   "cell_type": "code",
   "execution_count": 30,
   "metadata": {
    "collapsed": false
   },
   "outputs": [
    {
     "name": "stdout",
     "output_type": "stream",
     "text": [
      "Done.\n",
      "Done.\n"
     ]
    },
    {
     "data": {
      "text/plain": [
       "[]"
      ]
     },
     "execution_count": 30,
     "metadata": {},
     "output_type": "execute_result"
    }
   ],
   "source": [
    "%%sql\n",
    "DROP TABLE IF EXISTS location_dim;\n",
    "CREATE TABLE location_dim (\n",
    "  location_dim_id SERIAL PRIMARY KEY,\n",
    "  address VARCHAR(53) DEFAULT NULL, \n",
    "  neighborhood VARCHAR(27) DEFAULT NULL,\n",
    "  zone INTEGER DEFAULT NULL  \n",
    ");"
   ]
  },
  {
   "cell_type": "code",
   "execution_count": 31,
   "metadata": {
    "collapsed": false
   },
   "outputs": [
    {
     "name": "stdout",
     "output_type": "stream",
     "text": [
      "118610 rows affected.\n"
     ]
    },
    {
     "data": {
      "text/plain": [
       "[]"
      ]
     },
     "execution_count": 31,
     "metadata": {},
     "output_type": "execute_result"
    }
   ],
   "source": [
    "%%sql\n",
    "INSERT INTO location_dim (address,neighborhood,zone)\n",
    "SELECT ADDRESS,NEIGHBORHOOD,ZONE \n",
    "from pittscrime\n",
    ";"
   ]
  },
  {
   "cell_type": "code",
   "execution_count": 32,
   "metadata": {
    "collapsed": false
   },
   "outputs": [
    {
     "name": "stdout",
     "output_type": "stream",
     "text": [
      "10 rows affected.\n"
     ]
    },
    {
     "data": {
      "text/html": [
       "<table>\n",
       "    <tr>\n",
       "        <th>location_dim_id</th>\n",
       "        <th>address</th>\n",
       "        <th>neighborhood</th>\n",
       "        <th>zone</th>\n",
       "    </tr>\n",
       "    <tr>\n",
       "        <td>1</td>\n",
       "        <td>700 block E Warrington Ave</td>\n",
       "        <td>Allentown</td>\n",
       "        <td>3</td>\n",
       "    </tr>\n",
       "    <tr>\n",
       "        <td>2</td>\n",
       "        <td>2500 block E Carson St</td>\n",
       "        <td>South Side Flats</td>\n",
       "        <td>3</td>\n",
       "    </tr>\n",
       "    <tr>\n",
       "        <td>3</td>\n",
       "        <td>Zone 1</td>\n",
       "        <td>Brighton Heights</td>\n",
       "        <td>1</td>\n",
       "    </tr>\n",
       "    <tr>\n",
       "        <td>4</td>\n",
       "        <td>400 block Ruxton St</td>\n",
       "        <td>Mount Washington</td>\n",
       "        <td>3</td>\n",
       "    </tr>\n",
       "    <tr>\n",
       "        <td>5</td>\n",
       "        <td>400 block Ruxton St</td>\n",
       "        <td>Mount Washington</td>\n",
       "        <td>3</td>\n",
       "    </tr>\n",
       "    <tr>\n",
       "        <td>6</td>\n",
       "        <td>800 block E Warrington Ave</td>\n",
       "        <td>Allentown</td>\n",
       "        <td>3</td>\n",
       "    </tr>\n",
       "    <tr>\n",
       "        <td>7</td>\n",
       "        <td>15th St &amp; bike trail</td>\n",
       "        <td>South Side Flats</td>\n",
       "        <td>3</td>\n",
       "    </tr>\n",
       "    <tr>\n",
       "        <td>8</td>\n",
       "        <td>Pius St</td>\n",
       "        <td>South Side Slopes</td>\n",
       "        <td>3</td>\n",
       "    </tr>\n",
       "    <tr>\n",
       "        <td>9</td>\n",
       "        <td>Pius St</td>\n",
       "        <td>South Side Slopes</td>\n",
       "        <td>3</td>\n",
       "    </tr>\n",
       "    <tr>\n",
       "        <td>10</td>\n",
       "        <td>100 block Olympia St</td>\n",
       "        <td>Mount Washington</td>\n",
       "        <td>3</td>\n",
       "    </tr>\n",
       "</table>"
      ],
      "text/plain": [
       "[(1, '700 block E Warrington Ave', 'Allentown', 3),\n",
       " (2, '2500 block E Carson St', 'South Side Flats', 3),\n",
       " (3, 'Zone 1', 'Brighton Heights', 1),\n",
       " (4, '400 block Ruxton St', 'Mount Washington', 3),\n",
       " (5, '400 block Ruxton St', 'Mount Washington', 3),\n",
       " (6, '800 block E Warrington Ave', 'Allentown', 3),\n",
       " (7, '15th St & bike trail', 'South Side Flats', 3),\n",
       " (8, 'Pius St', 'South Side Slopes', 3),\n",
       " (9, 'Pius St', 'South Side Slopes', 3),\n",
       " (10, '100 block Olympia St', 'Mount Washington', 3)]"
      ]
     },
     "execution_count": 32,
     "metadata": {},
     "output_type": "execute_result"
    }
   ],
   "source": [
    "%%sql\n",
    "SELECT *\n",
    "FROM location_dim\n",
    "LIMIT 10;"
   ]
  },
  {
   "cell_type": "markdown",
   "metadata": {},
   "source": [
    "This step is to create a location dimension."
   ]
  },
  {
   "cell_type": "code",
   "execution_count": 33,
   "metadata": {
    "collapsed": false
   },
   "outputs": [
    {
     "name": "stdout",
     "output_type": "stream",
     "text": [
      "Done.\n",
      "Done.\n"
     ]
    },
    {
     "data": {
      "text/plain": [
       "[]"
      ]
     },
     "execution_count": 33,
     "metadata": {},
     "output_type": "execute_result"
    }
   ],
   "source": [
    "%%sql\n",
    "DROP TABLE IF EXISTS report_dim;\n",
    "CREATE TABLE report_dim (\n",
    "  report_dim_id SERIAL PRIMARY KEY,\n",
    "  report_name VARCHAR(11) DEFAULT NULL,\n",
    "  ccr INTEGER DEFAULT NULL,\n",
    "  section VARCHAR(19) DEFAULT NULL,\n",
    "  description VARCHAR(128) DEFAULT NULL\n",
    ");"
   ]
  },
  {
   "cell_type": "code",
   "execution_count": 34,
   "metadata": {
    "collapsed": false
   },
   "outputs": [
    {
     "name": "stdout",
     "output_type": "stream",
     "text": [
      "118610 rows affected.\n"
     ]
    },
    {
     "data": {
      "text/plain": [
       "[]"
      ]
     },
     "execution_count": 34,
     "metadata": {},
     "output_type": "execute_result"
    }
   ],
   "source": [
    "%%sql\n",
    "INSERT INTO report_dim (report_name, ccr, section,description)\n",
    "SELECT \n",
    "    REPORT_NAME, \n",
    "    CCR,\n",
    "    SECTION,\n",
    "    DESCRIPTION\n",
    "from pittscrime\n",
    ";"
   ]
  },
  {
   "cell_type": "code",
   "execution_count": 35,
   "metadata": {
    "collapsed": false
   },
   "outputs": [
    {
     "name": "stdout",
     "output_type": "stream",
     "text": [
      "10 rows affected.\n"
     ]
    },
    {
     "data": {
      "text/html": [
       "<table>\n",
       "    <tr>\n",
       "        <th>report_dim_id</th>\n",
       "        <th>report_name</th>\n",
       "        <th>ccr</th>\n",
       "        <th>section</th>\n",
       "        <th>description</th>\n",
       "    </tr>\n",
       "    <tr>\n",
       "        <td>1</td>\n",
       "        <td>OFFENSE 2.0</td>\n",
       "        <td>15154929</td>\n",
       "        <td>3502</td>\n",
       "        <td>Burglary.</td>\n",
       "    </tr>\n",
       "    <tr>\n",
       "        <td>2</td>\n",
       "        <td>OFFENSE 2.0</td>\n",
       "        <td>15155179</td>\n",
       "        <td>3502</td>\n",
       "        <td>Burglary.</td>\n",
       "    </tr>\n",
       "    <tr>\n",
       "        <td>3</td>\n",
       "        <td>OFFENSE 2.0</td>\n",
       "        <td>15161163</td>\n",
       "        <td>9124</td>\n",
       "        <td>Drug Investigation</td>\n",
       "    </tr>\n",
       "    <tr>\n",
       "        <td>4</td>\n",
       "        <td>OFFENSE 2.0</td>\n",
       "        <td>15155881</td>\n",
       "        <td>4106</td>\n",
       "        <td>Access Device Fraud</td>\n",
       "    </tr>\n",
       "    <tr>\n",
       "        <td>5</td>\n",
       "        <td>OFFENSE 2.0</td>\n",
       "        <td>15155881</td>\n",
       "        <td>3502</td>\n",
       "        <td>Burglary.</td>\n",
       "    </tr>\n",
       "    <tr>\n",
       "        <td>6</td>\n",
       "        <td>OFFENSE 2.0</td>\n",
       "        <td>15155037</td>\n",
       "        <td>9999</td>\n",
       "        <td>9999 - (Misc. Incident): Forced Entry</td>\n",
       "    </tr>\n",
       "    <tr>\n",
       "        <td>7</td>\n",
       "        <td>OFFENSE 2.0</td>\n",
       "        <td>15155104</td>\n",
       "        <td>601.08(a)</td>\n",
       "        <td>Alcohol or Liquor Consumption on Streets or Sidewalks</td>\n",
       "    </tr>\n",
       "    <tr>\n",
       "        <td>8</td>\n",
       "        <td>OFFENSE 2.0</td>\n",
       "        <td>15155119</td>\n",
       "        <td>3304</td>\n",
       "        <td>Criminal Mischief.</td>\n",
       "    </tr>\n",
       "    <tr>\n",
       "        <td>9</td>\n",
       "        <td>OFFENSE 2.0</td>\n",
       "        <td>15155119</td>\n",
       "        <td>3503(a)</td>\n",
       "        <td>Criminal Trespass</td>\n",
       "    </tr>\n",
       "    <tr>\n",
       "        <td>10</td>\n",
       "        <td>OFFENSE 2.0</td>\n",
       "        <td>15155406</td>\n",
       "        <td>3922</td>\n",
       "        <td>Theft by Deception.</td>\n",
       "    </tr>\n",
       "</table>"
      ],
      "text/plain": [
       "[(1, 'OFFENSE 2.0', 15154929, '3502', 'Burglary.'),\n",
       " (2, 'OFFENSE 2.0', 15155179, '3502', 'Burglary.'),\n",
       " (3, 'OFFENSE 2.0', 15161163, '9124', 'Drug Investigation'),\n",
       " (4, 'OFFENSE 2.0', 15155881, '4106', 'Access Device Fraud'),\n",
       " (5, 'OFFENSE 2.0', 15155881, '3502', 'Burglary.'),\n",
       " (6, 'OFFENSE 2.0', 15155037, '9999', '9999 - (Misc. Incident): Forced Entry'),\n",
       " (7, 'OFFENSE 2.0', 15155104, '601.08(a)', 'Alcohol or Liquor Consumption on Streets or Sidewalks'),\n",
       " (8, 'OFFENSE 2.0', 15155119, '3304', 'Criminal Mischief.'),\n",
       " (9, 'OFFENSE 2.0', 15155119, '3503(a)', 'Criminal Trespass'),\n",
       " (10, 'OFFENSE 2.0', 15155406, '3922', 'Theft by Deception.')]"
      ]
     },
     "execution_count": 35,
     "metadata": {},
     "output_type": "execute_result"
    }
   ],
   "source": [
    "%%sql\n",
    "SELECT *\n",
    "FROM report_dim\n",
    "LIMIT 10;"
   ]
  },
  {
   "cell_type": "code",
   "execution_count": 36,
   "metadata": {
    "collapsed": false
   },
   "outputs": [
    {
     "name": "stdout",
     "output_type": "stream",
     "text": [
      "Done.\n",
      "Done.\n"
     ]
    },
    {
     "data": {
      "text/plain": [
       "[]"
      ]
     },
     "execution_count": 36,
     "metadata": {},
     "output_type": "execute_result"
    }
   ],
   "source": [
    "%%sql\n",
    "DROP TABLE IF EXISTS pittscrime_fact;\n",
    "CREATE TABLE pittscrime_fact (\n",
    "  location_dim_id SERIAL NOT NULL,\n",
    "  report_dim_id SERIAL NOT NULL,\n",
    "  arrestday_dim_id SERIAL NOT NULL,\n",
    "    \n",
    "  report_name VARCHAR(11) ,\n",
    "  ccr INTEGER,\n",
    "  section VARCHAR(19),\n",
    "  neighborhood VARCHAR(27),\n",
    "  zone INTEGER,\n",
    "  arrest_time TIMESTAMP\n",
    ");"
   ]
  },
  {
   "cell_type": "code",
   "execution_count": 37,
   "metadata": {
    "collapsed": false
   },
   "outputs": [
    {
     "name": "stdout",
     "output_type": "stream",
     "text": [
      "118610 rows affected.\n"
     ]
    },
    {
     "data": {
      "text/plain": [
       "[]"
      ]
     },
     "execution_count": 37,
     "metadata": {},
     "output_type": "execute_result"
    }
   ],
   "source": [
    "%%sql\n",
    "INSERT INTO pittscrime_fact (report_name,ccr,section,neighborhood,zone,arrest_time)\n",
    "SELECT report_name,ccr,section,neighborhood,zone,arrest_time\n",
    "FROM pittscrime\n",
    ";"
   ]
  },
  {
   "cell_type": "code",
   "execution_count": 38,
   "metadata": {
    "collapsed": false
   },
   "outputs": [
    {
     "name": "stdout",
     "output_type": "stream",
     "text": [
      "13831 rows affected.\n"
     ]
    },
    {
     "data": {
      "text/plain": [
       "[]"
      ]
     },
     "execution_count": 38,
     "metadata": {},
     "output_type": "execute_result"
    }
   ],
   "source": [
    "%%sql\n",
    "INSERT INTO pittscrime_fact (arrestday_dim_id)\n",
    "SELECT arrestday_dim_id\n",
    "FROM arrest_day\n",
    ";"
   ]
  },
  {
   "cell_type": "code",
   "execution_count": 39,
   "metadata": {
    "collapsed": false
   },
   "outputs": [
    {
     "name": "stdout",
     "output_type": "stream",
     "text": [
      "118610 rows affected.\n"
     ]
    },
    {
     "data": {
      "text/plain": [
       "[]"
      ]
     },
     "execution_count": 39,
     "metadata": {},
     "output_type": "execute_result"
    }
   ],
   "source": [
    "%%sql\n",
    "INSERT INTO pittscrime_fact (location_dim_id)\n",
    "SELECT location_dim_id\n",
    "FROM location_dim\n",
    ";"
   ]
  },
  {
   "cell_type": "code",
   "execution_count": 40,
   "metadata": {
    "collapsed": false
   },
   "outputs": [
    {
     "name": "stdout",
     "output_type": "stream",
     "text": [
      "118610 rows affected.\n"
     ]
    },
    {
     "data": {
      "text/plain": [
       "[]"
      ]
     },
     "execution_count": 40,
     "metadata": {},
     "output_type": "execute_result"
    }
   ],
   "source": [
    "%%sql\n",
    "INSERT INTO pittscrime_fact (report_dim_id)\n",
    "SELECT report_dim_id\n",
    "FROM report_dim\n",
    ";"
   ]
  },
  {
   "cell_type": "code",
   "execution_count": 41,
   "metadata": {
    "collapsed": false
   },
   "outputs": [
    {
     "name": "stdout",
     "output_type": "stream",
     "text": [
      "295067 rows affected.\n",
      "251051 rows affected.\n",
      "251051 rows affected.\n",
      "251052 rows affected.\n",
      "251596 rows affected.\n"
     ]
    },
    {
     "data": {
      "text/plain": [
       "[]"
      ]
     },
     "execution_count": 41,
     "metadata": {},
     "output_type": "execute_result"
    }
   ],
   "source": [
    "%%sql\n",
    "UPDATE pittscrime_fact SET report_name = 'Null' where report_name is null;\n",
    "UPDATE pittscrime_fact SET ccr = -888 where ccr is null;\n",
    "UPDATE pittscrime_fact SET section = -888 where section is null;\n",
    "UPDATE pittscrime_fact SET neighborhood = 'Null' where neighborhood is null;\n",
    "UPDATE pittscrime_fact SET zone = -888 where zone is null;"
   ]
  },
  {
   "cell_type": "code",
   "execution_count": 42,
   "metadata": {
    "collapsed": false
   },
   "outputs": [
    {
     "name": "stdout",
     "output_type": "stream",
     "text": [
      "20 rows affected.\n"
     ]
    },
    {
     "data": {
      "text/html": [
       "<table>\n",
       "    <tr>\n",
       "        <th>location_dim_id</th>\n",
       "        <th>report_dim_id</th>\n",
       "        <th>arrestday_dim_id</th>\n",
       "        <th>report_name</th>\n",
       "        <th>ccr</th>\n",
       "        <th>section</th>\n",
       "        <th>neighborhood</th>\n",
       "        <th>zone</th>\n",
       "        <th>arrest_time</th>\n",
       "    </tr>\n",
       "    <tr>\n",
       "        <td>1</td>\n",
       "        <td>1</td>\n",
       "        <td>1</td>\n",
       "        <td>OFFENSE 2.0</td>\n",
       "        <td>15154929</td>\n",
       "        <td>3502</td>\n",
       "        <td>Allentown</td>\n",
       "        <td>3</td>\n",
       "        <td>2015-08-18 06:13:00</td>\n",
       "    </tr>\n",
       "    <tr>\n",
       "        <td>2</td>\n",
       "        <td>2</td>\n",
       "        <td>2</td>\n",
       "        <td>OFFENSE 2.0</td>\n",
       "        <td>15155179</td>\n",
       "        <td>3502</td>\n",
       "        <td>South Side Flats</td>\n",
       "        <td>3</td>\n",
       "        <td>2015-08-18 07:45:00</td>\n",
       "    </tr>\n",
       "    <tr>\n",
       "        <td>3</td>\n",
       "        <td>3</td>\n",
       "        <td>3</td>\n",
       "        <td>OFFENSE 2.0</td>\n",
       "        <td>15161163</td>\n",
       "        <td>9124</td>\n",
       "        <td>Brighton Heights</td>\n",
       "        <td>1</td>\n",
       "        <td>2015-08-26 18:15:00</td>\n",
       "    </tr>\n",
       "    <tr>\n",
       "        <td>4</td>\n",
       "        <td>4</td>\n",
       "        <td>4</td>\n",
       "        <td>OFFENSE 2.0</td>\n",
       "        <td>15155881</td>\n",
       "        <td>4106</td>\n",
       "        <td>Mount Washington</td>\n",
       "        <td>3</td>\n",
       "        <td>2015-08-18 10:00:00</td>\n",
       "    </tr>\n",
       "    <tr>\n",
       "        <td>5</td>\n",
       "        <td>5</td>\n",
       "        <td>5</td>\n",
       "        <td>OFFENSE 2.0</td>\n",
       "        <td>15155881</td>\n",
       "        <td>3502</td>\n",
       "        <td>Mount Washington</td>\n",
       "        <td>3</td>\n",
       "        <td>2015-08-18 10:00:00</td>\n",
       "    </tr>\n",
       "    <tr>\n",
       "        <td>6</td>\n",
       "        <td>6</td>\n",
       "        <td>6</td>\n",
       "        <td>OFFENSE 2.0</td>\n",
       "        <td>15155037</td>\n",
       "        <td>9999</td>\n",
       "        <td>Allentown</td>\n",
       "        <td>3</td>\n",
       "        <td>2015-08-18 10:18:00</td>\n",
       "    </tr>\n",
       "    <tr>\n",
       "        <td>7</td>\n",
       "        <td>7</td>\n",
       "        <td>7</td>\n",
       "        <td>OFFENSE 2.0</td>\n",
       "        <td>15155104</td>\n",
       "        <td>601.08(a)</td>\n",
       "        <td>South Side Flats</td>\n",
       "        <td>3</td>\n",
       "        <td>2015-08-18 11:35:00</td>\n",
       "    </tr>\n",
       "    <tr>\n",
       "        <td>8</td>\n",
       "        <td>8</td>\n",
       "        <td>8</td>\n",
       "        <td>OFFENSE 2.0</td>\n",
       "        <td>15155119</td>\n",
       "        <td>3304</td>\n",
       "        <td>South Side Slopes</td>\n",
       "        <td>3</td>\n",
       "        <td>2015-08-18 13:30:00</td>\n",
       "    </tr>\n",
       "    <tr>\n",
       "        <td>9</td>\n",
       "        <td>9</td>\n",
       "        <td>9</td>\n",
       "        <td>OFFENSE 2.0</td>\n",
       "        <td>15155119</td>\n",
       "        <td>3503(a)</td>\n",
       "        <td>South Side Slopes</td>\n",
       "        <td>3</td>\n",
       "        <td>2015-08-18 13:30:00</td>\n",
       "    </tr>\n",
       "    <tr>\n",
       "        <td>10</td>\n",
       "        <td>10</td>\n",
       "        <td>10</td>\n",
       "        <td>OFFENSE 2.0</td>\n",
       "        <td>15155406</td>\n",
       "        <td>3922</td>\n",
       "        <td>Mount Washington</td>\n",
       "        <td>3</td>\n",
       "        <td>2015-08-18 15:00:00</td>\n",
       "    </tr>\n",
       "    <tr>\n",
       "        <td>11</td>\n",
       "        <td>11</td>\n",
       "        <td>11</td>\n",
       "        <td>OFFENSE 2.0</td>\n",
       "        <td>15155406</td>\n",
       "        <td>4120</td>\n",
       "        <td>Mount Washington</td>\n",
       "        <td>3</td>\n",
       "        <td>2015-08-18 15:00:00</td>\n",
       "    </tr>\n",
       "    <tr>\n",
       "        <td>12</td>\n",
       "        <td>12</td>\n",
       "        <td>12</td>\n",
       "        <td>OFFENSE 2.0</td>\n",
       "        <td>15155207</td>\n",
       "        <td>3304</td>\n",
       "        <td>Knoxville</td>\n",
       "        <td>3</td>\n",
       "        <td>2015-08-18 15:28:00</td>\n",
       "    </tr>\n",
       "    <tr>\n",
       "        <td>13</td>\n",
       "        <td>13</td>\n",
       "        <td>13</td>\n",
       "        <td>OFFENSE 2.0</td>\n",
       "        <td>15155207</td>\n",
       "        <td>5505</td>\n",
       "        <td>Knoxville</td>\n",
       "        <td>3</td>\n",
       "        <td>2015-08-18 15:28:00</td>\n",
       "    </tr>\n",
       "    <tr>\n",
       "        <td>14</td>\n",
       "        <td>14</td>\n",
       "        <td>14</td>\n",
       "        <td>OFFENSE 2.0</td>\n",
       "        <td>15155219</td>\n",
       "        <td>3743</td>\n",
       "        <td>Beltzhoover</td>\n",
       "        <td>3</td>\n",
       "        <td>2015-08-18 15:50:00</td>\n",
       "    </tr>\n",
       "    <tr>\n",
       "        <td>15</td>\n",
       "        <td>15</td>\n",
       "        <td>15</td>\n",
       "        <td>OFFENSE 2.0</td>\n",
       "        <td>15155254</td>\n",
       "        <td>9999</td>\n",
       "        <td>Beltzhoover</td>\n",
       "        <td>3</td>\n",
       "        <td>2015-08-18 16:00:00</td>\n",
       "    </tr>\n",
       "    <tr>\n",
       "        <td>16</td>\n",
       "        <td>16</td>\n",
       "        <td>16</td>\n",
       "        <td>ARREST</td>\n",
       "        <td>15155207</td>\n",
       "        <td>5505</td>\n",
       "        <td>Knoxville</td>\n",
       "        <td>3</td>\n",
       "        <td>2015-08-18 16:16:00</td>\n",
       "    </tr>\n",
       "    <tr>\n",
       "        <td>17</td>\n",
       "        <td>17</td>\n",
       "        <td>17</td>\n",
       "        <td>ARREST</td>\n",
       "        <td>15155207</td>\n",
       "        <td>3503(a)</td>\n",
       "        <td>Knoxville</td>\n",
       "        <td>3</td>\n",
       "        <td>2015-08-18 16:16:00</td>\n",
       "    </tr>\n",
       "    <tr>\n",
       "        <td>18</td>\n",
       "        <td>18</td>\n",
       "        <td>18</td>\n",
       "        <td>ARREST</td>\n",
       "        <td>15155207</td>\n",
       "        <td>3304</td>\n",
       "        <td>Knoxville</td>\n",
       "        <td>3</td>\n",
       "        <td>2015-08-18 16:16:00</td>\n",
       "    </tr>\n",
       "    <tr>\n",
       "        <td>19</td>\n",
       "        <td>19</td>\n",
       "        <td>19</td>\n",
       "        <td>ARREST</td>\n",
       "        <td>15153568</td>\n",
       "        <td>3503(b)(1)(i)</td>\n",
       "        <td>Knoxville</td>\n",
       "        <td>3</td>\n",
       "        <td>2015-08-18 17:28:00</td>\n",
       "    </tr>\n",
       "    <tr>\n",
       "        <td>20</td>\n",
       "        <td>20</td>\n",
       "        <td>20</td>\n",
       "        <td>ARREST</td>\n",
       "        <td>15153568</td>\n",
       "        <td>2710</td>\n",
       "        <td>Knoxville</td>\n",
       "        <td>3</td>\n",
       "        <td>2015-08-18 17:28:00</td>\n",
       "    </tr>\n",
       "</table>"
      ],
      "text/plain": [
       "[(1, 1, 1, 'OFFENSE 2.0', 15154929, '3502', 'Allentown', 3, datetime.datetime(2015, 8, 18, 6, 13)),\n",
       " (2, 2, 2, 'OFFENSE 2.0', 15155179, '3502', 'South Side Flats', 3, datetime.datetime(2015, 8, 18, 7, 45)),\n",
       " (3, 3, 3, 'OFFENSE 2.0', 15161163, '9124', 'Brighton Heights', 1, datetime.datetime(2015, 8, 26, 18, 15)),\n",
       " (4, 4, 4, 'OFFENSE 2.0', 15155881, '4106', 'Mount Washington', 3, datetime.datetime(2015, 8, 18, 10, 0)),\n",
       " (5, 5, 5, 'OFFENSE 2.0', 15155881, '3502', 'Mount Washington', 3, datetime.datetime(2015, 8, 18, 10, 0)),\n",
       " (6, 6, 6, 'OFFENSE 2.0', 15155037, '9999', 'Allentown', 3, datetime.datetime(2015, 8, 18, 10, 18)),\n",
       " (7, 7, 7, 'OFFENSE 2.0', 15155104, '601.08(a)', 'South Side Flats', 3, datetime.datetime(2015, 8, 18, 11, 35)),\n",
       " (8, 8, 8, 'OFFENSE 2.0', 15155119, '3304', 'South Side Slopes', 3, datetime.datetime(2015, 8, 18, 13, 30)),\n",
       " (9, 9, 9, 'OFFENSE 2.0', 15155119, '3503(a)', 'South Side Slopes', 3, datetime.datetime(2015, 8, 18, 13, 30)),\n",
       " (10, 10, 10, 'OFFENSE 2.0', 15155406, '3922', 'Mount Washington', 3, datetime.datetime(2015, 8, 18, 15, 0)),\n",
       " (11, 11, 11, 'OFFENSE 2.0', 15155406, '4120', 'Mount Washington', 3, datetime.datetime(2015, 8, 18, 15, 0)),\n",
       " (12, 12, 12, 'OFFENSE 2.0', 15155207, '3304', 'Knoxville', 3, datetime.datetime(2015, 8, 18, 15, 28)),\n",
       " (13, 13, 13, 'OFFENSE 2.0', 15155207, '5505', 'Knoxville', 3, datetime.datetime(2015, 8, 18, 15, 28)),\n",
       " (14, 14, 14, 'OFFENSE 2.0', 15155219, '3743', 'Beltzhoover', 3, datetime.datetime(2015, 8, 18, 15, 50)),\n",
       " (15, 15, 15, 'OFFENSE 2.0', 15155254, '9999', 'Beltzhoover', 3, datetime.datetime(2015, 8, 18, 16, 0)),\n",
       " (16, 16, 16, 'ARREST', 15155207, '5505', 'Knoxville', 3, datetime.datetime(2015, 8, 18, 16, 16)),\n",
       " (17, 17, 17, 'ARREST', 15155207, '3503(a)', 'Knoxville', 3, datetime.datetime(2015, 8, 18, 16, 16)),\n",
       " (18, 18, 18, 'ARREST', 15155207, '3304', 'Knoxville', 3, datetime.datetime(2015, 8, 18, 16, 16)),\n",
       " (19, 19, 19, 'ARREST', 15153568, '3503(b)(1)(i)', 'Knoxville', 3, datetime.datetime(2015, 8, 18, 17, 28)),\n",
       " (20, 20, 20, 'ARREST', 15153568, '2710', 'Knoxville', 3, datetime.datetime(2015, 8, 18, 17, 28))]"
      ]
     },
     "execution_count": 42,
     "metadata": {},
     "output_type": "execute_result"
    }
   ],
   "source": [
    "%%sql\n",
    "SELECT *\n",
    "FROM pittscrime_fact\n",
    "LIMIT 20;"
   ]
  },
  {
   "cell_type": "markdown",
   "metadata": {},
   "source": [
    "## Problem 4 - explore your data in its new schema (30 points)\n",
    "\n",
    "Strictly using the dimensional model tables you defined and populated for Problem 3, explore your data in its new form.  Use any of the query strategies we've seen in class, including transformations, aggregates, subqueries, rollups, and, of course, joins.  Add plots to highlight particular themes that stand out.  Describe your thinking and observations along the way."
   ]
  },
  {
   "cell_type": "markdown",
   "metadata": {},
   "source": [
    "So let's first have a detailed look of the fact table."
   ]
  },
  {
   "cell_type": "code",
   "execution_count": 43,
   "metadata": {
    "collapsed": false
   },
   "outputs": [
    {
     "name": "stdout",
     "output_type": "stream",
     "text": [
      "9 rows affected.\n"
     ]
    },
    {
     "data": {
      "text/html": [
       "<table>\n",
       "    <tr>\n",
       "        <th>column_name</th>\n",
       "        <th>data_type</th>\n",
       "        <th>character_maximum_length</th>\n",
       "        <th>is_nullable</th>\n",
       "    </tr>\n",
       "    <tr>\n",
       "        <td>location_dim_id</td>\n",
       "        <td>integer</td>\n",
       "        <td>None</td>\n",
       "        <td>NO</td>\n",
       "    </tr>\n",
       "    <tr>\n",
       "        <td>report_dim_id</td>\n",
       "        <td>integer</td>\n",
       "        <td>None</td>\n",
       "        <td>NO</td>\n",
       "    </tr>\n",
       "    <tr>\n",
       "        <td>arrestday_dim_id</td>\n",
       "        <td>integer</td>\n",
       "        <td>None</td>\n",
       "        <td>NO</td>\n",
       "    </tr>\n",
       "    <tr>\n",
       "        <td>report_name</td>\n",
       "        <td>character varying</td>\n",
       "        <td>11</td>\n",
       "        <td>YES</td>\n",
       "    </tr>\n",
       "    <tr>\n",
       "        <td>ccr</td>\n",
       "        <td>integer</td>\n",
       "        <td>None</td>\n",
       "        <td>YES</td>\n",
       "    </tr>\n",
       "    <tr>\n",
       "        <td>section</td>\n",
       "        <td>character varying</td>\n",
       "        <td>19</td>\n",
       "        <td>YES</td>\n",
       "    </tr>\n",
       "    <tr>\n",
       "        <td>neighborhood</td>\n",
       "        <td>character varying</td>\n",
       "        <td>27</td>\n",
       "        <td>YES</td>\n",
       "    </tr>\n",
       "    <tr>\n",
       "        <td>zone</td>\n",
       "        <td>integer</td>\n",
       "        <td>None</td>\n",
       "        <td>YES</td>\n",
       "    </tr>\n",
       "    <tr>\n",
       "        <td>arrest_time</td>\n",
       "        <td>timestamp without time zone</td>\n",
       "        <td>None</td>\n",
       "        <td>YES</td>\n",
       "    </tr>\n",
       "</table>"
      ],
      "text/plain": [
       "[('location_dim_id', 'integer', None, 'NO'),\n",
       " ('report_dim_id', 'integer', None, 'NO'),\n",
       " ('arrestday_dim_id', 'integer', None, 'NO'),\n",
       " ('report_name', 'character varying', 11, 'YES'),\n",
       " ('ccr', 'integer', None, 'YES'),\n",
       " ('section', 'character varying', 19, 'YES'),\n",
       " ('neighborhood', 'character varying', 27, 'YES'),\n",
       " ('zone', 'integer', None, 'YES'),\n",
       " ('arrest_time', 'timestamp without time zone', None, 'YES')]"
      ]
     },
     "execution_count": 43,
     "metadata": {},
     "output_type": "execute_result"
    }
   ],
   "source": [
    "%%sql\n",
    "SELECT column_name, data_type, character_maximum_length, is_nullable\n",
    "FROM INFORMATION_SCHEMA.COLUMNS WHERE table_name = 'pittscrime_fact';"
   ]
  },
  {
   "cell_type": "markdown",
   "metadata": {},
   "source": [
    "The above table tells the information about column name, data type, character length and whether the column has null value. So that we can ensure from the table that our three foreign key columns(location_dim_id, report_dim_id & arrestday_dim_id) contain no null value.\n",
    "\n",
    "So can we filter the fact table by the arrest_day dimension table?"
   ]
  },
  {
   "cell_type": "code",
   "execution_count": 44,
   "metadata": {
    "collapsed": false
   },
   "outputs": [
    {
     "name": "stdout",
     "output_type": "stream",
     "text": [
      "7 rows affected.\n"
     ]
    },
    {
     "data": {
      "text/html": [
       "<table>\n",
       "    <tr>\n",
       "        <th>count</th>\n",
       "        <th>day_of_week_str</th>\n",
       "    </tr>\n",
       "    <tr>\n",
       "        <td>3920</td>\n",
       "        <td>Sunday   </td>\n",
       "    </tr>\n",
       "    <tr>\n",
       "        <td>4016</td>\n",
       "        <td>Monday   </td>\n",
       "    </tr>\n",
       "    <tr>\n",
       "        <td>3968</td>\n",
       "        <td>Tuesday  </td>\n",
       "    </tr>\n",
       "    <tr>\n",
       "        <td>3980</td>\n",
       "        <td>Wednesday</td>\n",
       "    </tr>\n",
       "    <tr>\n",
       "        <td>3984</td>\n",
       "        <td>Thursday </td>\n",
       "    </tr>\n",
       "    <tr>\n",
       "        <td>3872</td>\n",
       "        <td>Friday   </td>\n",
       "    </tr>\n",
       "    <tr>\n",
       "        <td>3922</td>\n",
       "        <td>Saturday </td>\n",
       "    </tr>\n",
       "</table>"
      ],
      "text/plain": [
       "[(3920, 'Sunday   '),\n",
       " (4016, 'Monday   '),\n",
       " (3968, 'Tuesday  '),\n",
       " (3980, 'Wednesday'),\n",
       " (3984, 'Thursday '),\n",
       " (3872, 'Friday   '),\n",
       " (3922, 'Saturday ')]"
      ]
     },
     "execution_count": 44,
     "metadata": {},
     "output_type": "execute_result"
    }
   ],
   "source": [
    "%%sql\n",
    "SELECT COUNT(*), day_of_week_str\n",
    "from pittscrime_fact a join arrest_day d on a.arrestday_dim_id = d.arrestday_dim_id\n",
    "group by day_of_week_str\n",
    "order by CASE day_of_week_str\n",
    "    WHEN 'Sunday' THEN 1\n",
    "    WHEN 'Monday' THEN 2\n",
    "    WHEN 'Tuesday' THEN 3\n",
    "    WHEN 'Wednesday' THEN 4\n",
    "    WHEN 'Thursday' THEN 5\n",
    "    WHEN 'Friday' THEN 6\n",
    "    ELSE 7\n",
    "END\n",
    ";"
   ]
  },
  {
   "cell_type": "code",
   "execution_count": 45,
   "metadata": {
    "collapsed": true
   },
   "outputs": [],
   "source": [
    "%matplotlib inline"
   ]
  },
  {
   "cell_type": "code",
   "execution_count": 46,
   "metadata": {
    "collapsed": false
   },
   "outputs": [
    {
     "data": {
      "text/plain": [
       "<Container object of 7 artists>"
      ]
     },
     "execution_count": 46,
     "metadata": {},
     "output_type": "execute_result"
    },
    {
     "data": {
      "image/png": "[encoded data removed]",
      "text/plain": [
       "<matplotlib.figure.Figure at 0x7f82cf75e860>"
      ]
     },
     "metadata": {},
     "output_type": "display_data"
    }
   ],
   "source": [
    "result = _\n",
    "result.bar()"
   ]
  },
  {
   "cell_type": "markdown",
   "metadata": {},
   "source": [
    "From the bar graph we could tell that the crime rate of every day is almost the same."
   ]
  },
  {
   "cell_type": "code",
   "execution_count": 47,
   "metadata": {
    "collapsed": false
   },
   "outputs": [
    {
     "name": "stdout",
     "output_type": "stream",
     "text": [
      "4 rows affected.\n"
     ]
    },
    {
     "data": {
      "text/html": [
       "<table>\n",
       "    <tr>\n",
       "        <th>quarter</th>\n",
       "        <th>count</th>\n",
       "    </tr>\n",
       "    <tr>\n",
       "        <td>4</td>\n",
       "        <td>6030</td>\n",
       "    </tr>\n",
       "    <tr>\n",
       "        <td>3</td>\n",
       "        <td>8434</td>\n",
       "    </tr>\n",
       "    <tr>\n",
       "        <td>2</td>\n",
       "        <td>8106</td>\n",
       "    </tr>\n",
       "    <tr>\n",
       "        <td>1</td>\n",
       "        <td>5092</td>\n",
       "    </tr>\n",
       "</table>"
      ],
      "text/plain": [
       "[(4, 6030), (3, 8434), (2, 8106), (1, 5092)]"
      ]
     },
     "execution_count": 47,
     "metadata": {},
     "output_type": "execute_result"
    }
   ],
   "source": [
    "%%sql\n",
    "SELECT quarter, COUNT(quarter)\n",
    "from pittscrime_fact a join arrest_day d on a.arrestday_dim_id = d.arrestday_dim_id\n",
    "group by quarter\n",
    "order by quarter DESC"
   ]
  },
  {
   "cell_type": "code",
   "execution_count": 48,
   "metadata": {
    "collapsed": true
   },
   "outputs": [],
   "source": [
    "%matplotlib inline"
   ]
  },
  {
   "cell_type": "code",
   "execution_count": 49,
   "metadata": {
    "collapsed": false
   },
   "outputs": [
    {
     "data": {
      "text/plain": [
       "<Container object of 4 artists>"
      ]
     },
     "execution_count": 49,
     "metadata": {},
     "output_type": "execute_result"
    },
    {
     "data": {
      "image/png": "[encoded data removed]",
      "text/plain": [
       "<matplotlib.figure.Figure at 0x7f82cded25c0>"
      ]
     },
     "metadata": {},
     "output_type": "display_data"
    }
   ],
   "source": [
    "result = _\n",
    "result.bar()"
   ]
  },
  {
   "cell_type": "markdown",
   "metadata": {},
   "source": [
    "By filtering the quarter crime rate, we can tell that in general the second and third quarters have the highest crime rate. "
   ]
  },
  {
   "cell_type": "markdown",
   "metadata": {},
   "source": [
    "We want to know which neighborhood has most crimes. Then we can use the foreigh key in the location_dim table."
   ]
  },
  {
   "cell_type": "code",
   "execution_count": 50,
   "metadata": {
    "collapsed": false
   },
   "outputs": [
    {
     "name": "stdout",
     "output_type": "stream",
     "text": [
      "5 rows affected.\n"
     ]
    },
    {
     "data": {
      "text/html": [
       "<table>\n",
       "    <tr>\n",
       "        <th>neighborhood</th>\n",
       "        <th>count</th>\n",
       "    </tr>\n",
       "    <tr>\n",
       "        <td>Golden Triangle/Civic Arena</td>\n",
       "        <td>16458</td>\n",
       "    </tr>\n",
       "    <tr>\n",
       "        <td>South Side Flats</td>\n",
       "        <td>15384</td>\n",
       "    </tr>\n",
       "    <tr>\n",
       "        <td>East Allegheny</td>\n",
       "        <td>7076</td>\n",
       "    </tr>\n",
       "    <tr>\n",
       "        <td>East Liberty</td>\n",
       "        <td>7058</td>\n",
       "    </tr>\n",
       "    <tr>\n",
       "        <td>Carrick</td>\n",
       "        <td>6844</td>\n",
       "    </tr>\n",
       "</table>"
      ],
      "text/plain": [
       "[('Golden Triangle/Civic Arena', 16458),\n",
       " ('South Side Flats', 15384),\n",
       " ('East Allegheny', 7076),\n",
       " ('East Liberty', 7058),\n",
       " ('Carrick', 6844)]"
      ]
     },
     "execution_count": 50,
     "metadata": {},
     "output_type": "execute_result"
    }
   ],
   "source": [
    "%%sql\n",
    "SELECT l.neighborhood, COUNT(*) \n",
    "FROM location_dim l, pittscrime_fact p\n",
    "WHERE l.location_dim_id = p.location_dim_id\n",
    "GROUP BY l.neighborhood\n",
    "ORDER BY COUNT DESC\n",
    "LIMIT 5;"
   ]
  },
  {
   "cell_type": "code",
   "execution_count": 51,
   "metadata": {
    "collapsed": false
   },
   "outputs": [
    {
     "data": {
      "text/plain": [
       "<Container object of 5 artists>"
      ]
     },
     "execution_count": 51,
     "metadata": {},
     "output_type": "execute_result"
    },
    {
     "data": {
      "image/png": "[encoded data removed]",
      "text/plain": [
       "<matplotlib.figure.Figure at 0x7f82cdec1be0>"
      ]
     },
     "metadata": {},
     "output_type": "display_data"
    }
   ],
   "source": [
    "%matplotlib inline\n",
    "result = _\n",
    "result.bar()"
   ]
  },
  {
   "cell_type": "markdown",
   "metadata": {},
   "source": [
    "Again we want to know which zone accounts for the most number of crimes and from the pie chart we find that zone 1 has most crimes."
   ]
  },
  {
   "cell_type": "code",
   "execution_count": 52,
   "metadata": {
    "collapsed": false
   },
   "outputs": [
    {
     "name": "stdout",
     "output_type": "stream",
     "text": [
      "6 rows affected.\n"
     ]
    },
    {
     "data": {
      "text/html": [
       "<table>\n",
       "    <tr>\n",
       "        <th>zone</th>\n",
       "        <th>count</th>\n",
       "    </tr>\n",
       "    <tr>\n",
       "        <td>1</td>\n",
       "        <td>52554</td>\n",
       "    </tr>\n",
       "    <tr>\n",
       "        <td>3</td>\n",
       "        <td>48678</td>\n",
       "    </tr>\n",
       "    <tr>\n",
       "        <td>5</td>\n",
       "        <td>41524</td>\n",
       "    </tr>\n",
       "    <tr>\n",
       "        <td>2</td>\n",
       "        <td>39160</td>\n",
       "    </tr>\n",
       "    <tr>\n",
       "        <td>4</td>\n",
       "        <td>28726</td>\n",
       "    </tr>\n",
       "    <tr>\n",
       "        <td>6</td>\n",
       "        <td>25488</td>\n",
       "    </tr>\n",
       "</table>"
      ],
      "text/plain": [
       "[(1, 52554), (3, 48678), (5, 41524), (2, 39160), (4, 28726), (6, 25488)]"
      ]
     },
     "execution_count": 52,
     "metadata": {},
     "output_type": "execute_result"
    }
   ],
   "source": [
    "%%sql\n",
    "SELECT l.zone, COUNT(*) \n",
    "FROM location_dim l, pittscrime_fact p\n",
    "WHERE l.location_dim_id = p.location_dim_id\n",
    "GROUP BY l.zone\n",
    "ORDER BY COUNT DESC\n",
    "LIMIT 6;"
   ]
  },
  {
   "cell_type": "code",
   "execution_count": 53,
   "metadata": {
    "collapsed": false
   },
   "outputs": [
    {
     "data": {
      "text/plain": [
       "([<matplotlib.patches.Wedge at 0x7f82cddfecf8>,\n",
       "  <matplotlib.patches.Wedge at 0x7f82cde049b0>,\n",
       "  <matplotlib.patches.Wedge at 0x7f82cde0c630>,\n",
       "  <matplotlib.patches.Wedge at 0x7f82cdd922b0>,\n",
       "  <matplotlib.patches.Wedge at 0x7f82cdd92ef0>,\n",
       "  <matplotlib.patches.Wedge at 0x7f82cdd97b38>],\n",
       " [<matplotlib.text.Text at 0x7f82cde04550>,\n",
       "  <matplotlib.text.Text at 0x7f82cde0c1d0>,\n",
       "  <matplotlib.text.Text at 0x7f82cde0ce10>,\n",
       "  <matplotlib.text.Text at 0x7f82cdd92a90>,\n",
       "  <matplotlib.text.Text at 0x7f82cdd976d8>,\n",
       "  <matplotlib.text.Text at 0x7f82cdd9d358>])"
      ]
     },
     "execution_count": 53,
     "metadata": {},
     "output_type": "execute_result"
    },
    {
     "data": {
      "image/png": "[encoded data removed]",
      "text/plain": [
       "<matplotlib.figure.Figure at 0x7f82cde38080>"
      ]
     },
     "metadata": {},
     "output_type": "display_data"
    }
   ],
   "source": [
    "%matplotlib inline\n",
    "result = _\n",
    "result.pie()"
   ]
  },
  {
   "cell_type": "markdown",
   "metadata": {},
   "source": [
    "The above pie tells us Zone 1 and Zone 3 have the higest crime rate."
   ]
  },
  {
   "cell_type": "markdown",
   "metadata": {},
   "source": [
    "So the next question is that can we use the location_dim_id foreign key to narrow down the area and its crime rate?"
   ]
  },
  {
   "cell_type": "code",
   "execution_count": 54,
   "metadata": {
    "collapsed": false
   },
   "outputs": [
    {
     "name": "stdout",
     "output_type": "stream",
     "text": [
      "6 rows affected.\n"
     ]
    },
    {
     "data": {
      "text/html": [
       "<table>\n",
       "    <tr>\n",
       "        <th>zone</th>\n",
       "        <th>zone_count</th>\n",
       "        <th>neighborhood</th>\n",
       "        <th>neighborhood_count</th>\n",
       "    </tr>\n",
       "    <tr>\n",
       "        <td>3</td>\n",
       "        <td>15312</td>\n",
       "        <td>South Side Flats</td>\n",
       "        <td>15312</td>\n",
       "    </tr>\n",
       "    <tr>\n",
       "        <td>2</td>\n",
       "        <td>14702</td>\n",
       "        <td>Golden Triangle/Civic Arena</td>\n",
       "        <td>14702</td>\n",
       "    </tr>\n",
       "    <tr>\n",
       "        <td>1</td>\n",
       "        <td>6948</td>\n",
       "        <td>East Allegheny</td>\n",
       "        <td>6948</td>\n",
       "    </tr>\n",
       "    <tr>\n",
       "        <td>5</td>\n",
       "        <td>6822</td>\n",
       "        <td>East Liberty</td>\n",
       "        <td>6822</td>\n",
       "    </tr>\n",
       "    <tr>\n",
       "        <td>3</td>\n",
       "        <td>6814</td>\n",
       "        <td>Carrick</td>\n",
       "        <td>6814</td>\n",
       "    </tr>\n",
       "    <tr>\n",
       "        <td>1</td>\n",
       "        <td>5288</td>\n",
       "        <td>Brighton Heights</td>\n",
       "        <td>5288</td>\n",
       "    </tr>\n",
       "</table>"
      ],
      "text/plain": [
       "[(3, 15312, 'South Side Flats', 15312),\n",
       " (2, 14702, 'Golden Triangle/Civic Arena', 14702),\n",
       " (1, 6948, 'East Allegheny', 6948),\n",
       " (5, 6822, 'East Liberty', 6822),\n",
       " (3, 6814, 'Carrick', 6814),\n",
       " (1, 5288, 'Brighton Heights', 5288)]"
      ]
     },
     "execution_count": 54,
     "metadata": {},
     "output_type": "execute_result"
    }
   ],
   "source": [
    "%%sql\n",
    "SELECT l.zone, COUNT(l.zone) as zone_count, l.neighborhood, COUNT(l.neighborhood) as neighborhood_count\n",
    "FROM location_dim l, pittscrime_fact p\n",
    "WHERE l.location_dim_id = p.location_dim_id\n",
    "GROUP BY l.zone, l.neighborhood\n",
    "ORDER BY COUNT(l.zone) DESC\n",
    "LIMIT 6;"
   ]
  },
  {
   "cell_type": "markdown",
   "metadata": {},
   "source": [
    "The above table show the crime rate associated with combined zone and neighborhood. Because several zones can belong to the same neighborhood and one neighborhood can also overlap with several zones. The filters used here are both \"zone\" and \"neighborhood\" so that we can narrow down the area with the most crime rate. Because from the filtered result we could say a neighboehood could contain several zones and one zone could belong to several neighborhoods as well. The most dangerous area in Pittsburgh is Neighborhood \"South Side Flats\" at Zone 3."
   ]
  },
  {
   "cell_type": "markdown",
   "metadata": {},
   "source": [
    "## Bonus (10 points for one of A or B)\n",
    "\n",
    "\n",
    "### Option A - Automating ETL\n",
    "\n",
    "Consider the work you did to load your original raw dataset and then transform it into a dimensional model for analysis.  What would it take to automate this process?  How often would you need to update the data?  Could you easily automate any data cleaning steps?  What checks would you need to put in place to ensure quality?  Would humans need to be involved, or could you automate it all?\n",
    "\n",
    "Discuss.\n",
    "\n",
    "\n",
    "### Option B - Augmenting dimensions\n",
    "\n",
    "Considering your dimensional model, what external data could you find to augment it?  As in the case of bike trips, where weather might provide an interesting added dimension/context not present in the original data, you can probably find another source of data to complement your own model.  Identify one such source and add it to your model, demonstrating its value with a few new queries."
   ]
  },
  {
   "cell_type": "code",
   "execution_count": 55,
   "metadata": {
    "collapsed": false
   },
   "outputs": [
    {
     "name": "stdout",
     "output_type": "stream",
     "text": [
      "--2016-11-11 13:24:59--  https://data.wprdc.org/datastore/dump/e03a89dd-134a-4ee8-a2bd-62c40aeebc6f\n",
      "Resolving data.wprdc.org (data.wprdc.org)... 136.142.88.59\n",
      "Connecting to data.wprdc.org (data.wprdc.org)|136.142.88.59|:443... connected.\n",
      "HTTP request sent, awaiting response... 200 OK\n",
      "Length: 654185 (639K) [text/csv]\n",
      "Saving to: ‘e03a89dd-134a-4ee8-a2bd-62c40aeebc6f.1’\n",
      "\n",
      "e03a89dd-134a-4ee8- 100%[=====================>] 638.85K  --.-KB/s   in 0.1s   \n",
      "\n",
      "2016-11-11 13:24:59 (5.07 MB/s) - ‘e03a89dd-134a-4ee8-a2bd-62c40aeebc6f.1’ saved [654185/654185]\n",
      "\n"
     ]
    }
   ],
   "source": [
    "!wget https://data.wprdc.org/datastore/dump/e03a89dd-134a-4ee8-a2bd-62c40aeebc6f"
   ]
  },
  {
   "cell_type": "markdown",
   "metadata": {},
   "source": [
    "We find another external data about arrested criminals in Pittsburgh. We are curious about how age, gender, race, public_works_division affect crimes."
   ]
  },
  {
   "cell_type": "code",
   "execution_count": 56,
   "metadata": {
    "collapsed": false
   },
   "outputs": [],
   "source": [
    "!mv -n e03a89dd-134a-4ee8-a2bd-62c40aeebc6f arrest.csv"
   ]
  },
  {
   "cell_type": "code",
   "execution_count": 57,
   "metadata": {
    "collapsed": false
   },
   "outputs": [
    {
     "name": "stdout",
     "output_type": "stream",
     "text": [
      "  1: _id\r\n",
      "  2: PK\r\n",
      "  3: CCR\r\n",
      "  4: AGE\r\n",
      "  5: GENDER\r\n",
      "  6: RACE\r\n",
      "  7: ARRESTTIME\r\n",
      "  8: ARRESTLOCATION\r\n",
      "  9: OFFENSES\r\n",
      " 10: INCIDENTLOCATION\r\n",
      " 11: INCIDENTNEIGHBORHOOD\r\n",
      " 12: INCIDENTZONE\r\n",
      " 13: INCIDENTTRACT\r\n",
      " 14: COUNCIL_DISTRICT\r\n",
      " 15: PUBLIC_WORKS_DIVISION\r\n",
      " 16: X\r\n",
      " 17: Y\r\n"
     ]
    }
   ],
   "source": [
    "!csvcut -n arrest.csv"
   ]
  },
  {
   "cell_type": "code",
   "execution_count": 58,
   "metadata": {
    "collapsed": false
   },
   "outputs": [
    {
     "name": "stdout",
     "output_type": "stream",
     "text": [
      "2239 arrest.csv\r\n"
     ]
    }
   ],
   "source": [
    "!wc -l arrest.csv"
   ]
  },
  {
   "cell_type": "code",
   "execution_count": 59,
   "metadata": {
    "collapsed": false
   },
   "outputs": [
    {
     "name": "stdout",
     "output_type": "stream",
     "text": [
      "|-------+---------+----------+-----+--------+------+---------------------+-------------------------------------------------+-----------------------------------------------------------------------------------------------------------------------------------------------------------------+-------------------------------------------------+--------------------------+--------------+---------------+------------------+-----------------------+-------------------+-------------------|\r\n",
      "|  _id  | PK      | CCR      | AGE | GENDER | RACE | ARRESTTIME          | ARRESTLOCATION                                  | OFFENSES                                                                                                                                                        | INCIDENTLOCATION                                | INCIDENTNEIGHBORHOOD     | INCIDENTZONE | INCIDENTTRACT | COUNCIL_DISTRICT | PUBLIC_WORKS_DIVISION | X                 | Y                 |\r\n",
      "|-------+---------+----------+-----+--------+------+---------------------+-------------------------------------------------+-----------------------------------------------------------------------------------------------------------------------------------------------------------------+-------------------------------------------------+--------------------------+--------------+---------------+------------------+-----------------------+-------------------+-------------------|\r\n",
      "|  1101 | 1975853 | 16144123 | 21  | F      | B    | 2016-09-28T10:59:00 | 900 Block 2nd AV Pittsburgh, PA 15219           | 903 Criminal Conspiracy. / 2701 Simple Assault. / 2705 Recklessy Endangering Another Person. / 3701 Robbery.                                                    | Monongahela ST Pittsburgh, PA 15207             | Hazelwood                | 4            | 1515          |                  |                       | 0.0               | 0.0               |\r\n",
      "|  2101 | 1977133 | 16202568 | 15  | F      | B    | 2016-10-31T08:50:00 | 6600 Block 1ST AV PITTSBURGH, PA 15219          | 2702 Aggravated Assault.                                                                                                                                        | 3100 Block CENTRE AV PITTSBURGH, PA 15219       | Upper Hill               | 2            | 506           | 6                | 3                     | -79.9620395837461 | 40.4488861661135  |\r\n",
      "|  1103 | 1975855 | 16150139 | 18  | M      | B    | 2016-09-28T01:30:00 | 900 Block 2ND AV Pittsburgh, PA 15219           | 903 Criminal Conspiracy. / 3701 Robbery.                                                                                                                        | 100 Block N St Clair ST Pittsburgh, PA 15206    | East Liberty             | 5            | 1115          | 9                | 2                     | -79.9274648656083 | 40.4649382674773  |\r\n",
      "|  2111 | 1977143 | 16192562 | 25  | M      | B    | 2016-11-03T03:20:00 | Zone 2                                          | 2701 Simple Assault. / 2709(a)(1) Harassment by Physical Contact, or Attempts or Threats                                                                        | Zone 6                                          |                          | 6            |               |                  |                       |                   |                   |\r\n",
      "|  1104 | 1975856 | 16153027 | 53  | M      | W    | 2016-09-28T12:44:00 | 600 Block 1st AV Pittsburgh, PA 15219           | 4304(a)(1) Endangering Welfare of Children.                                                                                                                     | 20 Block Millbridge ST Pittsburgh, PA 15210     | Allentown                | 3            | 1803          | 3                | 4                     | -79.9960505024945 | 40.4235822394555  |\r\n",
      "|  1702 | 1976615 | 16185300 | 50  | M      | B    | 2016-10-01T02:30:00 | East Ohio ST & Cedar AV Pittsburgh, PA 15212    | 13(a)(16) Possession of Controlled Substance                                                                                                                    | East Ohio ST & Cedar AV Pittsburgh, PA 15212    | Allegheny Center         | 1            | 2204          | 1                | 1                     | -80.0016938454742 | 40.4533122427543  |\r\n",
      "|  2068 | 1977089 | 16200646 | 14  | F      | B    | 2016-10-24T13:00:00 | 600 Block 1ST AV PITTSBURGH, PA 15219           | 2702 Aggravated Assault. / 5503(a)(4) DISORDERLY CONDUCT - HAZARDOUS/PHYS. OFF                                                                                  | 800 Block RECTENWALD ST PITTSBURGH, PA 15210    | Mount Oliver             | 3            | 1607          | 3                | 4                     | -79.9794028865196 | 40.4085696948667  |\r\n",
      "|  1903 | 1976885 | 16194377 | 21  | M      | W    | 2016-10-14T16:35:00 | Henderson ST & Sandusky CT Pittsburgh, PA 15212 | 4910 Tampering with or Fabricating Physical Evidence. / 13(a)(16) Possession of Controlled Substance / 3503(b)(1)(ii) Defiant Trespass Notice Posted by Sign(s) | Henderson ST & Sandusky CT Pittsburgh, PA 15212 | Fineview                 | 1            | 2509          | 6                | 1                     | -80.0056236909827 | 40.4592271304641  |\r\n",
      "|  1105 | 1975857 | 16153931 | 33  | M      | B    | 2016-09-28T11:30:00 | 600 Block 1ST AV Pittsburgh, PA 15219           | 3922 Theft by Deception. / 4107 Deceptive Business Practices. / 517.8(A1) Home Improvement Fraud                                                                | 7100 Block ROSS GARDEN RD Pittsburgh, PA 15206  | Lincoln-Lemington-Belmar | 5            | 1201          | 9                | 2                     | -79.8947769607023 | 40.4717285723431  |\r\n",
      "|-------+---------+----------+-----+--------+------+---------------------+-------------------------------------------------+-----------------------------------------------------------------------------------------------------------------------------------------------------------------+-------------------------------------------------+--------------------------+--------------+---------------+------------------+-----------------------+-------------------+-------------------|\r\n"
     ]
    }
   ],
   "source": [
    "!head arrest.csv|csvlook"
   ]
  },
  {
   "cell_type": "code",
   "execution_count": 60,
   "metadata": {
    "collapsed": false
   },
   "outputs": [
    {
     "name": "stdout",
     "output_type": "stream",
     "text": [
      "createdb: database creation failed: ERROR:  database \"arrest\" already exists\r\n"
     ]
    }
   ],
   "source": [
    "!createdb -U dbuser arrest"
   ]
  },
  {
   "cell_type": "code",
   "execution_count": 61,
   "metadata": {
    "collapsed": false
   },
   "outputs": [
    {
     "data": {
      "text/plain": [
       "'Connected: dbuser@arrest'"
      ]
     },
     "execution_count": 61,
     "metadata": {},
     "output_type": "execute_result"
    }
   ],
   "source": [
    "%sql postgresql://dbuser@localhost:5432/arrest"
   ]
  },
  {
   "cell_type": "code",
   "execution_count": 62,
   "metadata": {
    "collapsed": false
   },
   "outputs": [
    {
     "name": "stdout",
     "output_type": "stream",
     "text": [
      "(sqlite3.OperationalError) table arrest already exists [SQL: '\\nCREATE TABLE arrest (\\n\\t_id INTEGER NOT NULL, \\n\\t\"PK\" INTEGER NOT NULL, \\n\\t\"CCR\" INTEGER NOT NULL, \\n\\t\"AGE\" INTEGER, \\n\\t\"GENDER\" VARCHAR(1) NOT NULL, \\n\\t\"RACE\" VARCHAR(1) NOT NULL, \\n\\t\"ARRESTTIME\" DATETIME NOT NULL, \\n\\t\"ARRESTLOCATION\" VARCHAR(64) NOT NULL, \\n\\t\"OFFENSES\" VARCHAR(629) NOT NULL, \\n\\t\"INCIDENTLOCATION\" VARCHAR(68) NOT NULL, \\n\\t\"INCIDENTNEIGHBORHOOD\" VARCHAR(27), \\n\\t\"INCIDENTZONE\" VARCHAR(3) NOT NULL, \\n\\t\"INCIDENTTRACT\" INTEGER, \\n\\t\"COUNCIL_DISTRICT\" INTEGER, \\n\\t\"PUBLIC_WORKS_DIVISION\" INTEGER, \\n\\t\"X\" FLOAT, \\n\\t\"Y\" FLOAT\\n)\\n\\n']\r\n"
     ]
    }
   ],
   "source": [
    "!csvsql --db sqlite:///arrest.db --insert arrest.csv"
   ]
  },
  {
   "cell_type": "code",
   "execution_count": 63,
   "metadata": {
    "collapsed": false
   },
   "outputs": [
    {
     "name": "stdout",
     "output_type": "stream",
     "text": [
      "Done.\n",
      "Done.\n"
     ]
    },
    {
     "data": {
      "text/plain": [
       "[]"
      ]
     },
     "execution_count": 63,
     "metadata": {},
     "output_type": "execute_result"
    }
   ],
   "source": [
    "%%sql\n",
    "DROP TABLE IF EXISTS arrest;\n",
    "CREATE TABLE arrest\n",
    "(\n",
    "    id INTEGER,\n",
    "    PK INTEGER,\n",
    "    CCR INTEGER,\n",
    "    AGE INTEGER, \n",
    "    GENDER VARCHAR(4),\n",
    "    RACE VARCHAR(1),\n",
    "    ARREST_TIME TIMESTAMP,\n",
    "    ARRESTLOCATION VARCHAR(64),\n",
    "    OFFENSES VARCHAR(629),\n",
    "    INCIDENTLOCATION VARCHAR(68),\n",
    "    INCIDENTNEIGHBORHOOD VARCHAR(27),\n",
    "    INCIDENTZONE VARCHAR(3),\n",
    "    INCIDENTTRACT INTEGER,\n",
    "    COUNCIL_DISTRICT INTEGER,\n",
    "    PUBLIC_WORKS_DIVISION INTEGER,\n",
    "    X FLOAT, \n",
    "    Y FLOAT\n",
    ")"
   ]
  },
  {
   "cell_type": "code",
   "execution_count": 64,
   "metadata": {
    "collapsed": false
   },
   "outputs": [
    {
     "name": "stdout",
     "output_type": "stream",
     "text": [
      "2238 rows affected.\n"
     ]
    },
    {
     "data": {
      "text/plain": [
       "[]"
      ]
     },
     "execution_count": 64,
     "metadata": {},
     "output_type": "execute_result"
    }
   ],
   "source": [
    "%%sql\n",
    "COPY arrest FROM '/home/jovyan/work/arrest.csv'\n",
    "CSV\n",
    "HEADER\n",
    "QUOTE '\"'\n",
    "DELIMITER ',';"
   ]
  },
  {
   "cell_type": "code",
   "execution_count": 65,
   "metadata": {
    "collapsed": false
   },
   "outputs": [
    {
     "name": "stdout",
     "output_type": "stream",
     "text": [
      "1 rows affected.\n"
     ]
    },
    {
     "data": {
      "text/html": [
       "<table>\n",
       "    <tr>\n",
       "        <th>count</th>\n",
       "    </tr>\n",
       "    <tr>\n",
       "        <td>2238</td>\n",
       "    </tr>\n",
       "</table>"
      ],
      "text/plain": [
       "[(2238,)]"
      ]
     },
     "execution_count": 65,
     "metadata": {},
     "output_type": "execute_result"
    }
   ],
   "source": [
    "%%sql\n",
    "SELECT COUNT(*)\n",
    "FROM arrest;"
   ]
  },
  {
   "cell_type": "code",
   "execution_count": 70,
   "metadata": {
    "collapsed": false
   },
   "outputs": [
    {
     "name": "stdout",
     "output_type": "stream",
     "text": [
      "10 rows affected.\n"
     ]
    },
    {
     "data": {
      "text/html": [
       "<table>\n",
       "    <tr>\n",
       "        <th>id</th>\n",
       "        <th>pk</th>\n",
       "        <th>ccr</th>\n",
       "        <th>age</th>\n",
       "        <th>gender</th>\n",
       "        <th>race</th>\n",
       "        <th>arrest_time</th>\n",
       "        <th>arrestlocation</th>\n",
       "        <th>offenses</th>\n",
       "        <th>incidentlocation</th>\n",
       "        <th>incidentneighborhood</th>\n",
       "        <th>incidentzone</th>\n",
       "        <th>incidenttract</th>\n",
       "        <th>council_district</th>\n",
       "        <th>public_works_division</th>\n",
       "        <th>x</th>\n",
       "        <th>y</th>\n",
       "    </tr>\n",
       "    <tr>\n",
       "        <td>1101</td>\n",
       "        <td>1975853</td>\n",
       "        <td>16144123</td>\n",
       "        <td>21</td>\n",
       "        <td>F</td>\n",
       "        <td>B</td>\n",
       "        <td>2016-09-28 10:59:00</td>\n",
       "        <td>900 Block 2nd AV Pittsburgh, PA 15219</td>\n",
       "        <td>903 Criminal Conspiracy. / 2701 Simple Assault. / 2705 Recklessy Endangering Another Person. / 3701 Robbery.</td>\n",
       "        <td>Monongahela ST Pittsburgh, PA 15207</td>\n",
       "        <td>Hazelwood</td>\n",
       "        <td>4</td>\n",
       "        <td>1515</td>\n",
       "        <td>None</td>\n",
       "        <td>None</td>\n",
       "        <td>0.0</td>\n",
       "        <td>0.0</td>\n",
       "    </tr>\n",
       "    <tr>\n",
       "        <td>2101</td>\n",
       "        <td>1977133</td>\n",
       "        <td>16202568</td>\n",
       "        <td>15</td>\n",
       "        <td>F</td>\n",
       "        <td>B</td>\n",
       "        <td>2016-10-31 08:50:00</td>\n",
       "        <td>6600 Block 1ST AV PITTSBURGH, PA 15219</td>\n",
       "        <td>2702 Aggravated Assault.</td>\n",
       "        <td>3100 Block CENTRE AV PITTSBURGH, PA 15219</td>\n",
       "        <td>Upper Hill</td>\n",
       "        <td>2</td>\n",
       "        <td>506</td>\n",
       "        <td>6</td>\n",
       "        <td>3</td>\n",
       "        <td>-79.9620395837461</td>\n",
       "        <td>40.4488861661135</td>\n",
       "    </tr>\n",
       "    <tr>\n",
       "        <td>1103</td>\n",
       "        <td>1975855</td>\n",
       "        <td>16150139</td>\n",
       "        <td>18</td>\n",
       "        <td>M</td>\n",
       "        <td>B</td>\n",
       "        <td>2016-09-28 01:30:00</td>\n",
       "        <td>900 Block 2ND AV Pittsburgh, PA 15219</td>\n",
       "        <td>903 Criminal Conspiracy. / 3701 Robbery.</td>\n",
       "        <td>100 Block N St Clair ST Pittsburgh, PA 15206</td>\n",
       "        <td>East Liberty</td>\n",
       "        <td>5</td>\n",
       "        <td>1115</td>\n",
       "        <td>9</td>\n",
       "        <td>2</td>\n",
       "        <td>-79.9274648656083</td>\n",
       "        <td>40.4649382674773</td>\n",
       "    </tr>\n",
       "    <tr>\n",
       "        <td>2111</td>\n",
       "        <td>1977143</td>\n",
       "        <td>16192562</td>\n",
       "        <td>25</td>\n",
       "        <td>M</td>\n",
       "        <td>B</td>\n",
       "        <td>2016-11-03 03:20:00</td>\n",
       "        <td>Zone 2</td>\n",
       "        <td>2701 Simple Assault. / 2709(a)(1) Harassment by Physical Contact, or Attempts or Threats</td>\n",
       "        <td>Zone 6</td>\n",
       "        <td>None</td>\n",
       "        <td>6</td>\n",
       "        <td>None</td>\n",
       "        <td>None</td>\n",
       "        <td>None</td>\n",
       "        <td>None</td>\n",
       "        <td>None</td>\n",
       "    </tr>\n",
       "    <tr>\n",
       "        <td>1104</td>\n",
       "        <td>1975856</td>\n",
       "        <td>16153027</td>\n",
       "        <td>53</td>\n",
       "        <td>M</td>\n",
       "        <td>W</td>\n",
       "        <td>2016-09-28 12:44:00</td>\n",
       "        <td>600 Block 1st AV Pittsburgh, PA 15219</td>\n",
       "        <td>4304(a)(1) Endangering Welfare of Children.</td>\n",
       "        <td>20 Block Millbridge ST Pittsburgh, PA 15210</td>\n",
       "        <td>Allentown</td>\n",
       "        <td>3</td>\n",
       "        <td>1803</td>\n",
       "        <td>3</td>\n",
       "        <td>4</td>\n",
       "        <td>-79.9960505024945</td>\n",
       "        <td>40.4235822394555</td>\n",
       "    </tr>\n",
       "    <tr>\n",
       "        <td>1702</td>\n",
       "        <td>1976615</td>\n",
       "        <td>16185300</td>\n",
       "        <td>50</td>\n",
       "        <td>M</td>\n",
       "        <td>B</td>\n",
       "        <td>2016-10-01 02:30:00</td>\n",
       "        <td>East Ohio ST &amp; Cedar AV Pittsburgh, PA 15212</td>\n",
       "        <td>13(a)(16) Possession of Controlled Substance</td>\n",
       "        <td>East Ohio ST &amp; Cedar AV Pittsburgh, PA 15212</td>\n",
       "        <td>Allegheny Center</td>\n",
       "        <td>1</td>\n",
       "        <td>2204</td>\n",
       "        <td>1</td>\n",
       "        <td>1</td>\n",
       "        <td>-80.0016938454742</td>\n",
       "        <td>40.4533122427543</td>\n",
       "    </tr>\n",
       "    <tr>\n",
       "        <td>2068</td>\n",
       "        <td>1977089</td>\n",
       "        <td>16200646</td>\n",
       "        <td>14</td>\n",
       "        <td>F</td>\n",
       "        <td>B</td>\n",
       "        <td>2016-10-24 13:00:00</td>\n",
       "        <td>600 Block 1ST AV PITTSBURGH, PA 15219</td>\n",
       "        <td>2702 Aggravated Assault. / 5503(a)(4) DISORDERLY CONDUCT - HAZARDOUS/PHYS. OFF</td>\n",
       "        <td>800 Block RECTENWALD ST PITTSBURGH, PA 15210</td>\n",
       "        <td>Mount Oliver</td>\n",
       "        <td>3</td>\n",
       "        <td>1607</td>\n",
       "        <td>3</td>\n",
       "        <td>4</td>\n",
       "        <td>-79.9794028865196</td>\n",
       "        <td>40.4085696948667</td>\n",
       "    </tr>\n",
       "    <tr>\n",
       "        <td>1903</td>\n",
       "        <td>1976885</td>\n",
       "        <td>16194377</td>\n",
       "        <td>21</td>\n",
       "        <td>M</td>\n",
       "        <td>W</td>\n",
       "        <td>2016-10-14 16:35:00</td>\n",
       "        <td>Henderson ST &amp; Sandusky CT Pittsburgh, PA 15212</td>\n",
       "        <td>4910 Tampering with or Fabricating Physical Evidence. / 13(a)(16) Possession of Controlled Substance / 3503(b)(1)(ii) Defiant Trespass Notice Posted by Sign(s)</td>\n",
       "        <td>Henderson ST &amp; Sandusky CT Pittsburgh, PA 15212</td>\n",
       "        <td>Fineview</td>\n",
       "        <td>1</td>\n",
       "        <td>2509</td>\n",
       "        <td>6</td>\n",
       "        <td>1</td>\n",
       "        <td>-80.0056236909827</td>\n",
       "        <td>40.4592271304641</td>\n",
       "    </tr>\n",
       "    <tr>\n",
       "        <td>1105</td>\n",
       "        <td>1975857</td>\n",
       "        <td>16153931</td>\n",
       "        <td>33</td>\n",
       "        <td>M</td>\n",
       "        <td>B</td>\n",
       "        <td>2016-09-28 11:30:00</td>\n",
       "        <td>600 Block 1ST AV Pittsburgh, PA 15219</td>\n",
       "        <td>3922 Theft by Deception. / 4107 Deceptive Business Practices. / 517.8(A1) Home Improvement Fraud</td>\n",
       "        <td>7100 Block ROSS GARDEN RD Pittsburgh, PA 15206</td>\n",
       "        <td>Lincoln-Lemington-Belmar</td>\n",
       "        <td>5</td>\n",
       "        <td>1201</td>\n",
       "        <td>9</td>\n",
       "        <td>2</td>\n",
       "        <td>-79.8947769607023</td>\n",
       "        <td>40.4717285723431</td>\n",
       "    </tr>\n",
       "    <tr>\n",
       "        <td>2076</td>\n",
       "        <td>1977099</td>\n",
       "        <td>16193564</td>\n",
       "        <td>30</td>\n",
       "        <td>M</td>\n",
       "        <td>B</td>\n",
       "        <td>2016-10-13 14:45:00</td>\n",
       "        <td>1200 Block Western AV Pittsburgh, PA 15233</td>\n",
       "        <td>3701 Robbery.</td>\n",
       "        <td>2300 Block Webster AV Pittsburgh, PA 15219</td>\n",
       "        <td>Middle Hill</td>\n",
       "        <td>2</td>\n",
       "        <td>501</td>\n",
       "        <td>6</td>\n",
       "        <td>3</td>\n",
       "        <td>-79.9756471333157</td>\n",
       "        <td>40.4480652511516</td>\n",
       "    </tr>\n",
       "</table>"
      ],
      "text/plain": [
       "[(1101, 1975853, 16144123, 21, 'F', 'B', datetime.datetime(2016, 9, 28, 10, 59), '900 Block 2nd AV Pittsburgh, PA 15219', '903 Criminal Conspiracy. / 2701 Simple Assault. / 2705 Recklessy Endangering Another Person. / 3701 Robbery.', 'Monongahela ST Pittsburgh, PA 15207', 'Hazelwood', '4', 1515, None, None, 0.0, 0.0),\n",
       " (2101, 1977133, 16202568, 15, 'F', 'B', datetime.datetime(2016, 10, 31, 8, 50), '6600 Block 1ST AV PITTSBURGH, PA 15219', '2702 Aggravated Assault.', '3100 Block CENTRE AV PITTSBURGH, PA 15219', 'Upper Hill', '2', 506, 6, 3, -79.9620395837461, 40.4488861661135),\n",
       " (1103, 1975855, 16150139, 18, 'M', 'B', datetime.datetime(2016, 9, 28, 1, 30), '900 Block 2ND AV Pittsburgh, PA 15219', '903 Criminal Conspiracy. / 3701 Robbery.', '100 Block N St Clair ST Pittsburgh, PA 15206', 'East Liberty', '5', 1115, 9, 2, -79.9274648656083, 40.4649382674773),\n",
       " (2111, 1977143, 16192562, 25, 'M', 'B', datetime.datetime(2016, 11, 3, 3, 20), 'Zone 2', '2701 Simple Assault. / 2709(a)(1) Harassment by Physical Contact, or Attempts or Threats', 'Zone 6', None, '6', None, None, None, None, None),\n",
       " (1104, 1975856, 16153027, 53, 'M', 'W', datetime.datetime(2016, 9, 28, 12, 44), '600 Block 1st AV Pittsburgh, PA 15219', '4304(a)(1) Endangering Welfare of Children.', '20 Block Millbridge ST Pittsburgh, PA 15210', 'Allentown', '3', 1803, 3, 4, -79.9960505024945, 40.4235822394555),\n",
       " (1702, 1976615, 16185300, 50, 'M', 'B', datetime.datetime(2016, 10, 1, 2, 30), 'East Ohio ST & Cedar AV Pittsburgh, PA 15212', '13(a)(16) Possession of Controlled Substance', 'East Ohio ST & Cedar AV Pittsburgh, PA 15212', 'Allegheny Center', '1', 2204, 1, 1, -80.0016938454742, 40.4533122427543),\n",
       " (2068, 1977089, 16200646, 14, 'F', 'B', datetime.datetime(2016, 10, 24, 13, 0), '600 Block 1ST AV PITTSBURGH, PA 15219', '2702 Aggravated Assault. / 5503(a)(4) DISORDERLY CONDUCT - HAZARDOUS/PHYS. OFF', '800 Block RECTENWALD ST PITTSBURGH, PA 15210', 'Mount Oliver', '3', 1607, 3, 4, -79.9794028865196, 40.4085696948667),\n",
       " (1903, 1976885, 16194377, 21, 'M', 'W', datetime.datetime(2016, 10, 14, 16, 35), 'Henderson ST & Sandusky CT Pittsburgh, PA 15212', '4910 Tampering with or Fabricating Physical Evidence. / 13(a)(16) Possession of Controlled Substance / 3503(b)(1)(ii) Defiant Trespass Notice Posted by Sign(s)', 'Henderson ST & Sandusky CT Pittsburgh, PA 15212', 'Fineview', '1', 2509, 6, 1, -80.0056236909827, 40.4592271304641),\n",
       " (1105, 1975857, 16153931, 33, 'M', 'B', datetime.datetime(2016, 9, 28, 11, 30), '600 Block 1ST AV Pittsburgh, PA 15219', '3922 Theft by Deception. / 4107 Deceptive Business Practices. / 517.8(A1) Home Improvement Fraud', '7100 Block ROSS GARDEN RD Pittsburgh, PA 15206', 'Lincoln-Lemington-Belmar', '5', 1201, 9, 2, -79.8947769607023, 40.4717285723431),\n",
       " (2076, 1977099, 16193564, 30, 'M', 'B', datetime.datetime(2016, 10, 13, 14, 45), '1200 Block Western AV Pittsburgh, PA 15233', '3701 Robbery.', '2300 Block Webster AV Pittsburgh, PA 15219', 'Middle Hill', '2', 501, 6, 3, -79.9756471333157, 40.4480652511516)]"
      ]
     },
     "execution_count": 70,
     "metadata": {},
     "output_type": "execute_result"
    }
   ],
   "source": [
    "%%sql\n",
    "SELECT *\n",
    "FROM arrest\n",
    "LIMIT 10;"
   ]
  },
  {
   "cell_type": "code",
   "execution_count": 67,
   "metadata": {
    "collapsed": false
   },
   "outputs": [
    {
     "name": "stdout",
     "output_type": "stream",
     "text": [
      "Done.\n",
      "Done.\n"
     ]
    },
    {
     "data": {
      "text/plain": [
       "[]"
      ]
     },
     "execution_count": 67,
     "metadata": {},
     "output_type": "execute_result"
    }
   ],
   "source": [
    "%%sql\n",
    "DROP TABLE IF EXISTS person_dim;\n",
    "CREATE TABLE person_dim (\n",
    "  person_dim_id SERIAL PRIMARY KEY,\n",
    "  age INTEGER, \n",
    "  gender VARCHAR(4) DEFAULT NULL,\n",
    "  race VARCHAR(1) DEFAULT NULL,\n",
    "  public_works_division INTEGER\n",
    ");"
   ]
  },
  {
   "cell_type": "code",
   "execution_count": 68,
   "metadata": {
    "collapsed": false
   },
   "outputs": [
    {
     "name": "stdout",
     "output_type": "stream",
     "text": [
      "2238 rows affected.\n"
     ]
    },
    {
     "data": {
      "text/plain": [
       "[]"
      ]
     },
     "execution_count": 68,
     "metadata": {},
     "output_type": "execute_result"
    }
   ],
   "source": [
    "%%sql\n",
    "INSERT INTO person_dim (age, gender, race, public_works_division)\n",
    "SELECT \n",
    "    age, \n",
    "    gender,\n",
    "    race,\n",
    "    public_works_division\n",
    "FROM arrest\n",
    ";"
   ]
  },
  {
   "cell_type": "code",
   "execution_count": 69,
   "metadata": {
    "collapsed": false
   },
   "outputs": [
    {
     "name": "stdout",
     "output_type": "stream",
     "text": [
      "10 rows affected.\n"
     ]
    },
    {
     "data": {
      "text/html": [
       "<table>\n",
       "    <tr>\n",
       "        <th>person_dim_id</th>\n",
       "        <th>age</th>\n",
       "        <th>gender</th>\n",
       "        <th>race</th>\n",
       "        <th>public_works_division</th>\n",
       "    </tr>\n",
       "    <tr>\n",
       "        <td>1</td>\n",
       "        <td>21</td>\n",
       "        <td>F</td>\n",
       "        <td>B</td>\n",
       "        <td>None</td>\n",
       "    </tr>\n",
       "    <tr>\n",
       "        <td>2</td>\n",
       "        <td>15</td>\n",
       "        <td>F</td>\n",
       "        <td>B</td>\n",
       "        <td>3</td>\n",
       "    </tr>\n",
       "    <tr>\n",
       "        <td>3</td>\n",
       "        <td>18</td>\n",
       "        <td>M</td>\n",
       "        <td>B</td>\n",
       "        <td>2</td>\n",
       "    </tr>\n",
       "    <tr>\n",
       "        <td>4</td>\n",
       "        <td>25</td>\n",
       "        <td>M</td>\n",
       "        <td>B</td>\n",
       "        <td>None</td>\n",
       "    </tr>\n",
       "    <tr>\n",
       "        <td>5</td>\n",
       "        <td>53</td>\n",
       "        <td>M</td>\n",
       "        <td>W</td>\n",
       "        <td>4</td>\n",
       "    </tr>\n",
       "    <tr>\n",
       "        <td>6</td>\n",
       "        <td>50</td>\n",
       "        <td>M</td>\n",
       "        <td>B</td>\n",
       "        <td>1</td>\n",
       "    </tr>\n",
       "    <tr>\n",
       "        <td>7</td>\n",
       "        <td>14</td>\n",
       "        <td>F</td>\n",
       "        <td>B</td>\n",
       "        <td>4</td>\n",
       "    </tr>\n",
       "    <tr>\n",
       "        <td>8</td>\n",
       "        <td>21</td>\n",
       "        <td>M</td>\n",
       "        <td>W</td>\n",
       "        <td>1</td>\n",
       "    </tr>\n",
       "    <tr>\n",
       "        <td>9</td>\n",
       "        <td>33</td>\n",
       "        <td>M</td>\n",
       "        <td>B</td>\n",
       "        <td>2</td>\n",
       "    </tr>\n",
       "    <tr>\n",
       "        <td>10</td>\n",
       "        <td>30</td>\n",
       "        <td>M</td>\n",
       "        <td>B</td>\n",
       "        <td>3</td>\n",
       "    </tr>\n",
       "</table>"
      ],
      "text/plain": [
       "[(1, 21, 'F', 'B', None),\n",
       " (2, 15, 'F', 'B', 3),\n",
       " (3, 18, 'M', 'B', 2),\n",
       " (4, 25, 'M', 'B', None),\n",
       " (5, 53, 'M', 'W', 4),\n",
       " (6, 50, 'M', 'B', 1),\n",
       " (7, 14, 'F', 'B', 4),\n",
       " (8, 21, 'M', 'W', 1),\n",
       " (9, 33, 'M', 'B', 2),\n",
       " (10, 30, 'M', 'B', 3)]"
      ]
     },
     "execution_count": 69,
     "metadata": {},
     "output_type": "execute_result"
    }
   ],
   "source": [
    "%%sql\n",
    "SELECT * \n",
    "FROM person_dim\n",
    "LIMIT 10;"
   ]
  },
  {
   "cell_type": "markdown",
   "metadata": {
    "collapsed": true
   },
   "source": [
    "The above is the new dimension table we created which includes detailed personal information about the criminal is Pittsburgh area. These information are useful supplement to our existing star schema. \n",
    "\n",
    "Xinyi LU and Boer FENG do each part together and we all contribute significantly to this project."
   ]
  }
 ],
 "metadata": {
  "anaconda-cloud": {},
  "kernelspec": {
   "display_name": "Python 3",
   "language": "python",
   "name": "python3"
  },
  "language_info": {
   "codemirror_mode": {
    "name": "ipython",
    "version": 3
   },
   "file_extension": ".py",
   "mimetype": "text/x-python",
   "name": "python",
   "nbconvert_exporter": "python",
   "pygments_lexer": "ipython3",
   "version": "3.5.2"
  }
 },
 "nbformat": 4,
 "nbformat_minor": 1
}
