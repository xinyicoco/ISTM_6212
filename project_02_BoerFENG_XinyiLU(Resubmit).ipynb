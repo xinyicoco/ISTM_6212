{
 "cells": [
  {
   "cell_type": "markdown",
   "metadata": {},
   "source": [
    "# Project 02 - Due Friday, November 11 at 12pm\n",
    "\n",
    "*Objectives*: Gain experience loading a transactional dataset into a relational database model you define yourself and using SQL to explore its contents. Transform the data into a star schema, documenting the schema visually, and explore the transformed data analytically by writing and executing a number of SQL queries using common syntax and functions and describing your findings.  Gain practice working on these tasks with a partner.\n",
    "\n",
    "*Grading criteria*: The tasks should all be completed, and questions should all be answered with SQL queries, diagrams, and charts in the space provided, unless a text answer is requested.  The notebook itself should be completely reproducible at datanotebook.org, from start to finish: another person should be able to use the same code to obtain the same results as yours.  Note that you will receive no more than partial credit if you do not add text/markdown cells explaining your thinking at each major step in each problem.\n",
    "\n",
    "*Attestation*: **Work in pairs**.  At the end of your submitted notebook, identify the work each partner performed and attest that each contributed substantially to the work.\n",
    "\n",
    "*Deadline*: Friday, November 11, 12pm.  One member of each pair must submit your notebook to Blackboard; you should not both submit it separately.  You may each push a copy to your own GitHub repository.\n",
    "\n",
    "\n",
    "## Setup - select and obtain data\n",
    "\n",
    "The US City Open Data Census has a variety of [transactional data from all over the country](http://us-city.census.okfn.org/).  Select one topic and one city from this Census, download the data, and explain your reason for this choice before proceeding.  Provide a link to the web page for the data set you've chosen.\n",
    "\n",
    "I strongly encourage you to select a dataset from among the following topics:  Crime, Property Assessment, Campaign Finance Contributions, Service Requests (311), and Web Analytics.\n",
    "\n",
    "By *transactional* data I mean records at the grain of one event per business process.  In the case of Service Requests (311), for example, that would require data at the level of each individual report of a service request.  If this isn't clear, think about the bike trip data - each individual ride was included - and look for data at that level of event/process specificity.  Avoid data like the Connecticut boating data, which was summarized by year, not individual transactions.\n",
    "\n",
    "Please aim for a dataset of at least 10,000 individual records, but less than 250,000 records.  A little more or a little less is okay, but try to stay within these limits."
   ]
  },
  {
   "cell_type": "markdown",
   "metadata": {},
   "source": [
    "## Problem 1 - examine the data (20 points)\n",
    "\n",
    "Use `csvstat`, `pandas`, or other tools as you see fit and observe the contents of your dataset.  Review important points from any metadata provided.  Describe what you see:  What do the columns mean?  Are there null values?  Which columns interest you the most?  Which columns present some opportunities, challenges, or questions you would like to ask?"
   ]
  },
  {
   "cell_type": "code",
   "execution_count": 1,
   "metadata": {
    "collapsed": false
   },
   "outputs": [],
   "source": [
    "!mv pc.csv pittscrime.csv"
   ]
  },
  {
   "cell_type": "code",
   "execution_count": 2,
   "metadata": {
    "collapsed": false
   },
   "outputs": [
    {
     "name": "stdout",
     "output_type": "stream",
     "text": [
      "117718 pittscrime.csv\r\n"
     ]
    }
   ],
   "source": [
    "!wc -l pittscrime.csv"
   ]
  },
  {
   "cell_type": "code",
   "execution_count": 3,
   "metadata": {
    "collapsed": false
   },
   "outputs": [
    {
     "name": "stdout",
     "output_type": "stream",
     "text": [
      "  1: _id\r\n",
      "  2: REPORT_NAME\r\n",
      "  3: CCR\r\n",
      "  4: SECTION\r\n",
      "  5: DESCRIPTION\r\n",
      "  6: ARREST_TIME\r\n",
      "  7: ADDRESS\r\n",
      "  8: NEIGHBORHOOD\r\n",
      "  9: ZONE\r\n",
      " 10: AGE\r\n",
      " 11: GENDER\r\n"
     ]
    }
   ],
   "source": [
    "!csvcut -n pittscrime.csv"
   ]
  },
  {
   "cell_type": "markdown",
   "metadata": {},
   "source": [
    "What do columns mean?\n",
    "\n",
    "https://data.wprdc.org/dataset/pittsburgh-police-incident-blotter\n",
    "1. _id: The identification number for the each crime\n",
    "2. Report_name: The name of each crime report, such as arrest or offense\n",
    "3. ccr: CCR is the Central Control Record number. It is a reference number or unique identifier for a report.\n",
    "4. Section: The identification number for the crime report\n",
    "5. Description: The detailed explanation of each crime\n",
    "6. Arrest_time: The arrest time in the format of Year-month-dayTime.\n",
    "7. Address: The detailed address of the crime occured, e.g., 4th Ave & Delray St\n",
    "8. Neighborhood: The neighborhood which the address belongs to, e.g., Shadyside\n",
    "9. Zone: The zone number of the neighborhood belongs to\n",
    "10. Age: The age of the criminal\n",
    "11. Gender: The gender of the criminal"
   ]
  },
  {
   "cell_type": "code",
   "execution_count": 4,
   "metadata": {
    "collapsed": false
   },
   "outputs": [
    {
     "name": "stdout",
     "output_type": "stream",
     "text": [
      "  1. 40885\r\n",
      "\t<class 'int'>\r\n",
      "\tNulls: False\r\n",
      "\tMin: 232\r\n",
      "\tMax: 117623\r\n",
      "\tSum: 58527240\r\n",
      "\tMean: 58585.82582582583\r\n",
      "\tMedian: 59403\r\n",
      "\tStandard Deviation: 34424.08390162563\r\n",
      "\tUnique values: 999\r\n",
      "  2. OFFENSE 2.0\r\n",
      "\t<class 'str'>\r\n",
      "\tNulls: True\r\n",
      "\tValues: OFFENSE 2.0, ARREST\r\n",
      "  3. 15116766\r\n",
      "\t<class 'int'>\r\n",
      "\tNulls: False\r\n",
      "\tMin: 12056165\r\n",
      "\tMax: 16208891\r\n",
      "\tSum: 15593654357\r\n",
      "\tMean: 15609263.620620621\r\n",
      "\tMedian: 15247303\r\n",
      "\tStandard Deviation: 510442.60463610897\r\n",
      "\tUnique values: 986\r\n",
      "\t5 most frequent values:\r\n",
      "\t\t16203645:\t3\r\n",
      "\t\t16081989:\t2\r\n",
      "\t\t16008177:\t2\r\n",
      "\t\t16201804:\t2\r\n",
      "\t\t16138457:\t2\r\n",
      "  4. 5503\r\n",
      "\t<class 'str'>\r\n",
      "\tNulls: False\r\n",
      "\tUnique values: 158\r\n",
      "\t5 most frequent values:\r\n",
      "\t\t3304:\t60\r\n",
      "\t\t13(a)(16):\t45\r\n",
      "\t\t2701:\t42\r\n",
      "\t\t3921:\t37\r\n",
      "\t\t9999:\t34\r\n",
      "\tMax length: 17\r\n",
      "  5. Disorderly Conduct.\r\n",
      "\t<class 'str'>\r\n",
      "\tNulls: False\r\n",
      "\tUnique values: 165\r\n",
      "\t5 most frequent values:\r\n",
      "\t\tCriminal Mischief.:\t60\r\n",
      "\t\tPossession of Controlled Substance:\t45\r\n",
      "\t\tSimple Assault.:\t42\r\n",
      "\t\tTheft by Unlawful Taking or Disposition.:\t37\r\n",
      "\t\tAggravated Assault.:\t32\r\n",
      "\tMax length: 121\r\n",
      "  6. 2015-06-26T19:05:00\r\n",
      "\t<class 'datetime.datetime'>\r\n",
      "\tNulls: False\r\n",
      "\tMin: 2015-03-10 16:38:00\r\n",
      "\tMax: 2016-11-05 14:57:00\r\n",
      "\tUnique values: 987\r\n",
      "\t5 most frequent values:\r\n",
      "\t\t2016-05-13 13:30:00:\t3\r\n",
      "\t\t2016-10-26 07:30:00:\t2\r\n",
      "\t\t2016-01-28 20:56:00:\t2\r\n",
      "\t\t2016-09-14 19:00:00:\t2\r\n",
      "\t\t2015-04-27 17:30:00:\t2\r\n",
      "  7. 100 block N Highland Ave\r\n",
      "\t<class 'str'>\r\n",
      "\tNulls: False\r\n",
      "\tUnique values: 852\r\n",
      "\t5 most frequent values:\r\n",
      "\t\t600 block 1st Ave:\t7\r\n",
      "\t\t300 block Cedar Ave:\t6\r\n",
      "\t\t1600 block E Carson St:\t6\r\n",
      "\t\t1600 block Sandusky Ct:\t5\r\n",
      "\t\t1700 block E Carson St:\t5\r\n",
      "\tMax length: 43\r\n",
      "  8. East Liberty\r\n",
      "\t<class 'str'>\r\n",
      "\tNulls: False\r\n",
      "\tUnique values: 86\r\n",
      "\t5 most frequent values:\r\n",
      "\t\tSouth Side Flats:\t82\r\n",
      "\t\tGolden Triangle/Civic Arena:\t61\r\n",
      "\t\tCarrick:\t31\r\n",
      "\t\tEast Allegheny:\t28\r\n",
      "\t\tBrighton Heights:\t27\r\n",
      "\tMax length: 27\r\n",
      "  9. 5\r\n",
      "\t<class 'int'>\r\n",
      "\tNulls: True\r\n",
      "\tMin: 1\r\n",
      "\tMax: 6\r\n",
      "\tSum: 3207\r\n",
      "\tMean: 3.22635814889336\r\n",
      "\tMedian: 3.0\r\n",
      "\tStandard Deviation: 1.681377889153948\r\n",
      "\tUnique values: 6\r\n",
      "\t5 most frequent values:\r\n",
      "\t\t3:\t220\r\n",
      "\t\t1:\t216\r\n",
      "\t\t5:\t181\r\n",
      "\t\t2:\t153\r\n",
      "\t\t4:\t112\r\n",
      " 10. _unnamed\r\n",
      "\t<class 'int'>\r\n",
      "\tNulls: True\r\n",
      "\tMin: 0\r\n",
      "\tMax: 228\r\n",
      "\tSum: 10909\r\n",
      "\tMean: 32.17994100294985\r\n",
      "\tMedian: 29\r\n",
      "\tStandard Deviation: 16.034441507292875\r\n",
      "\tUnique values: 55\r\n",
      "\t5 most frequent values:\r\n",
      "\t\t23:\t25\r\n",
      "\t\t27:\t17\r\n",
      "\t\t24:\t16\r\n",
      "\t\t20:\t15\r\n",
      "\t\t33:\t13\r\n",
      " 11. _unnamed\r\n",
      "\t<class 'str'>\r\n",
      "\tNulls: True\r\n",
      "\tValues: U, M, F\r\n",
      "\r\n",
      "Row count: 999\r\n"
     ]
    }
   ],
   "source": [
    "!shuf -n 1000 pittscrime.csv | csvstat \n"
   ]
  },
  {
   "cell_type": "markdown",
   "metadata": {},
   "source": [
    "Are there null values?\n",
    "\n",
    "Yes. There are 4 columns have null values(C2 C9 C10 C11). They are Report_name, Zone, Age and Gender."
   ]
  },
  {
   "cell_type": "code",
   "execution_count": 5,
   "metadata": {
    "collapsed": false
   },
   "outputs": [
    {
     "name": "stdout",
     "output_type": "stream",
     "text": [
      "|--------+-------------+----------+---------+----------------------------------------------------+---------------------+------------------------+------------------+------+-----+---------|\r\n",
      "|  _id   | REPORT_NAME | CCR      | SECTION | DESCRIPTION                                        | ARREST_TIME         | ADDRESS                | NEIGHBORHOOD     | ZONE | AGE | GENDER  |\r\n",
      "|--------+-------------+----------+---------+----------------------------------------------------+---------------------+------------------------+------------------+------+-----+---------|\r\n",
      "|  53961 | OFFENSE 2.0 | 15158500 | 903     | Criminal Conspiracy.                               | 2015-08-22T23:59:00 | 400 block East Commons | Allegheny Center | 1    |     |         |\r\n",
      "|  53962 | OFFENSE 2.0 | 15158500 | 6106    | Firearms not to be Carried without a License.      | 2015-08-22T23:59:00 | 400 block East Commons | Allegheny Center | 1    |     |         |\r\n",
      "|  53963 | OFFENSE 2.0 | 15158500 | 3925    | Receiving Stolen Property.                         | 2015-08-22T23:59:00 | 400 block East Commons | Allegheny Center | 1    |     |         |\r\n",
      "|  53964 | OFFENSE 2.0 | 15157796 | 3502    | Burglary.                                          | 2015-08-22T01:45:00 | 27th St                | Strip District   | 2    |     |         |\r\n",
      "|  53965 | OFFENSE 2.0 | 15157919 | 2702    | Aggravated Assault.                                | 2015-08-22T06:00:00 | 1900 block 5th Ave     | Bluff            | 2    |     |         |\r\n",
      "|  53966 | OFFENSE 2.0 | 15157997 | 9999    | 9999 - (Misc. Incident):                           | 2015-08-22T10:15:00 | 100 block Burrows St   | Terrace Village  | 2    |     |         |\r\n",
      "|  53967 | OFFENSE 2.0 | 15158116 | 3304    | Criminal Mischief.                                 | 2015-08-22T11:00:00 | 2200 block Centre Ave  | Middle Hill      | 2    |     |         |\r\n",
      "|  53968 | OFFENSE 2.0 | 15158026 | 3928    | Unauthorized Use of Automobile and Other Vehicles. | 2015-08-22T11:11:00 | 1800 block Centre Ave  | Crawford-Roberts | 2    |     |         |\r\n",
      "|  53969 | ARREST      | 15158026 | 3928    | Unauthorized Use of Automobile and Other Vehicles. | 2015-08-22T11:15:00 | 1800 block Centre Ave  | Crawford-Roberts | 2    | 47  | M       |\r\n",
      "|--------+-------------+----------+---------+----------------------------------------------------+---------------------+------------------------+------------------+------+-----+---------|\r\n"
     ]
    }
   ],
   "source": [
    "!head pittscrime.csv|csvlook"
   ]
  },
  {
   "cell_type": "markdown",
   "metadata": {},
   "source": [
    "We are particularly inerested in the location of the crime, which includes columns \"Address\", \"Neighborhood\" and \"Zone\". The location information could tell us the frequency of crime happening on each part of the Greater Pittsburgh area. Therefore I could do analysis on identifying the degree of safety on each area and help residents avoid the dangerous area. The questions I could ask includes but not limited to:\n",
    "1. Which neighborhoods have the least frequecy of crime?\n",
    "2. what type of crime happened most frequently?\n",
    "3. What are the safe place that we could suggest to live?\n",
    "4. What are the area that the policy should pay more attention to in order to decrease the crime rate?"
   ]
  },
  {
   "cell_type": "markdown",
   "metadata": {},
   "source": [
    "## Problem 2 - define a database model, load the data, and explore (20 points)\n",
    "\n",
    "Based on what you found above, create and connect to a new database, define a database table in it, and load this dataset into it.  You may use either of the methods for this step you have seen in earlier class notebooks.  You may choose to eliminate variables/columns if they are not relevant or interesting to you - explain your reasoning if you do.  Either way, you should load a majority of the columns present in the source dataset as it is in its raw form into the database, and all of its rows.\n",
    "\n",
    "Once your data has loaded successfully, run a `COUNT(*)` query to verify that all the data has loaded correctly.\n",
    "\n",
    "Explore the data to zero in on a few themes you would like to further study analytically.  Discuss columns that present opportunities for extraction into dimensions, and identify the specific columns that contain facts you want to measure."
   ]
  },
  {
   "cell_type": "markdown",
   "metadata": {},
   "source": [
    "This step is to restart PostgreSQL."
   ]
  },
  {
   "cell_type": "code",
   "execution_count": 6,
   "metadata": {
    "collapsed": false
   },
   "outputs": [
    {
     "name": "stdout",
     "output_type": "stream",
     "text": [
      "[sudo] password for jovyan: Restarting PostgreSQL 9.5 database server: main.\n"
     ]
    }
   ],
   "source": [
    "!echo 'redspot' | sudo -S service postgresql restart"
   ]
  },
  {
   "cell_type": "markdown",
   "metadata": {},
   "source": [
    "Then we create a database named pro2."
   ]
  },
  {
   "cell_type": "code",
   "execution_count": 7,
   "metadata": {
    "collapsed": false
   },
   "outputs": [],
   "source": [
    "!createdb -U dbuser pittscrime"
   ]
  },
  {
   "cell_type": "markdown",
   "metadata": {},
   "source": [
    "This step is to load sql extension."
   ]
  },
  {
   "cell_type": "code",
   "execution_count": 8,
   "metadata": {
    "collapsed": false
   },
   "outputs": [
    {
     "name": "stderr",
     "output_type": "stream",
     "text": [
      "/opt/conda/lib/python3.5/site-packages/IPython/config.py:13: ShimWarning: The `IPython.config` package has been deprecated. You should import from traitlets.config instead.\n",
      "  \"You should import from traitlets.config instead.\", ShimWarning)\n",
      "/opt/conda/lib/python3.5/site-packages/IPython/utils/traitlets.py:5: UserWarning: IPython.utils.traitlets has moved to a top-level traitlets package.\n",
      "  warn(\"IPython.utils.traitlets has moved to a top-level traitlets package.\")\n"
     ]
    }
   ],
   "source": [
    "%load_ext sql"
   ]
  },
  {
   "cell_type": "markdown",
   "metadata": {},
   "source": [
    "This show we connect to the database successfully."
   ]
  },
  {
   "cell_type": "code",
   "execution_count": 9,
   "metadata": {
    "collapsed": false
   },
   "outputs": [
    {
     "data": {
      "text/plain": [
       "'Connected: dbuser@pittscrime'"
      ]
     },
     "execution_count": 9,
     "metadata": {},
     "output_type": "execute_result"
    }
   ],
   "source": [
    "%sql postgresql://dbuser@localhost:5432/pittscrime"
   ]
  },
  {
   "cell_type": "code",
   "execution_count": 10,
   "metadata": {
    "collapsed": false
   },
   "outputs": [
    {
     "name": "stdout",
     "output_type": "stream",
     "text": [
      "Done.\n",
      "Done.\n"
     ]
    },
    {
     "data": {
      "text/plain": [
       "[]"
      ]
     },
     "execution_count": 10,
     "metadata": {},
     "output_type": "execute_result"
    }
   ],
   "source": [
    "%%sql\n",
    "DROP TABLE IF EXISTS pittscrime;\n",
    "CREATE TABLE pittscrime\n",
    "(\n",
    "    id INTEGER,\n",
    "    REPORT_NAME VARCHAR(11),\n",
    "    CCR INTEGER,\n",
    "    SECTION VARCHAR(19),\n",
    "    DESCRIPTION VARCHAR(128),\n",
    "    ARREST_TIME TIMESTAMP,\n",
    "    ADDRESS VARCHAR(53), \n",
    "    NEIGHBORHOOD VARCHAR(27),\n",
    "    ZONE INTEGER, \n",
    "    AGE INTEGER, \n",
    "    GENDER VARCHAR(4)\n",
    ")\n"
   ]
  },
  {
   "cell_type": "code",
   "execution_count": 11,
   "metadata": {
    "collapsed": false
   },
   "outputs": [
    {
     "name": "stdout",
     "output_type": "stream",
     "text": [
      "/home/jovyan/work\r\n"
     ]
    }
   ],
   "source": [
    "!pwd"
   ]
  },
  {
   "cell_type": "code",
   "execution_count": 12,
   "metadata": {
    "collapsed": false
   },
   "outputs": [
    {
     "name": "stdout",
     "output_type": "stream",
     "text": [
      "117717 rows affected.\n"
     ]
    },
    {
     "data": {
      "text/plain": [
       "[]"
      ]
     },
     "execution_count": 12,
     "metadata": {},
     "output_type": "execute_result"
    }
   ],
   "source": [
    "%%sql\n",
    "COPY pittscrime FROM '/home/jovyan/work/pittscrime.csv'\n",
    "CSV\n",
    "HEADER\n",
    "QUOTE '\"'\n",
    "DELIMITER ',';"
   ]
  },
  {
   "cell_type": "code",
   "execution_count": 13,
   "metadata": {
    "collapsed": false
   },
   "outputs": [
    {
     "name": "stdout",
     "output_type": "stream",
     "text": [
      "1 rows affected.\n"
     ]
    },
    {
     "data": {
      "text/html": [
       "<table>\n",
       "    <tr>\n",
       "        <th>count</th>\n",
       "    </tr>\n",
       "    <tr>\n",
       "        <td>117717</td>\n",
       "    </tr>\n",
       "</table>"
      ],
      "text/plain": [
       "[(117717,)]"
      ]
     },
     "execution_count": 13,
     "metadata": {},
     "output_type": "execute_result"
    }
   ],
   "source": [
    "%%sql\n",
    "SELECT COUNT(*)\n",
    "FROM pittscrime;"
   ]
  },
  {
   "cell_type": "markdown",
   "metadata": {},
   "source": [
    "Now we are going to explore more about the crime data. We are particularly interested in the Crime rate at different neighborhood. So we count the cime frequency of each neighborhood first."
   ]
  },
  {
   "cell_type": "code",
   "execution_count": 14,
   "metadata": {
    "collapsed": false
   },
   "outputs": [
    {
     "name": "stdout",
     "output_type": "stream",
     "text": [
      "20 rows affected.\n"
     ]
    },
    {
     "data": {
      "text/html": [
       "<table>\n",
       "    <tr>\n",
       "        <th>neighborhood</th>\n",
       "        <th>count</th>\n",
       "    </tr>\n",
       "    <tr>\n",
       "        <td>Golden Triangle/Civic Arena</td>\n",
       "        <td>8229</td>\n",
       "    </tr>\n",
       "    <tr>\n",
       "        <td>South Side Flats</td>\n",
       "        <td>7645</td>\n",
       "    </tr>\n",
       "    <tr>\n",
       "        <td>East Liberty</td>\n",
       "        <td>3503</td>\n",
       "    </tr>\n",
       "    <tr>\n",
       "        <td>East Allegheny</td>\n",
       "        <td>3499</td>\n",
       "    </tr>\n",
       "    <tr>\n",
       "        <td>Carrick</td>\n",
       "        <td>3402</td>\n",
       "    </tr>\n",
       "    <tr>\n",
       "        <td>Brighton Heights</td>\n",
       "        <td>2665</td>\n",
       "    </tr>\n",
       "    <tr>\n",
       "        <td>Sheraden</td>\n",
       "        <td>2569</td>\n",
       "    </tr>\n",
       "    <tr>\n",
       "        <td>Bluff</td>\n",
       "        <td>2559</td>\n",
       "    </tr>\n",
       "    <tr>\n",
       "        <td>Marshall-Shadeland</td>\n",
       "        <td>2520</td>\n",
       "    </tr>\n",
       "    <tr>\n",
       "        <td>Mount Washington</td>\n",
       "        <td>2510</td>\n",
       "    </tr>\n",
       "    <tr>\n",
       "        <td>Brookline</td>\n",
       "        <td>2395</td>\n",
       "    </tr>\n",
       "    <tr>\n",
       "        <td>Homewood South</td>\n",
       "        <td>2379</td>\n",
       "    </tr>\n",
       "    <tr>\n",
       "        <td>Knoxville</td>\n",
       "        <td>2284</td>\n",
       "    </tr>\n",
       "    <tr>\n",
       "        <td>Shadyside</td>\n",
       "        <td>2284</td>\n",
       "    </tr>\n",
       "    <tr>\n",
       "        <td>Bloomfield</td>\n",
       "        <td>2250</td>\n",
       "    </tr>\n",
       "    <tr>\n",
       "        <td>Lincoln-Lemington-Belmar</td>\n",
       "        <td>2231</td>\n",
       "    </tr>\n",
       "    <tr>\n",
       "        <td>Central Northside</td>\n",
       "        <td>2207</td>\n",
       "    </tr>\n",
       "    <tr>\n",
       "        <td>Homewood North</td>\n",
       "        <td>2195</td>\n",
       "    </tr>\n",
       "    <tr>\n",
       "        <td>Allegheny Center</td>\n",
       "        <td>2047</td>\n",
       "    </tr>\n",
       "    <tr>\n",
       "        <td>Perry South</td>\n",
       "        <td>1987</td>\n",
       "    </tr>\n",
       "</table>"
      ],
      "text/plain": [
       "[('Golden Triangle/Civic Arena', 8229),\n",
       " ('South Side Flats', 7645),\n",
       " ('East Liberty', 3503),\n",
       " ('East Allegheny', 3499),\n",
       " ('Carrick', 3402),\n",
       " ('Brighton Heights', 2665),\n",
       " ('Sheraden', 2569),\n",
       " ('Bluff', 2559),\n",
       " ('Marshall-Shadeland', 2520),\n",
       " ('Mount Washington', 2510),\n",
       " ('Brookline', 2395),\n",
       " ('Homewood South', 2379),\n",
       " ('Knoxville', 2284),\n",
       " ('Shadyside', 2284),\n",
       " ('Bloomfield', 2250),\n",
       " ('Lincoln-Lemington-Belmar', 2231),\n",
       " ('Central Northside', 2207),\n",
       " ('Homewood North', 2195),\n",
       " ('Allegheny Center', 2047),\n",
       " ('Perry South', 1987)]"
      ]
     },
     "execution_count": 14,
     "metadata": {},
     "output_type": "execute_result"
    }
   ],
   "source": [
    "%%sql\n",
    "SELECT DISTINCT neighborhood, COUNT(*) as Count\n",
    "FROM pittscrime\n",
    "GROUP BY neighborhood\n",
    "ORDER BY Count DESC\n",
    "LIMIT 20;"
   ]
  },
  {
   "cell_type": "markdown",
   "metadata": {},
   "source": [
    "The above table gives the top 20 neighborhoods with the highest crime rate. Golden Triangle/Civic Arena, South Side Flats and East Liberty are the most danagerous neighborhoods."
   ]
  },
  {
   "cell_type": "code",
   "execution_count": 15,
   "metadata": {
    "collapsed": false
   },
   "outputs": [
    {
     "name": "stdout",
     "output_type": "stream",
     "text": [
      "20 rows affected.\n"
     ]
    },
    {
     "data": {
      "text/html": [
       "<table>\n",
       "    <tr>\n",
       "        <th>neighborhood</th>\n",
       "        <th>count</th>\n",
       "    </tr>\n",
       "    <tr>\n",
       "        <td>Golden Triangle/Civic Arena</td>\n",
       "        <td>8229</td>\n",
       "    </tr>\n",
       "    <tr>\n",
       "        <td>South Side Flats</td>\n",
       "        <td>7645</td>\n",
       "    </tr>\n",
       "    <tr>\n",
       "        <td>East Liberty</td>\n",
       "        <td>3503</td>\n",
       "    </tr>\n",
       "    <tr>\n",
       "        <td>East Allegheny</td>\n",
       "        <td>3499</td>\n",
       "    </tr>\n",
       "    <tr>\n",
       "        <td>Carrick</td>\n",
       "        <td>3402</td>\n",
       "    </tr>\n",
       "    <tr>\n",
       "        <td>Brighton Heights</td>\n",
       "        <td>2665</td>\n",
       "    </tr>\n",
       "    <tr>\n",
       "        <td>Sheraden</td>\n",
       "        <td>2569</td>\n",
       "    </tr>\n",
       "    <tr>\n",
       "        <td>Bluff</td>\n",
       "        <td>2559</td>\n",
       "    </tr>\n",
       "    <tr>\n",
       "        <td>Marshall-Shadeland</td>\n",
       "        <td>2520</td>\n",
       "    </tr>\n",
       "    <tr>\n",
       "        <td>Mount Washington</td>\n",
       "        <td>2510</td>\n",
       "    </tr>\n",
       "    <tr>\n",
       "        <td>Brookline</td>\n",
       "        <td>2395</td>\n",
       "    </tr>\n",
       "    <tr>\n",
       "        <td>Homewood South</td>\n",
       "        <td>2379</td>\n",
       "    </tr>\n",
       "    <tr>\n",
       "        <td>Knoxville</td>\n",
       "        <td>2284</td>\n",
       "    </tr>\n",
       "    <tr>\n",
       "        <td>Shadyside</td>\n",
       "        <td>2284</td>\n",
       "    </tr>\n",
       "    <tr>\n",
       "        <td>Bloomfield</td>\n",
       "        <td>2250</td>\n",
       "    </tr>\n",
       "    <tr>\n",
       "        <td>Lincoln-Lemington-Belmar</td>\n",
       "        <td>2231</td>\n",
       "    </tr>\n",
       "    <tr>\n",
       "        <td>Central Northside</td>\n",
       "        <td>2207</td>\n",
       "    </tr>\n",
       "    <tr>\n",
       "        <td>Homewood North</td>\n",
       "        <td>2195</td>\n",
       "    </tr>\n",
       "    <tr>\n",
       "        <td>Allegheny Center</td>\n",
       "        <td>2047</td>\n",
       "    </tr>\n",
       "    <tr>\n",
       "        <td>Perry South</td>\n",
       "        <td>1987</td>\n",
       "    </tr>\n",
       "</table>"
      ],
      "text/plain": [
       "[('Golden Triangle/Civic Arena', 8229),\n",
       " ('South Side Flats', 7645),\n",
       " ('East Liberty', 3503),\n",
       " ('East Allegheny', 3499),\n",
       " ('Carrick', 3402),\n",
       " ('Brighton Heights', 2665),\n",
       " ('Sheraden', 2569),\n",
       " ('Bluff', 2559),\n",
       " ('Marshall-Shadeland', 2520),\n",
       " ('Mount Washington', 2510),\n",
       " ('Brookline', 2395),\n",
       " ('Homewood South', 2379),\n",
       " ('Knoxville', 2284),\n",
       " ('Shadyside', 2284),\n",
       " ('Bloomfield', 2250),\n",
       " ('Lincoln-Lemington-Belmar', 2231),\n",
       " ('Central Northside', 2207),\n",
       " ('Homewood North', 2195),\n",
       " ('Allegheny Center', 2047),\n",
       " ('Perry South', 1987)]"
      ]
     },
     "execution_count": 15,
     "metadata": {},
     "output_type": "execute_result"
    }
   ],
   "source": [
    "%%sql\n",
    "SELECT DISTINCT neighborhood, COUNT(*) as Count\n",
    "FROM pittscrime\n",
    "GROUP BY neighborhood\n",
    "ORDER BY Count DESC\n",
    "LIMIT 20"
   ]
  },
  {
   "cell_type": "markdown",
   "metadata": {},
   "source": [
    "The above table gives the top 20 neighborhoods with the highest crime rate. Golden Triangle/Civic Arena, South Side Flats and East Liberty are the most danagerous neighborhoods."
   ]
  },
  {
   "cell_type": "code",
   "execution_count": 16,
   "metadata": {
    "collapsed": false
   },
   "outputs": [
    {
     "name": "stderr",
     "output_type": "stream",
     "text": [
      "/opt/conda/lib/python3.5/site-packages/matplotlib/font_manager.py:273: UserWarning: Matplotlib is building the font cache using fc-list. This may take a moment.\n",
      "  warnings.warn('Matplotlib is building the font cache using fc-list. This may take a moment.')\n",
      "/opt/conda/lib/python3.5/site-packages/matplotlib/font_manager.py:273: UserWarning: Matplotlib is building the font cache using fc-list. This may take a moment.\n",
      "  warnings.warn('Matplotlib is building the font cache using fc-list. This may take a moment.')\n"
     ]
    }
   ],
   "source": [
    "import matplotlib\n",
    "%matplotlib inline"
   ]
  },
  {
   "cell_type": "code",
   "execution_count": 17,
   "metadata": {
    "collapsed": false
   },
   "outputs": [
    {
     "data": {
      "text/plain": [
       "<Container object of 20 artists>"
      ]
     },
     "execution_count": 17,
     "metadata": {},
     "output_type": "execute_result"
    },
    {
     "data": {
      "image/png": "[encoded data removed]",
      "text/plain": [
       "<matplotlib.figure.Figure at 0x7f0af4dfd198>"
      ]
     },
     "metadata": {},
     "output_type": "display_data"
    }
   ],
   "source": [
    "result = _\n",
    "result.bar()"
   ]
  },
  {
   "cell_type": "markdown",
   "metadata": {},
   "source": [
    "The graph tells that Golden Triangle and Southside Flats have much higher crime rate than the other area. Therefore we could make a dimension on location, which includes information on the address, neighborhood and zone of the crime happened. \n",
    "\n",
    "Another dimension we are interested in is Report, which includes information on report_name, description, section and arrest_time. Such information could help quickly identify the type of crime. "
   ]
  },
  {
   "cell_type": "code",
   "execution_count": 18,
   "metadata": {
    "collapsed": false
   },
   "outputs": [
    {
     "name": "stdout",
     "output_type": "stream",
     "text": [
      "20 rows affected.\n"
     ]
    },
    {
     "data": {
      "text/html": [
       "<table>\n",
       "    <tr>\n",
       "        <th>arrest_time</th>\n",
       "        <th>count</th>\n",
       "    </tr>\n",
       "    <tr>\n",
       "        <td>2016-02-01 10:00:00</td>\n",
       "        <td>86</td>\n",
       "    </tr>\n",
       "    <tr>\n",
       "        <td>2016-03-31 11:45:00</td>\n",
       "        <td>65</td>\n",
       "    </tr>\n",
       "    <tr>\n",
       "        <td>2016-04-22 19:30:00</td>\n",
       "        <td>55</td>\n",
       "    </tr>\n",
       "    <tr>\n",
       "        <td>2016-05-13 13:30:00</td>\n",
       "        <td>45</td>\n",
       "    </tr>\n",
       "    <tr>\n",
       "        <td>2015-08-11 16:19:00</td>\n",
       "        <td>39</td>\n",
       "    </tr>\n",
       "    <tr>\n",
       "        <td>2015-09-10 17:05:00</td>\n",
       "        <td>38</td>\n",
       "    </tr>\n",
       "    <tr>\n",
       "        <td>2016-06-11 05:00:00</td>\n",
       "        <td>36</td>\n",
       "    </tr>\n",
       "    <tr>\n",
       "        <td>2016-06-23 18:53:00</td>\n",
       "        <td>35</td>\n",
       "    </tr>\n",
       "    <tr>\n",
       "        <td>2016-02-20 19:00:00</td>\n",
       "        <td>34</td>\n",
       "    </tr>\n",
       "    <tr>\n",
       "        <td>2015-08-16 17:35:00</td>\n",
       "        <td>34</td>\n",
       "    </tr>\n",
       "    <tr>\n",
       "        <td>2016-01-23 19:20:00</td>\n",
       "        <td>31</td>\n",
       "    </tr>\n",
       "    <tr>\n",
       "        <td>2015-11-07 03:19:00</td>\n",
       "        <td>30</td>\n",
       "    </tr>\n",
       "    <tr>\n",
       "        <td>2016-06-26 04:46:00</td>\n",
       "        <td>30</td>\n",
       "    </tr>\n",
       "    <tr>\n",
       "        <td>2015-04-17 19:09:00</td>\n",
       "        <td>30</td>\n",
       "    </tr>\n",
       "    <tr>\n",
       "        <td>2016-09-28 13:09:00</td>\n",
       "        <td>30</td>\n",
       "    </tr>\n",
       "    <tr>\n",
       "        <td>2016-09-29 19:15:00</td>\n",
       "        <td>30</td>\n",
       "    </tr>\n",
       "    <tr>\n",
       "        <td>2015-04-10 20:33:00</td>\n",
       "        <td>28</td>\n",
       "    </tr>\n",
       "    <tr>\n",
       "        <td>2016-09-20 17:08:00</td>\n",
       "        <td>28</td>\n",
       "    </tr>\n",
       "    <tr>\n",
       "        <td>2015-11-02 04:22:00</td>\n",
       "        <td>28</td>\n",
       "    </tr>\n",
       "    <tr>\n",
       "        <td>2016-08-08 14:17:00</td>\n",
       "        <td>27</td>\n",
       "    </tr>\n",
       "</table>"
      ],
      "text/plain": [
       "[(datetime.datetime(2016, 2, 1, 10, 0), 86),\n",
       " (datetime.datetime(2016, 3, 31, 11, 45), 65),\n",
       " (datetime.datetime(2016, 4, 22, 19, 30), 55),\n",
       " (datetime.datetime(2016, 5, 13, 13, 30), 45),\n",
       " (datetime.datetime(2015, 8, 11, 16, 19), 39),\n",
       " (datetime.datetime(2015, 9, 10, 17, 5), 38),\n",
       " (datetime.datetime(2016, 6, 11, 5, 0), 36),\n",
       " (datetime.datetime(2016, 6, 23, 18, 53), 35),\n",
       " (datetime.datetime(2016, 2, 20, 19, 0), 34),\n",
       " (datetime.datetime(2015, 8, 16, 17, 35), 34),\n",
       " (datetime.datetime(2016, 1, 23, 19, 20), 31),\n",
       " (datetime.datetime(2015, 11, 7, 3, 19), 30),\n",
       " (datetime.datetime(2016, 6, 26, 4, 46), 30),\n",
       " (datetime.datetime(2015, 4, 17, 19, 9), 30),\n",
       " (datetime.datetime(2016, 9, 28, 13, 9), 30),\n",
       " (datetime.datetime(2016, 9, 29, 19, 15), 30),\n",
       " (datetime.datetime(2015, 4, 10, 20, 33), 28),\n",
       " (datetime.datetime(2016, 9, 20, 17, 8), 28),\n",
       " (datetime.datetime(2015, 11, 2, 4, 22), 28),\n",
       " (datetime.datetime(2016, 8, 8, 14, 17), 27)]"
      ]
     },
     "execution_count": 18,
     "metadata": {},
     "output_type": "execute_result"
    }
   ],
   "source": [
    "%%sql\n",
    "SELECT DISTINCT arrest_time, COUNT(*) as Count\n",
    "FROM pittscrime\n",
    "GROUP BY arrest_time\n",
    "ORDER BY Count DESC\n",
    "LIMIT 20;"
   ]
  },
  {
   "cell_type": "code",
   "execution_count": 19,
   "metadata": {
    "collapsed": true
   },
   "outputs": [],
   "source": [
    "import matplotlib\n",
    "%matplotlib inline"
   ]
  },
  {
   "cell_type": "code",
   "execution_count": 20,
   "metadata": {
    "collapsed": false
   },
   "outputs": [
    {
     "data": {
      "text/plain": [
       "<Container object of 20 artists>"
      ]
     },
     "execution_count": 20,
     "metadata": {},
     "output_type": "execute_result"
    },
    {
     "data": {
      "image/png": "[encoded data removed]",
      "text/plain": [
       "<matplotlib.figure.Figure at 0x7f0af3fb4cf8>"
      ]
     },
     "metadata": {},
     "output_type": "display_data"
    }
   ],
   "source": [
    "result = _\n",
    "result.bar()"
   ]
  },
  {
   "cell_type": "markdown",
   "metadata": {},
   "source": [
    "The above graph show that the top 20 time periods of crime happened. However the column includes a lot of information like year, month, day and exact time. So we'd better to separate all these information for better analysis."
   ]
  },
  {
   "cell_type": "code",
   "execution_count": 21,
   "metadata": {
    "collapsed": false
   },
   "outputs": [
    {
     "name": "stdout",
     "output_type": "stream",
     "text": [
      "Done.\n",
      "Done.\n"
     ]
    },
    {
     "data": {
      "text/plain": [
       "[]"
      ]
     },
     "execution_count": 21,
     "metadata": {},
     "output_type": "execute_result"
    }
   ],
   "source": [
    "%%sql\n",
    "DROP TABLE IF EXISTS arrest_day;\n",
    "CREATE TABLE arrest_day (\n",
    "    \n",
    "    day_of_year CHAR(10),\n",
    "    year INTEGER,\n",
    "    month INTEGER,\n",
    "    day INTEGER,\n",
    "    day_of_week_str CHAR(9),\n",
    "    day_of_week INTEGER,\n",
    "    is_weekend BOOLEAN,\n",
    "    is_weekday BOOLEAN,\n",
    "    hour_24 INTEGER,\n",
    "    quarter INTEGER\n",
    ");"
   ]
  },
  {
   "cell_type": "code",
   "execution_count": 22,
   "metadata": {
    "collapsed": false
   },
   "outputs": [
    {
     "name": "stdout",
     "output_type": "stream",
     "text": [
      "13718 rows affected.\n"
     ]
    },
    {
     "data": {
      "text/plain": [
       "[]"
      ]
     },
     "execution_count": 22,
     "metadata": {},
     "output_type": "execute_result"
    }
   ],
   "source": [
    "%%sql\n",
    "INSERT INTO arrest_day (day_of_year, year, month, day, day_of_week_str, day_of_week,\n",
    "                  is_weekend, is_weekday, hour_24, quarter)\n",
    "SELECT DISTINCT TO_CHAR(arrest_time, 'YYYY-MM-DD') AS day_of_year, \n",
    "    CAST(TO_CHAR(arrest_time, 'YYYY') AS INTEGER) AS year,\n",
    "    CAST(TO_CHAR(arrest_time, 'MM') AS INTEGER) AS month,\n",
    "    CAST(TO_CHAR(arrest_time, 'DD') AS INTEGER) AS day,\n",
    "    TO_CHAR(arrest_time, 'Day') AS day_of_week_str,\n",
    "    CAST(TO_CHAR(arrest_time, 'D') AS INTEGER) AS day_of_week,\n",
    "    CASE WHEN CAST(TO_CHAR(arrest_time, 'D') AS INTEGER) IN (1, 7) \n",
    "        THEN TRUE\n",
    "        ELSE FALSE\n",
    "    END AS is_weekend,\n",
    "    CASE WHEN CAST(TO_CHAR(arrest_time, 'D') AS INTEGER) NOT IN (1, 7) \n",
    "        THEN TRUE\n",
    "        ELSE FALSE\n",
    "    END AS is_weekday,\n",
    "    CAST(TO_CHAR(arrest_time, 'HH24') AS INTEGER) AS hour_24,\n",
    "    CAST(TO_CHAR(arrest_time, 'Q') AS INTEGER) AS quarter\n",
    "FROM pittscrime;"
   ]
  },
  {
   "cell_type": "code",
   "execution_count": 23,
   "metadata": {
    "collapsed": false
   },
   "outputs": [
    {
     "name": "stdout",
     "output_type": "stream",
     "text": [
      "10 rows affected.\n"
     ]
    },
    {
     "data": {
      "text/html": [
       "<table>\n",
       "    <tr>\n",
       "        <th>day_of_year</th>\n",
       "        <th>year</th>\n",
       "        <th>month</th>\n",
       "        <th>day</th>\n",
       "        <th>day_of_week_str</th>\n",
       "        <th>day_of_week</th>\n",
       "        <th>is_weekend</th>\n",
       "        <th>is_weekday</th>\n",
       "        <th>hour_24</th>\n",
       "        <th>quarter</th>\n",
       "    </tr>\n",
       "    <tr>\n",
       "        <td>2015-12-23</td>\n",
       "        <td>2015</td>\n",
       "        <td>12</td>\n",
       "        <td>23</td>\n",
       "        <td>Wednesday</td>\n",
       "        <td>4</td>\n",
       "        <td>False</td>\n",
       "        <td>True</td>\n",
       "        <td>14</td>\n",
       "        <td>4</td>\n",
       "    </tr>\n",
       "    <tr>\n",
       "        <td>2016-07-03</td>\n",
       "        <td>2016</td>\n",
       "        <td>7</td>\n",
       "        <td>3</td>\n",
       "        <td>Sunday   </td>\n",
       "        <td>1</td>\n",
       "        <td>True</td>\n",
       "        <td>False</td>\n",
       "        <td>9</td>\n",
       "        <td>3</td>\n",
       "    </tr>\n",
       "    <tr>\n",
       "        <td>2015-07-22</td>\n",
       "        <td>2015</td>\n",
       "        <td>7</td>\n",
       "        <td>22</td>\n",
       "        <td>Wednesday</td>\n",
       "        <td>4</td>\n",
       "        <td>False</td>\n",
       "        <td>True</td>\n",
       "        <td>12</td>\n",
       "        <td>3</td>\n",
       "    </tr>\n",
       "    <tr>\n",
       "        <td>2015-07-30</td>\n",
       "        <td>2015</td>\n",
       "        <td>7</td>\n",
       "        <td>30</td>\n",
       "        <td>Thursday </td>\n",
       "        <td>5</td>\n",
       "        <td>False</td>\n",
       "        <td>True</td>\n",
       "        <td>5</td>\n",
       "        <td>3</td>\n",
       "    </tr>\n",
       "    <tr>\n",
       "        <td>2015-08-11</td>\n",
       "        <td>2015</td>\n",
       "        <td>8</td>\n",
       "        <td>11</td>\n",
       "        <td>Tuesday  </td>\n",
       "        <td>3</td>\n",
       "        <td>False</td>\n",
       "        <td>True</td>\n",
       "        <td>23</td>\n",
       "        <td>3</td>\n",
       "    </tr>\n",
       "    <tr>\n",
       "        <td>2015-08-17</td>\n",
       "        <td>2015</td>\n",
       "        <td>8</td>\n",
       "        <td>17</td>\n",
       "        <td>Monday   </td>\n",
       "        <td>2</td>\n",
       "        <td>False</td>\n",
       "        <td>True</td>\n",
       "        <td>21</td>\n",
       "        <td>3</td>\n",
       "    </tr>\n",
       "    <tr>\n",
       "        <td>2015-09-04</td>\n",
       "        <td>2015</td>\n",
       "        <td>9</td>\n",
       "        <td>4</td>\n",
       "        <td>Friday   </td>\n",
       "        <td>6</td>\n",
       "        <td>False</td>\n",
       "        <td>True</td>\n",
       "        <td>9</td>\n",
       "        <td>3</td>\n",
       "    </tr>\n",
       "    <tr>\n",
       "        <td>2016-07-01</td>\n",
       "        <td>2016</td>\n",
       "        <td>7</td>\n",
       "        <td>1</td>\n",
       "        <td>Friday   </td>\n",
       "        <td>6</td>\n",
       "        <td>False</td>\n",
       "        <td>True</td>\n",
       "        <td>21</td>\n",
       "        <td>3</td>\n",
       "    </tr>\n",
       "    <tr>\n",
       "        <td>2015-06-24</td>\n",
       "        <td>2015</td>\n",
       "        <td>6</td>\n",
       "        <td>24</td>\n",
       "        <td>Wednesday</td>\n",
       "        <td>4</td>\n",
       "        <td>False</td>\n",
       "        <td>True</td>\n",
       "        <td>23</td>\n",
       "        <td>2</td>\n",
       "    </tr>\n",
       "    <tr>\n",
       "        <td>2015-10-21</td>\n",
       "        <td>2015</td>\n",
       "        <td>10</td>\n",
       "        <td>21</td>\n",
       "        <td>Wednesday</td>\n",
       "        <td>4</td>\n",
       "        <td>False</td>\n",
       "        <td>True</td>\n",
       "        <td>9</td>\n",
       "        <td>4</td>\n",
       "    </tr>\n",
       "</table>"
      ],
      "text/plain": [
       "[('2015-12-23', 2015, 12, 23, 'Wednesday', 4, False, True, 14, 4),\n",
       " ('2016-07-03', 2016, 7, 3, 'Sunday   ', 1, True, False, 9, 3),\n",
       " ('2015-07-22', 2015, 7, 22, 'Wednesday', 4, False, True, 12, 3),\n",
       " ('2015-07-30', 2015, 7, 30, 'Thursday ', 5, False, True, 5, 3),\n",
       " ('2015-08-11', 2015, 8, 11, 'Tuesday  ', 3, False, True, 23, 3),\n",
       " ('2015-08-17', 2015, 8, 17, 'Monday   ', 2, False, True, 21, 3),\n",
       " ('2015-09-04', 2015, 9, 4, 'Friday   ', 6, False, True, 9, 3),\n",
       " ('2016-07-01', 2016, 7, 1, 'Friday   ', 6, False, True, 21, 3),\n",
       " ('2015-06-24', 2015, 6, 24, 'Wednesday', 4, False, True, 23, 2),\n",
       " ('2015-10-21', 2015, 10, 21, 'Wednesday', 4, False, True, 9, 4)]"
      ]
     },
     "execution_count": 23,
     "metadata": {},
     "output_type": "execute_result"
    }
   ],
   "source": [
    "%%sql\n",
    "SELECT * FROM arrest_day\n",
    "LIMIT 10;"
   ]
  },
  {
   "cell_type": "markdown",
   "metadata": {},
   "source": [
    "The above table separates the information included in the \"arrest_time\" column from tabble \"pittscrime\" into a new table called \"days\". We could clearly see the detailed information on the time on each of the crime happened."
   ]
  },
  {
   "cell_type": "markdown",
   "metadata": {},
   "source": [
    "## Problem 3 - define a star schema, and load your data into it (30 points)\n",
    "\n",
    "Define a star schema consisting of at least one fact table and at least two dimensions.  Transform your source data into the new fact table and dimensions.  Discuss your key modeling decisions.\n",
    "\n",
    "Document your star schema with a diagram.  There several tools available for this, such as Google Docs and Microsoft Visio."
   ]
  },
  {
   "cell_type": "markdown",
   "metadata": {},
   "source": [
    "We create three dimension tables, which are report_dim,location_dim and arrest_day respectively. The report_dim table includes report_dim_id, report_name, ccr, section, description. The location_dim table contains location_dim_id, neighborhood, zone and address.\n",
    "The arrest_day dimension table includes arrestday_dim_id, day_of_year, year, month, day, day_of_week_str, day_of_week, is_weekend, is_weekday, hour_24, quarter. Finally, the pittscrime_fact table includes location_dim_id, report_dim_id, report_name, ccr, section, description, neighborhood, zone, arrest_time."
   ]
  },
  {
   "cell_type": "code",
   "execution_count": 24,
   "metadata": {
    "collapsed": false
   },
   "outputs": [
    {
     "name": "stdout",
     "output_type": "stream",
     "text": [
      "/home/jovyan/work\r\n"
     ]
    }
   ],
   "source": [
    "!pwd"
   ]
  },
  {
   "cell_type": "code",
   "execution_count": 25,
   "metadata": {
    "collapsed": true
   },
   "outputs": [],
   "source": [
    "from IPython.display import Image\n",
    "PATH = \"/home/jovyan/work/\""
   ]
  },
  {
   "cell_type": "code",
   "execution_count": 27,
   "metadata": {
    "collapsed": false
   },
   "outputs": [
    {
     "data": {
      "image/png": "[encoded data removed]",
      "text/plain": [
       "<IPython.core.display.Image object>"
      ]
     },
     "execution_count": 27,
     "metadata": {
      "image/png": {
       "height": 1000,
       "width": 1000
      }
     },
     "output_type": "execute_result"
    }
   ],
   "source": [
    "Image(filename = PATH + \"starschema.png\", width=1000, height=1000)"
   ]
  },
  {
   "cell_type": "markdown",
   "metadata": {},
   "source": [
    "Add primary key to table \"arrest_day\" to create the first dimension table \"arrest_day\"."
   ]
  },
  {
   "cell_type": "code",
   "execution_count": 26,
   "metadata": {
    "collapsed": false
   },
   "outputs": [
    {
     "name": "stdout",
     "output_type": "stream",
     "text": [
      "Done.\n"
     ]
    },
    {
     "data": {
      "text/plain": [
       "[]"
      ]
     },
     "execution_count": 26,
     "metadata": {},
     "output_type": "execute_result"
    }
   ],
   "source": [
    "%%sql\n",
    "ALTER TABLE arrest_day\n",
    "ADD COLUMN arrestday_dim_id SERIAL PRIMARY KEY NOT NULL;"
   ]
  },
  {
   "cell_type": "code",
   "execution_count": 27,
   "metadata": {
    "collapsed": false
   },
   "outputs": [
    {
     "name": "stdout",
     "output_type": "stream",
     "text": [
      "10 rows affected.\n"
     ]
    },
    {
     "data": {
      "text/html": [
       "<table>\n",
       "    <tr>\n",
       "        <th>day_of_year</th>\n",
       "        <th>year</th>\n",
       "        <th>month</th>\n",
       "        <th>day</th>\n",
       "        <th>day_of_week_str</th>\n",
       "        <th>day_of_week</th>\n",
       "        <th>is_weekend</th>\n",
       "        <th>is_weekday</th>\n",
       "        <th>hour_24</th>\n",
       "        <th>quarter</th>\n",
       "        <th>arrestday_dim_id</th>\n",
       "    </tr>\n",
       "    <tr>\n",
       "        <td>2015-12-23</td>\n",
       "        <td>2015</td>\n",
       "        <td>12</td>\n",
       "        <td>23</td>\n",
       "        <td>Wednesday</td>\n",
       "        <td>4</td>\n",
       "        <td>False</td>\n",
       "        <td>True</td>\n",
       "        <td>14</td>\n",
       "        <td>4</td>\n",
       "        <td>1</td>\n",
       "    </tr>\n",
       "    <tr>\n",
       "        <td>2016-07-03</td>\n",
       "        <td>2016</td>\n",
       "        <td>7</td>\n",
       "        <td>3</td>\n",
       "        <td>Sunday   </td>\n",
       "        <td>1</td>\n",
       "        <td>True</td>\n",
       "        <td>False</td>\n",
       "        <td>9</td>\n",
       "        <td>3</td>\n",
       "        <td>2</td>\n",
       "    </tr>\n",
       "    <tr>\n",
       "        <td>2015-07-22</td>\n",
       "        <td>2015</td>\n",
       "        <td>7</td>\n",
       "        <td>22</td>\n",
       "        <td>Wednesday</td>\n",
       "        <td>4</td>\n",
       "        <td>False</td>\n",
       "        <td>True</td>\n",
       "        <td>12</td>\n",
       "        <td>3</td>\n",
       "        <td>3</td>\n",
       "    </tr>\n",
       "    <tr>\n",
       "        <td>2015-07-30</td>\n",
       "        <td>2015</td>\n",
       "        <td>7</td>\n",
       "        <td>30</td>\n",
       "        <td>Thursday </td>\n",
       "        <td>5</td>\n",
       "        <td>False</td>\n",
       "        <td>True</td>\n",
       "        <td>5</td>\n",
       "        <td>3</td>\n",
       "        <td>4</td>\n",
       "    </tr>\n",
       "    <tr>\n",
       "        <td>2015-08-11</td>\n",
       "        <td>2015</td>\n",
       "        <td>8</td>\n",
       "        <td>11</td>\n",
       "        <td>Tuesday  </td>\n",
       "        <td>3</td>\n",
       "        <td>False</td>\n",
       "        <td>True</td>\n",
       "        <td>23</td>\n",
       "        <td>3</td>\n",
       "        <td>5</td>\n",
       "    </tr>\n",
       "    <tr>\n",
       "        <td>2015-08-17</td>\n",
       "        <td>2015</td>\n",
       "        <td>8</td>\n",
       "        <td>17</td>\n",
       "        <td>Monday   </td>\n",
       "        <td>2</td>\n",
       "        <td>False</td>\n",
       "        <td>True</td>\n",
       "        <td>21</td>\n",
       "        <td>3</td>\n",
       "        <td>6</td>\n",
       "    </tr>\n",
       "    <tr>\n",
       "        <td>2015-09-04</td>\n",
       "        <td>2015</td>\n",
       "        <td>9</td>\n",
       "        <td>4</td>\n",
       "        <td>Friday   </td>\n",
       "        <td>6</td>\n",
       "        <td>False</td>\n",
       "        <td>True</td>\n",
       "        <td>9</td>\n",
       "        <td>3</td>\n",
       "        <td>7</td>\n",
       "    </tr>\n",
       "    <tr>\n",
       "        <td>2016-07-01</td>\n",
       "        <td>2016</td>\n",
       "        <td>7</td>\n",
       "        <td>1</td>\n",
       "        <td>Friday   </td>\n",
       "        <td>6</td>\n",
       "        <td>False</td>\n",
       "        <td>True</td>\n",
       "        <td>21</td>\n",
       "        <td>3</td>\n",
       "        <td>8</td>\n",
       "    </tr>\n",
       "    <tr>\n",
       "        <td>2015-06-24</td>\n",
       "        <td>2015</td>\n",
       "        <td>6</td>\n",
       "        <td>24</td>\n",
       "        <td>Wednesday</td>\n",
       "        <td>4</td>\n",
       "        <td>False</td>\n",
       "        <td>True</td>\n",
       "        <td>23</td>\n",
       "        <td>2</td>\n",
       "        <td>9</td>\n",
       "    </tr>\n",
       "    <tr>\n",
       "        <td>2015-10-21</td>\n",
       "        <td>2015</td>\n",
       "        <td>10</td>\n",
       "        <td>21</td>\n",
       "        <td>Wednesday</td>\n",
       "        <td>4</td>\n",
       "        <td>False</td>\n",
       "        <td>True</td>\n",
       "        <td>9</td>\n",
       "        <td>4</td>\n",
       "        <td>10</td>\n",
       "    </tr>\n",
       "</table>"
      ],
      "text/plain": [
       "[('2015-12-23', 2015, 12, 23, 'Wednesday', 4, False, True, 14, 4, 1),\n",
       " ('2016-07-03', 2016, 7, 3, 'Sunday   ', 1, True, False, 9, 3, 2),\n",
       " ('2015-07-22', 2015, 7, 22, 'Wednesday', 4, False, True, 12, 3, 3),\n",
       " ('2015-07-30', 2015, 7, 30, 'Thursday ', 5, False, True, 5, 3, 4),\n",
       " ('2015-08-11', 2015, 8, 11, 'Tuesday  ', 3, False, True, 23, 3, 5),\n",
       " ('2015-08-17', 2015, 8, 17, 'Monday   ', 2, False, True, 21, 3, 6),\n",
       " ('2015-09-04', 2015, 9, 4, 'Friday   ', 6, False, True, 9, 3, 7),\n",
       " ('2016-07-01', 2016, 7, 1, 'Friday   ', 6, False, True, 21, 3, 8),\n",
       " ('2015-06-24', 2015, 6, 24, 'Wednesday', 4, False, True, 23, 2, 9),\n",
       " ('2015-10-21', 2015, 10, 21, 'Wednesday', 4, False, True, 9, 4, 10)]"
      ]
     },
     "execution_count": 27,
     "metadata": {},
     "output_type": "execute_result"
    }
   ],
   "source": [
    "%%sql\n",
    "SELECT *\n",
    "FROM arrest_day\n",
    "LIMIT 10"
   ]
  },
  {
   "cell_type": "markdown",
   "metadata": {},
   "source": [
    "This step is to create a location dimension."
   ]
  },
  {
   "cell_type": "code",
   "execution_count": 28,
   "metadata": {
    "collapsed": false
   },
   "outputs": [
    {
     "name": "stdout",
     "output_type": "stream",
     "text": [
      "Done.\n",
      "Done.\n"
     ]
    },
    {
     "data": {
      "text/plain": [
       "[]"
      ]
     },
     "execution_count": 28,
     "metadata": {},
     "output_type": "execute_result"
    }
   ],
   "source": [
    "%%sql\n",
    "DROP TABLE IF EXISTS location_dim;\n",
    "CREATE TABLE location_dim (\n",
    "  location_dim_id SERIAL PRIMARY KEY,\n",
    "  address VARCHAR(53) DEFAULT NULL, \n",
    "  neighborhood VARCHAR(27) DEFAULT NULL,\n",
    "  zone INTEGER DEFAULT NULL  \n",
    ");"
   ]
  },
  {
   "cell_type": "code",
   "execution_count": 29,
   "metadata": {
    "collapsed": false
   },
   "outputs": [
    {
     "name": "stdout",
     "output_type": "stream",
     "text": [
      "117717 rows affected.\n"
     ]
    },
    {
     "data": {
      "text/plain": [
       "[]"
      ]
     },
     "execution_count": 29,
     "metadata": {},
     "output_type": "execute_result"
    }
   ],
   "source": [
    "%%sql\n",
    "INSERT INTO location_dim (address,neighborhood,zone)\n",
    "SELECT ADDRESS,NEIGHBORHOOD,ZONE \n",
    "from pittscrime\n",
    ";"
   ]
  },
  {
   "cell_type": "code",
   "execution_count": 30,
   "metadata": {
    "collapsed": false
   },
   "outputs": [
    {
     "name": "stdout",
     "output_type": "stream",
     "text": [
      "10 rows affected.\n"
     ]
    },
    {
     "data": {
      "text/html": [
       "<table>\n",
       "    <tr>\n",
       "        <th>location_dim_id</th>\n",
       "        <th>address</th>\n",
       "        <th>neighborhood</th>\n",
       "        <th>zone</th>\n",
       "    </tr>\n",
       "    <tr>\n",
       "        <td>1</td>\n",
       "        <td>400 block East Commons</td>\n",
       "        <td>Allegheny Center</td>\n",
       "        <td>1</td>\n",
       "    </tr>\n",
       "    <tr>\n",
       "        <td>2</td>\n",
       "        <td>400 block East Commons</td>\n",
       "        <td>Allegheny Center</td>\n",
       "        <td>1</td>\n",
       "    </tr>\n",
       "    <tr>\n",
       "        <td>3</td>\n",
       "        <td>400 block East Commons</td>\n",
       "        <td>Allegheny Center</td>\n",
       "        <td>1</td>\n",
       "    </tr>\n",
       "    <tr>\n",
       "        <td>4</td>\n",
       "        <td>27th St</td>\n",
       "        <td>Strip District</td>\n",
       "        <td>2</td>\n",
       "    </tr>\n",
       "    <tr>\n",
       "        <td>5</td>\n",
       "        <td>1900 block 5th Ave</td>\n",
       "        <td>Bluff</td>\n",
       "        <td>2</td>\n",
       "    </tr>\n",
       "    <tr>\n",
       "        <td>6</td>\n",
       "        <td>100 block Burrows St</td>\n",
       "        <td>Terrace Village</td>\n",
       "        <td>2</td>\n",
       "    </tr>\n",
       "    <tr>\n",
       "        <td>7</td>\n",
       "        <td>2200 block Centre Ave</td>\n",
       "        <td>Middle Hill</td>\n",
       "        <td>2</td>\n",
       "    </tr>\n",
       "    <tr>\n",
       "        <td>8</td>\n",
       "        <td>1800 block Centre Ave</td>\n",
       "        <td>Crawford-Roberts</td>\n",
       "        <td>2</td>\n",
       "    </tr>\n",
       "    <tr>\n",
       "        <td>9</td>\n",
       "        <td>1800 block Centre Ave</td>\n",
       "        <td>Crawford-Roberts</td>\n",
       "        <td>2</td>\n",
       "    </tr>\n",
       "    <tr>\n",
       "        <td>10</td>\n",
       "        <td>1800 block Centre Ave</td>\n",
       "        <td>Crawford-Roberts</td>\n",
       "        <td>2</td>\n",
       "    </tr>\n",
       "</table>"
      ],
      "text/plain": [
       "[(1, '400 block East Commons', 'Allegheny Center', 1),\n",
       " (2, '400 block East Commons', 'Allegheny Center', 1),\n",
       " (3, '400 block East Commons', 'Allegheny Center', 1),\n",
       " (4, '27th St', 'Strip District', 2),\n",
       " (5, '1900 block 5th Ave', 'Bluff', 2),\n",
       " (6, '100 block Burrows St', 'Terrace Village', 2),\n",
       " (7, '2200 block Centre Ave', 'Middle Hill', 2),\n",
       " (8, '1800 block Centre Ave', 'Crawford-Roberts', 2),\n",
       " (9, '1800 block Centre Ave', 'Crawford-Roberts', 2),\n",
       " (10, '1800 block Centre Ave', 'Crawford-Roberts', 2)]"
      ]
     },
     "execution_count": 30,
     "metadata": {},
     "output_type": "execute_result"
    }
   ],
   "source": [
    "%%sql\n",
    "SELECT *\n",
    "FROM location_dim\n",
    "LIMIT 10;"
   ]
  },
  {
   "cell_type": "markdown",
   "metadata": {},
   "source": [
    "This step is to create a location dimension."
   ]
  },
  {
   "cell_type": "code",
   "execution_count": 31,
   "metadata": {
    "collapsed": false
   },
   "outputs": [
    {
     "name": "stdout",
     "output_type": "stream",
     "text": [
      "Done.\n",
      "Done.\n"
     ]
    },
    {
     "data": {
      "text/plain": [
       "[]"
      ]
     },
     "execution_count": 31,
     "metadata": {},
     "output_type": "execute_result"
    }
   ],
   "source": [
    "%%sql\n",
    "DROP TABLE IF EXISTS report_dim;\n",
    "CREATE TABLE report_dim (\n",
    "  report_dim_id SERIAL PRIMARY KEY,\n",
    "  report_name VARCHAR(11) DEFAULT NULL,\n",
    "  ccr INTEGER DEFAULT NULL,\n",
    "  section VARCHAR(19) DEFAULT NULL,\n",
    "  description VARCHAR(128) DEFAULT NULL\n",
    ");"
   ]
  },
  {
   "cell_type": "code",
   "execution_count": 32,
   "metadata": {
    "collapsed": false
   },
   "outputs": [
    {
     "name": "stdout",
     "output_type": "stream",
     "text": [
      "117717 rows affected.\n"
     ]
    },
    {
     "data": {
      "text/plain": [
       "[]"
      ]
     },
     "execution_count": 32,
     "metadata": {},
     "output_type": "execute_result"
    }
   ],
   "source": [
    "%%sql\n",
    "INSERT INTO report_dim (report_name, ccr, section,description)\n",
    "SELECT \n",
    "    REPORT_NAME, \n",
    "    CCR,\n",
    "    SECTION,\n",
    "    DESCRIPTION\n",
    "from pittscrime\n",
    ";"
   ]
  },
  {
   "cell_type": "code",
   "execution_count": 33,
   "metadata": {
    "collapsed": false
   },
   "outputs": [
    {
     "name": "stdout",
     "output_type": "stream",
     "text": [
      "10 rows affected.\n"
     ]
    },
    {
     "data": {
      "text/html": [
       "<table>\n",
       "    <tr>\n",
       "        <th>report_dim_id</th>\n",
       "        <th>report_name</th>\n",
       "        <th>ccr</th>\n",
       "        <th>section</th>\n",
       "        <th>description</th>\n",
       "    </tr>\n",
       "    <tr>\n",
       "        <td>1</td>\n",
       "        <td>OFFENSE 2.0</td>\n",
       "        <td>15158500</td>\n",
       "        <td>903</td>\n",
       "        <td>Criminal Conspiracy.</td>\n",
       "    </tr>\n",
       "    <tr>\n",
       "        <td>2</td>\n",
       "        <td>OFFENSE 2.0</td>\n",
       "        <td>15158500</td>\n",
       "        <td>6106</td>\n",
       "        <td>Firearms not to be Carried without a License.</td>\n",
       "    </tr>\n",
       "    <tr>\n",
       "        <td>3</td>\n",
       "        <td>OFFENSE 2.0</td>\n",
       "        <td>15158500</td>\n",
       "        <td>3925</td>\n",
       "        <td>Receiving Stolen Property.</td>\n",
       "    </tr>\n",
       "    <tr>\n",
       "        <td>4</td>\n",
       "        <td>OFFENSE 2.0</td>\n",
       "        <td>15157796</td>\n",
       "        <td>3502</td>\n",
       "        <td>Burglary.</td>\n",
       "    </tr>\n",
       "    <tr>\n",
       "        <td>5</td>\n",
       "        <td>OFFENSE 2.0</td>\n",
       "        <td>15157919</td>\n",
       "        <td>2702</td>\n",
       "        <td>Aggravated Assault.</td>\n",
       "    </tr>\n",
       "    <tr>\n",
       "        <td>6</td>\n",
       "        <td>OFFENSE 2.0</td>\n",
       "        <td>15157997</td>\n",
       "        <td>9999</td>\n",
       "        <td>9999 - (Misc. Incident): </td>\n",
       "    </tr>\n",
       "    <tr>\n",
       "        <td>7</td>\n",
       "        <td>OFFENSE 2.0</td>\n",
       "        <td>15158116</td>\n",
       "        <td>3304</td>\n",
       "        <td>Criminal Mischief.</td>\n",
       "    </tr>\n",
       "    <tr>\n",
       "        <td>8</td>\n",
       "        <td>OFFENSE 2.0</td>\n",
       "        <td>15158026</td>\n",
       "        <td>3928</td>\n",
       "        <td>Unauthorized Use of Automobile and Other Vehicles.</td>\n",
       "    </tr>\n",
       "    <tr>\n",
       "        <td>9</td>\n",
       "        <td>ARREST</td>\n",
       "        <td>15158026</td>\n",
       "        <td>3928</td>\n",
       "        <td>Unauthorized Use of Automobile and Other Vehicles.</td>\n",
       "    </tr>\n",
       "    <tr>\n",
       "        <td>10</td>\n",
       "        <td>ARREST</td>\n",
       "        <td>15158026</td>\n",
       "        <td>9093</td>\n",
       "        <td>Indirect Criminal Contempt</td>\n",
       "    </tr>\n",
       "</table>"
      ],
      "text/plain": [
       "[(1, 'OFFENSE 2.0', 15158500, '903', 'Criminal Conspiracy.'),\n",
       " (2, 'OFFENSE 2.0', 15158500, '6106', 'Firearms not to be Carried without a License.'),\n",
       " (3, 'OFFENSE 2.0', 15158500, '3925', 'Receiving Stolen Property.'),\n",
       " (4, 'OFFENSE 2.0', 15157796, '3502', 'Burglary.'),\n",
       " (5, 'OFFENSE 2.0', 15157919, '2702', 'Aggravated Assault.'),\n",
       " (6, 'OFFENSE 2.0', 15157997, '9999', '9999 - (Misc. Incident): '),\n",
       " (7, 'OFFENSE 2.0', 15158116, '3304', 'Criminal Mischief.'),\n",
       " (8, 'OFFENSE 2.0', 15158026, '3928', 'Unauthorized Use of Automobile and Other Vehicles.'),\n",
       " (9, 'ARREST', 15158026, '3928', 'Unauthorized Use of Automobile and Other Vehicles.'),\n",
       " (10, 'ARREST', 15158026, '9093', 'Indirect Criminal Contempt')]"
      ]
     },
     "execution_count": 33,
     "metadata": {},
     "output_type": "execute_result"
    }
   ],
   "source": [
    "%%sql\n",
    "SELECT *\n",
    "FROM report_dim\n",
    "LIMIT 10;"
   ]
  },
  {
   "cell_type": "code",
   "execution_count": 34,
   "metadata": {
    "collapsed": false
   },
   "outputs": [
    {
     "name": "stdout",
     "output_type": "stream",
     "text": [
      "Done.\n",
      "Done.\n"
     ]
    },
    {
     "data": {
      "text/plain": [
       "[]"
      ]
     },
     "execution_count": 34,
     "metadata": {},
     "output_type": "execute_result"
    }
   ],
   "source": [
    "%%sql\n",
    "DROP TABLE IF EXISTS pittscrime_fact;\n",
    "CREATE TABLE pittscrime_fact (\n",
    "  location_dim_id SERIAL NOT NULL,\n",
    "  report_dim_id SERIAL NOT NULL,\n",
    "  arrestday_dim_id SERIAL NOT NULL,\n",
    "    \n",
    "  report_name VARCHAR(11) ,\n",
    "  ccr INTEGER,\n",
    "  section VARCHAR(19),\n",
    "  neighborhood VARCHAR(27),\n",
    "  zone INTEGER,\n",
    "  arrest_time TIMESTAMP\n",
    ");"
   ]
  },
  {
   "cell_type": "code",
   "execution_count": 35,
   "metadata": {
    "collapsed": false
   },
   "outputs": [
    {
     "name": "stdout",
     "output_type": "stream",
     "text": [
      "117717 rows affected.\n"
     ]
    },
    {
     "data": {
      "text/plain": [
       "[]"
      ]
     },
     "execution_count": 35,
     "metadata": {},
     "output_type": "execute_result"
    }
   ],
   "source": [
    "%%sql\n",
    "INSERT INTO pittscrime_fact (report_name,ccr,section,neighborhood,zone,arrest_time)\n",
    "SELECT report_name,ccr,section,neighborhood,zone,arrest_time\n",
    "FROM pittscrime\n",
    ";"
   ]
  },
  {
   "cell_type": "code",
   "execution_count": 36,
   "metadata": {
    "collapsed": false
   },
   "outputs": [
    {
     "name": "stdout",
     "output_type": "stream",
     "text": [
      "13718 rows affected.\n"
     ]
    },
    {
     "data": {
      "text/plain": [
       "[]"
      ]
     },
     "execution_count": 36,
     "metadata": {},
     "output_type": "execute_result"
    }
   ],
   "source": [
    "%%sql\n",
    "INSERT INTO pittscrime_fact (arrestday_dim_id)\n",
    "SELECT arrestday_dim_id\n",
    "FROM arrest_day\n",
    ";"
   ]
  },
  {
   "cell_type": "code",
   "execution_count": 37,
   "metadata": {
    "collapsed": false
   },
   "outputs": [
    {
     "name": "stdout",
     "output_type": "stream",
     "text": [
      "117717 rows affected.\n"
     ]
    },
    {
     "data": {
      "text/plain": [
       "[]"
      ]
     },
     "execution_count": 37,
     "metadata": {},
     "output_type": "execute_result"
    }
   ],
   "source": [
    "%%sql\n",
    "INSERT INTO pittscrime_fact (location_dim_id)\n",
    "SELECT location_dim_id\n",
    "FROM location_dim\n",
    ";"
   ]
  },
  {
   "cell_type": "code",
   "execution_count": 39,
   "metadata": {
    "collapsed": false
   },
   "outputs": [
    {
     "name": "stdout",
     "output_type": "stream",
     "text": [
      "117717 rows affected.\n"
     ]
    },
    {
     "data": {
      "text/plain": [
       "[]"
      ]
     },
     "execution_count": 39,
     "metadata": {},
     "output_type": "execute_result"
    }
   ],
   "source": [
    "%%sql\n",
    "INSERT INTO pittscrime_fact (report_dim_id)\n",
    "SELECT report_dim_id\n",
    "FROM report_dim\n",
    ";"
   ]
  },
  {
   "cell_type": "code",
   "execution_count": 40,
   "metadata": {
    "collapsed": false
   },
   "outputs": [
    {
     "name": "stdout",
     "output_type": "stream",
     "text": [
      "409992 rows affected.\n",
      "366869 rows affected.\n",
      "366869 rows affected.\n",
      "366870 rows affected.\n",
      "367413 rows affected.\n"
     ]
    },
    {
     "data": {
      "text/plain": [
       "[]"
      ]
     },
     "execution_count": 40,
     "metadata": {},
     "output_type": "execute_result"
    }
   ],
   "source": [
    "%%sql\n",
    "UPDATE pittscrime_fact SET report_name = 'Null' where report_name is null;\n",
    "UPDATE pittscrime_fact SET ccr = -888 where ccr is null;\n",
    "UPDATE pittscrime_fact SET section = -888 where section is null;\n",
    "UPDATE pittscrime_fact SET neighborhood = 'Null' where neighborhood is null;\n",
    "UPDATE pittscrime_fact SET zone = -888 where zone is null;"
   ]
  },
  {
   "cell_type": "code",
   "execution_count": 41,
   "metadata": {
    "collapsed": false
   },
   "outputs": [
    {
     "name": "stdout",
     "output_type": "stream",
     "text": [
      "20 rows affected.\n"
     ]
    },
    {
     "data": {
      "text/html": [
       "<table>\n",
       "    <tr>\n",
       "        <th>location_dim_id</th>\n",
       "        <th>report_dim_id</th>\n",
       "        <th>arrestday_dim_id</th>\n",
       "        <th>report_name</th>\n",
       "        <th>ccr</th>\n",
       "        <th>section</th>\n",
       "        <th>neighborhood</th>\n",
       "        <th>zone</th>\n",
       "        <th>arrest_time</th>\n",
       "    </tr>\n",
       "    <tr>\n",
       "        <td>1</td>\n",
       "        <td>1</td>\n",
       "        <td>1</td>\n",
       "        <td>OFFENSE 2.0</td>\n",
       "        <td>15158500</td>\n",
       "        <td>903</td>\n",
       "        <td>Allegheny Center</td>\n",
       "        <td>1</td>\n",
       "        <td>2015-08-22 23:59:00</td>\n",
       "    </tr>\n",
       "    <tr>\n",
       "        <td>2</td>\n",
       "        <td>2</td>\n",
       "        <td>2</td>\n",
       "        <td>OFFENSE 2.0</td>\n",
       "        <td>15158500</td>\n",
       "        <td>6106</td>\n",
       "        <td>Allegheny Center</td>\n",
       "        <td>1</td>\n",
       "        <td>2015-08-22 23:59:00</td>\n",
       "    </tr>\n",
       "    <tr>\n",
       "        <td>3</td>\n",
       "        <td>3</td>\n",
       "        <td>3</td>\n",
       "        <td>OFFENSE 2.0</td>\n",
       "        <td>15158500</td>\n",
       "        <td>3925</td>\n",
       "        <td>Allegheny Center</td>\n",
       "        <td>1</td>\n",
       "        <td>2015-08-22 23:59:00</td>\n",
       "    </tr>\n",
       "    <tr>\n",
       "        <td>4</td>\n",
       "        <td>4</td>\n",
       "        <td>4</td>\n",
       "        <td>OFFENSE 2.0</td>\n",
       "        <td>15157796</td>\n",
       "        <td>3502</td>\n",
       "        <td>Strip District</td>\n",
       "        <td>2</td>\n",
       "        <td>2015-08-22 01:45:00</td>\n",
       "    </tr>\n",
       "    <tr>\n",
       "        <td>5</td>\n",
       "        <td>5</td>\n",
       "        <td>5</td>\n",
       "        <td>OFFENSE 2.0</td>\n",
       "        <td>15157919</td>\n",
       "        <td>2702</td>\n",
       "        <td>Bluff</td>\n",
       "        <td>2</td>\n",
       "        <td>2015-08-22 06:00:00</td>\n",
       "    </tr>\n",
       "    <tr>\n",
       "        <td>6</td>\n",
       "        <td>6</td>\n",
       "        <td>6</td>\n",
       "        <td>OFFENSE 2.0</td>\n",
       "        <td>15157997</td>\n",
       "        <td>9999</td>\n",
       "        <td>Terrace Village</td>\n",
       "        <td>2</td>\n",
       "        <td>2015-08-22 10:15:00</td>\n",
       "    </tr>\n",
       "    <tr>\n",
       "        <td>7</td>\n",
       "        <td>7</td>\n",
       "        <td>7</td>\n",
       "        <td>OFFENSE 2.0</td>\n",
       "        <td>15158116</td>\n",
       "        <td>3304</td>\n",
       "        <td>Middle Hill</td>\n",
       "        <td>2</td>\n",
       "        <td>2015-08-22 11:00:00</td>\n",
       "    </tr>\n",
       "    <tr>\n",
       "        <td>8</td>\n",
       "        <td>8</td>\n",
       "        <td>8</td>\n",
       "        <td>OFFENSE 2.0</td>\n",
       "        <td>15158026</td>\n",
       "        <td>3928</td>\n",
       "        <td>Crawford-Roberts</td>\n",
       "        <td>2</td>\n",
       "        <td>2015-08-22 11:11:00</td>\n",
       "    </tr>\n",
       "    <tr>\n",
       "        <td>9</td>\n",
       "        <td>9</td>\n",
       "        <td>9</td>\n",
       "        <td>ARREST</td>\n",
       "        <td>15158026</td>\n",
       "        <td>3928</td>\n",
       "        <td>Crawford-Roberts</td>\n",
       "        <td>2</td>\n",
       "        <td>2015-08-22 11:15:00</td>\n",
       "    </tr>\n",
       "    <tr>\n",
       "        <td>10</td>\n",
       "        <td>10</td>\n",
       "        <td>10</td>\n",
       "        <td>ARREST</td>\n",
       "        <td>15158026</td>\n",
       "        <td>9093</td>\n",
       "        <td>Crawford-Roberts</td>\n",
       "        <td>2</td>\n",
       "        <td>2015-08-22 11:15:00</td>\n",
       "    </tr>\n",
       "    <tr>\n",
       "        <td>11</td>\n",
       "        <td>11</td>\n",
       "        <td>11</td>\n",
       "        <td>ARREST</td>\n",
       "        <td>15158026</td>\n",
       "        <td>9501</td>\n",
       "        <td>Crawford-Roberts</td>\n",
       "        <td>2</td>\n",
       "        <td>2015-08-22 11:15:00</td>\n",
       "    </tr>\n",
       "    <tr>\n",
       "        <td>12</td>\n",
       "        <td>12</td>\n",
       "        <td>12</td>\n",
       "        <td>OFFENSE 2.0</td>\n",
       "        <td>15158108</td>\n",
       "        <td>3921</td>\n",
       "        <td>Golden Triangle/Civic Arena</td>\n",
       "        <td>2</td>\n",
       "        <td>2015-08-22 12:05:00</td>\n",
       "    </tr>\n",
       "    <tr>\n",
       "        <td>13</td>\n",
       "        <td>13</td>\n",
       "        <td>13</td>\n",
       "        <td>OFFENSE 2.0</td>\n",
       "        <td>15158223</td>\n",
       "        <td>903</td>\n",
       "        <td>Strip District</td>\n",
       "        <td>2</td>\n",
       "        <td>2015-08-22 16:56:00</td>\n",
       "    </tr>\n",
       "    <tr>\n",
       "        <td>14</td>\n",
       "        <td>14</td>\n",
       "        <td>14</td>\n",
       "        <td>OFFENSE 2.0</td>\n",
       "        <td>15158223</td>\n",
       "        <td>1543</td>\n",
       "        <td>Strip District</td>\n",
       "        <td>2</td>\n",
       "        <td>2015-08-22 16:56:00</td>\n",
       "    </tr>\n",
       "    <tr>\n",
       "        <td>15</td>\n",
       "        <td>15</td>\n",
       "        <td>15</td>\n",
       "        <td>OFFENSE 2.0</td>\n",
       "        <td>15158223</td>\n",
       "        <td>1332</td>\n",
       "        <td>Strip District</td>\n",
       "        <td>2</td>\n",
       "        <td>2015-08-22 16:56:00</td>\n",
       "    </tr>\n",
       "    <tr>\n",
       "        <td>16</td>\n",
       "        <td>16</td>\n",
       "        <td>16</td>\n",
       "        <td>OFFENSE 2.0</td>\n",
       "        <td>15158223</td>\n",
       "        <td>13(a)(30)</td>\n",
       "        <td>Strip District</td>\n",
       "        <td>2</td>\n",
       "        <td>2015-08-22 16:56:00</td>\n",
       "    </tr>\n",
       "    <tr>\n",
       "        <td>17</td>\n",
       "        <td>17</td>\n",
       "        <td>17</td>\n",
       "        <td>OFFENSE 2.0</td>\n",
       "        <td>15158223</td>\n",
       "        <td>13(a)(16)</td>\n",
       "        <td>Strip District</td>\n",
       "        <td>2</td>\n",
       "        <td>2015-08-22 16:56:00</td>\n",
       "    </tr>\n",
       "    <tr>\n",
       "        <td>18</td>\n",
       "        <td>18</td>\n",
       "        <td>18</td>\n",
       "        <td>ARREST</td>\n",
       "        <td>15158223</td>\n",
       "        <td>1543</td>\n",
       "        <td>Strip District</td>\n",
       "        <td>2</td>\n",
       "        <td>2015-08-22 16:56:00</td>\n",
       "    </tr>\n",
       "    <tr>\n",
       "        <td>19</td>\n",
       "        <td>19</td>\n",
       "        <td>19</td>\n",
       "        <td>ARREST</td>\n",
       "        <td>15158223</td>\n",
       "        <td>903</td>\n",
       "        <td>Strip District</td>\n",
       "        <td>2</td>\n",
       "        <td>2015-08-22 16:56:00</td>\n",
       "    </tr>\n",
       "    <tr>\n",
       "        <td>20</td>\n",
       "        <td>20</td>\n",
       "        <td>20</td>\n",
       "        <td>ARREST</td>\n",
       "        <td>15158223</td>\n",
       "        <td>13(a)(30)</td>\n",
       "        <td>Strip District</td>\n",
       "        <td>2</td>\n",
       "        <td>2015-08-22 16:56:00</td>\n",
       "    </tr>\n",
       "</table>"
      ],
      "text/plain": [
       "[(1, 1, 1, 'OFFENSE 2.0', 15158500, '903', 'Allegheny Center', 1, datetime.datetime(2015, 8, 22, 23, 59)),\n",
       " (2, 2, 2, 'OFFENSE 2.0', 15158500, '6106', 'Allegheny Center', 1, datetime.datetime(2015, 8, 22, 23, 59)),\n",
       " (3, 3, 3, 'OFFENSE 2.0', 15158500, '3925', 'Allegheny Center', 1, datetime.datetime(2015, 8, 22, 23, 59)),\n",
       " (4, 4, 4, 'OFFENSE 2.0', 15157796, '3502', 'Strip District', 2, datetime.datetime(2015, 8, 22, 1, 45)),\n",
       " (5, 5, 5, 'OFFENSE 2.0', 15157919, '2702', 'Bluff', 2, datetime.datetime(2015, 8, 22, 6, 0)),\n",
       " (6, 6, 6, 'OFFENSE 2.0', 15157997, '9999', 'Terrace Village', 2, datetime.datetime(2015, 8, 22, 10, 15)),\n",
       " (7, 7, 7, 'OFFENSE 2.0', 15158116, '3304', 'Middle Hill', 2, datetime.datetime(2015, 8, 22, 11, 0)),\n",
       " (8, 8, 8, 'OFFENSE 2.0', 15158026, '3928', 'Crawford-Roberts', 2, datetime.datetime(2015, 8, 22, 11, 11)),\n",
       " (9, 9, 9, 'ARREST', 15158026, '3928', 'Crawford-Roberts', 2, datetime.datetime(2015, 8, 22, 11, 15)),\n",
       " (10, 10, 10, 'ARREST', 15158026, '9093', 'Crawford-Roberts', 2, datetime.datetime(2015, 8, 22, 11, 15)),\n",
       " (11, 11, 11, 'ARREST', 15158026, '9501', 'Crawford-Roberts', 2, datetime.datetime(2015, 8, 22, 11, 15)),\n",
       " (12, 12, 12, 'OFFENSE 2.0', 15158108, '3921', 'Golden Triangle/Civic Arena', 2, datetime.datetime(2015, 8, 22, 12, 5)),\n",
       " (13, 13, 13, 'OFFENSE 2.0', 15158223, '903', 'Strip District', 2, datetime.datetime(2015, 8, 22, 16, 56)),\n",
       " (14, 14, 14, 'OFFENSE 2.0', 15158223, '1543', 'Strip District', 2, datetime.datetime(2015, 8, 22, 16, 56)),\n",
       " (15, 15, 15, 'OFFENSE 2.0', 15158223, '1332', 'Strip District', 2, datetime.datetime(2015, 8, 22, 16, 56)),\n",
       " (16, 16, 16, 'OFFENSE 2.0', 15158223, '13(a)(30)', 'Strip District', 2, datetime.datetime(2015, 8, 22, 16, 56)),\n",
       " (17, 17, 17, 'OFFENSE 2.0', 15158223, '13(a)(16)', 'Strip District', 2, datetime.datetime(2015, 8, 22, 16, 56)),\n",
       " (18, 18, 18, 'ARREST', 15158223, '1543', 'Strip District', 2, datetime.datetime(2015, 8, 22, 16, 56)),\n",
       " (19, 19, 19, 'ARREST', 15158223, '903', 'Strip District', 2, datetime.datetime(2015, 8, 22, 16, 56)),\n",
       " (20, 20, 20, 'ARREST', 15158223, '13(a)(30)', 'Strip District', 2, datetime.datetime(2015, 8, 22, 16, 56))]"
      ]
     },
     "execution_count": 41,
     "metadata": {},
     "output_type": "execute_result"
    }
   ],
   "source": [
    "%%sql\n",
    "SELECT *\n",
    "FROM pittscrime_fact\n",
    "LIMIT 20;"
   ]
  },
  {
   "cell_type": "markdown",
   "metadata": {},
   "source": [
    "## Problem 4 - explore your data in its new schema (30 points)\n",
    "\n",
    "Strictly using the dimensional model tables you defined and populated for Problem 3, explore your data in its new form.  Use any of the query strategies we've seen in class, including transformations, aggregates, subqueries, rollups, and, of course, joins.  Add plots to highlight particular themes that stand out.  Describe your thinking and observations along the way."
   ]
  },
  {
   "cell_type": "markdown",
   "metadata": {},
   "source": [
    "So let's first have a detailed look of the fact table."
   ]
  },
  {
   "cell_type": "code",
   "execution_count": 42,
   "metadata": {
    "collapsed": false
   },
   "outputs": [
    {
     "name": "stdout",
     "output_type": "stream",
     "text": [
      "9 rows affected.\n"
     ]
    },
    {
     "data": {
      "text/html": [
       "<table>\n",
       "    <tr>\n",
       "        <th>column_name</th>\n",
       "        <th>data_type</th>\n",
       "        <th>character_maximum_length</th>\n",
       "        <th>is_nullable</th>\n",
       "    </tr>\n",
       "    <tr>\n",
       "        <td>location_dim_id</td>\n",
       "        <td>integer</td>\n",
       "        <td>None</td>\n",
       "        <td>NO</td>\n",
       "    </tr>\n",
       "    <tr>\n",
       "        <td>report_dim_id</td>\n",
       "        <td>integer</td>\n",
       "        <td>None</td>\n",
       "        <td>NO</td>\n",
       "    </tr>\n",
       "    <tr>\n",
       "        <td>arrestday_dim_id</td>\n",
       "        <td>integer</td>\n",
       "        <td>None</td>\n",
       "        <td>NO</td>\n",
       "    </tr>\n",
       "    <tr>\n",
       "        <td>report_name</td>\n",
       "        <td>character varying</td>\n",
       "        <td>11</td>\n",
       "        <td>YES</td>\n",
       "    </tr>\n",
       "    <tr>\n",
       "        <td>ccr</td>\n",
       "        <td>integer</td>\n",
       "        <td>None</td>\n",
       "        <td>YES</td>\n",
       "    </tr>\n",
       "    <tr>\n",
       "        <td>section</td>\n",
       "        <td>character varying</td>\n",
       "        <td>19</td>\n",
       "        <td>YES</td>\n",
       "    </tr>\n",
       "    <tr>\n",
       "        <td>neighborhood</td>\n",
       "        <td>character varying</td>\n",
       "        <td>27</td>\n",
       "        <td>YES</td>\n",
       "    </tr>\n",
       "    <tr>\n",
       "        <td>zone</td>\n",
       "        <td>integer</td>\n",
       "        <td>None</td>\n",
       "        <td>YES</td>\n",
       "    </tr>\n",
       "    <tr>\n",
       "        <td>arrest_time</td>\n",
       "        <td>timestamp without time zone</td>\n",
       "        <td>None</td>\n",
       "        <td>YES</td>\n",
       "    </tr>\n",
       "</table>"
      ],
      "text/plain": [
       "[('location_dim_id', 'integer', None, 'NO'),\n",
       " ('report_dim_id', 'integer', None, 'NO'),\n",
       " ('arrestday_dim_id', 'integer', None, 'NO'),\n",
       " ('report_name', 'character varying', 11, 'YES'),\n",
       " ('ccr', 'integer', None, 'YES'),\n",
       " ('section', 'character varying', 19, 'YES'),\n",
       " ('neighborhood', 'character varying', 27, 'YES'),\n",
       " ('zone', 'integer', None, 'YES'),\n",
       " ('arrest_time', 'timestamp without time zone', None, 'YES')]"
      ]
     },
     "execution_count": 42,
     "metadata": {},
     "output_type": "execute_result"
    }
   ],
   "source": [
    "%%sql\n",
    "SELECT column_name, data_type, character_maximum_length, is_nullable\n",
    "FROM INFORMATION_SCHEMA.COLUMNS WHERE table_name = 'pittscrime_fact';"
   ]
  },
  {
   "cell_type": "markdown",
   "metadata": {},
   "source": [
    "The above table tells the information about column name, data type, character length and whether the column has null value. So that we can ensure from the table that our three foreign key columns(location_dim_id, report_dim_id & arrestday_dim_id) contain no null value.\n",
    "\n",
    "So can we filter the fact table by the arrest_day dimension table?"
   ]
  },
  {
   "cell_type": "code",
   "execution_count": 43,
   "metadata": {
    "collapsed": false
   },
   "outputs": [
    {
     "name": "stdout",
     "output_type": "stream",
     "text": [
      "7 rows affected.\n"
     ]
    },
    {
     "data": {
      "text/html": [
       "<table>\n",
       "    <tr>\n",
       "        <th>count</th>\n",
       "        <th>day_of_week_str</th>\n",
       "    </tr>\n",
       "    <tr>\n",
       "        <td>3872</td>\n",
       "        <td>Sunday   </td>\n",
       "    </tr>\n",
       "    <tr>\n",
       "        <td>3972</td>\n",
       "        <td>Monday   </td>\n",
       "    </tr>\n",
       "    <tr>\n",
       "        <td>3920</td>\n",
       "        <td>Tuesday  </td>\n",
       "    </tr>\n",
       "    <tr>\n",
       "        <td>3938</td>\n",
       "        <td>Wednesday</td>\n",
       "    </tr>\n",
       "    <tr>\n",
       "        <td>3940</td>\n",
       "        <td>Thursday </td>\n",
       "    </tr>\n",
       "    <tr>\n",
       "        <td>3872</td>\n",
       "        <td>Friday   </td>\n",
       "    </tr>\n",
       "    <tr>\n",
       "        <td>3922</td>\n",
       "        <td>Saturday </td>\n",
       "    </tr>\n",
       "</table>"
      ],
      "text/plain": [
       "[(3872, 'Sunday   '),\n",
       " (3972, 'Monday   '),\n",
       " (3920, 'Tuesday  '),\n",
       " (3938, 'Wednesday'),\n",
       " (3940, 'Thursday '),\n",
       " (3872, 'Friday   '),\n",
       " (3922, 'Saturday ')]"
      ]
     },
     "execution_count": 43,
     "metadata": {},
     "output_type": "execute_result"
    }
   ],
   "source": [
    "%%sql\n",
    "SELECT COUNT(*), day_of_week_str\n",
    "from pittscrime_fact a join arrest_day d on a.arrestday_dim_id = d.arrestday_dim_id\n",
    "group by day_of_week_str\n",
    "order by CASE day_of_week_str\n",
    "    WHEN 'Sunday' THEN 1\n",
    "    WHEN 'Monday' THEN 2\n",
    "    WHEN 'Tuesday' THEN 3\n",
    "    WHEN 'Wednesday' THEN 4\n",
    "    WHEN 'Thursday' THEN 5\n",
    "    WHEN 'Friday' THEN 6\n",
    "    ELSE 7\n",
    "END\n",
    ";"
   ]
  },
  {
   "cell_type": "code",
   "execution_count": 44,
   "metadata": {
    "collapsed": true
   },
   "outputs": [],
   "source": [
    "%matplotlib inline"
   ]
  },
  {
   "cell_type": "code",
   "execution_count": 45,
   "metadata": {
    "collapsed": false
   },
   "outputs": [
    {
     "data": {
      "text/plain": [
       "<Container object of 7 artists>"
      ]
     },
     "execution_count": 45,
     "metadata": {},
     "output_type": "execute_result"
    },
    {
     "data": {
      "image/png": "[encoded data removed]",
      "text/plain": [
       "<matplotlib.figure.Figure at 0x7f0af4cc8358>"
      ]
     },
     "metadata": {},
     "output_type": "display_data"
    }
   ],
   "source": [
    "result = _\n",
    "result.bar()"
   ]
  },
  {
   "cell_type": "markdown",
   "metadata": {},
   "source": [
    "From the bar graph we could tell that the crime rate of every day is almost the same."
   ]
  },
  {
   "cell_type": "code",
   "execution_count": 46,
   "metadata": {
    "collapsed": false
   },
   "outputs": [
    {
     "name": "stdout",
     "output_type": "stream",
     "text": [
      "4 rows affected.\n"
     ]
    },
    {
     "data": {
      "text/html": [
       "<table>\n",
       "    <tr>\n",
       "        <th>quarter</th>\n",
       "        <th>count</th>\n",
       "    </tr>\n",
       "    <tr>\n",
       "        <td>4</td>\n",
       "        <td>5804</td>\n",
       "    </tr>\n",
       "    <tr>\n",
       "        <td>3</td>\n",
       "        <td>8434</td>\n",
       "    </tr>\n",
       "    <tr>\n",
       "        <td>2</td>\n",
       "        <td>8106</td>\n",
       "    </tr>\n",
       "    <tr>\n",
       "        <td>1</td>\n",
       "        <td>5092</td>\n",
       "    </tr>\n",
       "</table>"
      ],
      "text/plain": [
       "[(4, 5804), (3, 8434), (2, 8106), (1, 5092)]"
      ]
     },
     "execution_count": 46,
     "metadata": {},
     "output_type": "execute_result"
    }
   ],
   "source": [
    "%%sql\n",
    "SELECT quarter, COUNT(quarter)\n",
    "from pittscrime_fact a join arrest_day d on a.arrestday_dim_id = d.arrestday_dim_id\n",
    "group by quarter\n",
    "order by quarter DESC"
   ]
  },
  {
   "cell_type": "code",
   "execution_count": 47,
   "metadata": {
    "collapsed": true
   },
   "outputs": [],
   "source": [
    "%matplotlib inline"
   ]
  },
  {
   "cell_type": "code",
   "execution_count": 48,
   "metadata": {
    "collapsed": false
   },
   "outputs": [
    {
     "data": {
      "text/plain": [
       "<Container object of 4 artists>"
      ]
     },
     "execution_count": 48,
     "metadata": {},
     "output_type": "execute_result"
    },
    {
     "data": {
      "image/png": "[encoded data removed]",
      "text/plain": [
       "<matplotlib.figure.Figure at 0x7f0af49f2400>"
      ]
     },
     "metadata": {},
     "output_type": "display_data"
    }
   ],
   "source": [
    "result = _\n",
    "result.bar()"
   ]
  },
  {
   "cell_type": "markdown",
   "metadata": {},
   "source": [
    "By filtering the quarter crime rate, we can tell that in general the second and third quarters have the highest crime rate. "
   ]
  },
  {
   "cell_type": "markdown",
   "metadata": {},
   "source": [
    "We want to know which neighborhood has most crimes. Then we can use the foreigh key in the location_dim table."
   ]
  },
  {
   "cell_type": "code",
   "execution_count": 49,
   "metadata": {
    "collapsed": false
   },
   "outputs": [
    {
     "name": "stdout",
     "output_type": "stream",
     "text": [
      "5 rows affected.\n"
     ]
    },
    {
     "data": {
      "text/html": [
       "<table>\n",
       "    <tr>\n",
       "        <th>neighborhood</th>\n",
       "        <th>count</th>\n",
       "    </tr>\n",
       "    <tr>\n",
       "        <td>Golden Triangle/Civic Arena</td>\n",
       "        <td>16458</td>\n",
       "    </tr>\n",
       "    <tr>\n",
       "        <td>South Side Flats</td>\n",
       "        <td>15290</td>\n",
       "    </tr>\n",
       "    <tr>\n",
       "        <td>East Liberty</td>\n",
       "        <td>7006</td>\n",
       "    </tr>\n",
       "    <tr>\n",
       "        <td>East Allegheny</td>\n",
       "        <td>6998</td>\n",
       "    </tr>\n",
       "    <tr>\n",
       "        <td>Carrick</td>\n",
       "        <td>6804</td>\n",
       "    </tr>\n",
       "</table>"
      ],
      "text/plain": [
       "[('Golden Triangle/Civic Arena', 16458),\n",
       " ('South Side Flats', 15290),\n",
       " ('East Liberty', 7006),\n",
       " ('East Allegheny', 6998),\n",
       " ('Carrick', 6804)]"
      ]
     },
     "execution_count": 49,
     "metadata": {},
     "output_type": "execute_result"
    }
   ],
   "source": [
    "%%sql\n",
    "SELECT l.neighborhood, COUNT(*) \n",
    "FROM location_dim l, pittscrime_fact p\n",
    "WHERE l.location_dim_id = p.location_dim_id\n",
    "GROUP BY l.neighborhood\n",
    "ORDER BY COUNT DESC\n",
    "LIMIT 5;"
   ]
  },
  {
   "cell_type": "code",
   "execution_count": 50,
   "metadata": {
    "collapsed": false
   },
   "outputs": [
    {
     "data": {
      "text/plain": [
       "<Container object of 5 artists>"
      ]
     },
     "execution_count": 50,
     "metadata": {},
     "output_type": "execute_result"
    },
    {
     "data": {
      "image/png": "[encoded data removed]",
      "text/plain": [
       "<matplotlib.figure.Figure at 0x7f0af49ec9b0>"
      ]
     },
     "metadata": {},
     "output_type": "display_data"
    }
   ],
   "source": [
    "%matplotlib inline\n",
    "result = _\n",
    "result.bar()"
   ]
  },
  {
   "cell_type": "markdown",
   "metadata": {},
   "source": [
    "Again we want to know which zone accounts for the most number of crimes and from the pie chart we find that zone 1 has most crimes."
   ]
  },
  {
   "cell_type": "code",
   "execution_count": 51,
   "metadata": {
    "collapsed": false
   },
   "outputs": [
    {
     "name": "stdout",
     "output_type": "stream",
     "text": [
      "6 rows affected.\n"
     ]
    },
    {
     "data": {
      "text/html": [
       "<table>\n",
       "    <tr>\n",
       "        <th>zone</th>\n",
       "        <th>count</th>\n",
       "    </tr>\n",
       "    <tr>\n",
       "        <td>1</td>\n",
       "        <td>52216</td>\n",
       "    </tr>\n",
       "    <tr>\n",
       "        <td>3</td>\n",
       "        <td>48312</td>\n",
       "    </tr>\n",
       "    <tr>\n",
       "        <td>5</td>\n",
       "        <td>41228</td>\n",
       "    </tr>\n",
       "    <tr>\n",
       "        <td>2</td>\n",
       "        <td>38812</td>\n",
       "    </tr>\n",
       "    <tr>\n",
       "        <td>4</td>\n",
       "        <td>28420</td>\n",
       "    </tr>\n",
       "    <tr>\n",
       "        <td>6</td>\n",
       "        <td>25358</td>\n",
       "    </tr>\n",
       "</table>"
      ],
      "text/plain": [
       "[(1, 52216), (3, 48312), (5, 41228), (2, 38812), (4, 28420), (6, 25358)]"
      ]
     },
     "execution_count": 51,
     "metadata": {},
     "output_type": "execute_result"
    }
   ],
   "source": [
    "%%sql\n",
    "SELECT l.zone, COUNT(*) \n",
    "FROM location_dim l, pittscrime_fact p\n",
    "WHERE l.location_dim_id = p.location_dim_id\n",
    "GROUP BY l.zone\n",
    "ORDER BY COUNT DESC\n",
    "LIMIT 6;"
   ]
  },
  {
   "cell_type": "code",
   "execution_count": 52,
   "metadata": {
    "collapsed": false
   },
   "outputs": [
    {
     "data": {
      "text/plain": [
       "([<matplotlib.patches.Wedge at 0x7f0af2b3b160>,\n",
       "  <matplotlib.patches.Wedge at 0x7f0af2b3bda0>,\n",
       "  <matplotlib.patches.Wedge at 0x7f0af2ac3a20>,\n",
       "  <matplotlib.patches.Wedge at 0x7f0af2ac86a0>,\n",
       "  <matplotlib.patches.Wedge at 0x7f0af2ace320>,\n",
       "  <matplotlib.patches.Wedge at 0x7f0af2acef60>],\n",
       " [<matplotlib.text.Text at 0x7f0af2b3b940>,\n",
       "  <matplotlib.text.Text at 0x7f0af2ac35c0>,\n",
       "  <matplotlib.text.Text at 0x7f0af2ac8240>,\n",
       "  <matplotlib.text.Text at 0x7f0af2ac8e80>,\n",
       "  <matplotlib.text.Text at 0x7f0af2aceb00>,\n",
       "  <matplotlib.text.Text at 0x7f0af2ad3780>])"
      ]
     },
     "execution_count": 52,
     "metadata": {},
     "output_type": "execute_result"
    },
    {
     "data": {
      "image/png": "[encoded data removed]",
      "text/plain": [
       "<matplotlib.figure.Figure at 0x7f0af49fbda0>"
      ]
     },
     "metadata": {},
     "output_type": "display_data"
    }
   ],
   "source": [
    "%matplotlib inline\n",
    "result = _\n",
    "result.pie()"
   ]
  },
  {
   "cell_type": "markdown",
   "metadata": {},
   "source": [
    "The above pie tells us Zone 1 and Zone 3 have the higest crime rate."
   ]
  },
  {
   "cell_type": "markdown",
   "metadata": {},
   "source": [
    "So the next question is that can we use the location_dim_id foreign key to narrow down the area and its crime rate?"
   ]
  },
  {
   "cell_type": "code",
   "execution_count": 53,
   "metadata": {
    "collapsed": false
   },
   "outputs": [
    {
     "name": "stdout",
     "output_type": "stream",
     "text": [
      "6 rows affected.\n"
     ]
    },
    {
     "data": {
      "text/html": [
       "<table>\n",
       "    <tr>\n",
       "        <th>zone</th>\n",
       "        <th>zone_count</th>\n",
       "        <th>neighborhood</th>\n",
       "        <th>neighborhood_count</th>\n",
       "    </tr>\n",
       "    <tr>\n",
       "        <td>3</td>\n",
       "        <td>15218</td>\n",
       "        <td>South Side Flats</td>\n",
       "        <td>15218</td>\n",
       "    </tr>\n",
       "    <tr>\n",
       "        <td>2</td>\n",
       "        <td>14702</td>\n",
       "        <td>Golden Triangle/Civic Arena</td>\n",
       "        <td>14702</td>\n",
       "    </tr>\n",
       "    <tr>\n",
       "        <td>1</td>\n",
       "        <td>6874</td>\n",
       "        <td>East Allegheny</td>\n",
       "        <td>6874</td>\n",
       "    </tr>\n",
       "    <tr>\n",
       "        <td>3</td>\n",
       "        <td>6774</td>\n",
       "        <td>Carrick</td>\n",
       "        <td>6774</td>\n",
       "    </tr>\n",
       "    <tr>\n",
       "        <td>5</td>\n",
       "        <td>6770</td>\n",
       "        <td>East Liberty</td>\n",
       "        <td>6770</td>\n",
       "    </tr>\n",
       "    <tr>\n",
       "        <td>1</td>\n",
       "        <td>5196</td>\n",
       "        <td>Brighton Heights</td>\n",
       "        <td>5196</td>\n",
       "    </tr>\n",
       "</table>"
      ],
      "text/plain": [
       "[(3, 15218, 'South Side Flats', 15218),\n",
       " (2, 14702, 'Golden Triangle/Civic Arena', 14702),\n",
       " (1, 6874, 'East Allegheny', 6874),\n",
       " (3, 6774, 'Carrick', 6774),\n",
       " (5, 6770, 'East Liberty', 6770),\n",
       " (1, 5196, 'Brighton Heights', 5196)]"
      ]
     },
     "execution_count": 53,
     "metadata": {},
     "output_type": "execute_result"
    }
   ],
   "source": [
    "%%sql\n",
    "SELECT l.zone, COUNT(l.zone) as zone_count, l.neighborhood, COUNT(l.neighborhood) as neighborhood_count\n",
    "FROM location_dim l, pittscrime_fact p\n",
    "WHERE l.location_dim_id = p.location_dim_id\n",
    "GROUP BY l.zone, l.neighborhood\n",
    "ORDER BY COUNT(l.zone) DESC\n",
    "LIMIT 6;"
   ]
  },
  {
   "cell_type": "markdown",
   "metadata": {},
   "source": [
    "The above table show the crime rate associated with combined zone and neighborhood. Because several zones can belong to the same neighborhood and one neighborhood can also overlap with several zones. The filters used here are both \"zone\" and \"neighborhood\" so that we can narrow down the area with the most crime rate. Because from the filtered result we could say a neighboehood could contain several zones and one zone could belong to several neighborhoods as well. The most dangerous area in Pittsburgh is Neighborhood \"South Side Flats\" at Zone 3."
   ]
  },
  {
   "cell_type": "markdown",
   "metadata": {},
   "source": [
    "## Bonus (10 points for one of A or B)\n",
    "\n",
    "\n",
    "### Option A - Automating ETL\n",
    "\n",
    "Consider the work you did to load your original raw dataset and then transform it into a dimensional model for analysis.  What would it take to automate this process?  How often would you need to update the data?  Could you easily automate any data cleaning steps?  What checks would you need to put in place to ensure quality?  Would humans need to be involved, or could you automate it all?\n",
    "\n",
    "Discuss.\n",
    "\n",
    "\n",
    "### Option B - Augmenting dimensions\n",
    "\n",
    "Considering your dimensional model, what external data could you find to augment it?  As in the case of bike trips, where weather might provide an interesting added dimension/context not present in the original data, you can probably find another source of data to complement your own model.  Identify one such source and add it to your model, demonstrating its value with a few new queries."
   ]
  },
  {
   "cell_type": "code",
   "execution_count": 54,
   "metadata": {
    "collapsed": false
   },
   "outputs": [
    {
     "name": "stdout",
     "output_type": "stream",
     "text": [
      "--2016-11-27 03:33:05--  https://data.wprdc.org/datastore/dump/e03a89dd-134a-4ee8-a2bd-62c40aeebc6f\n",
      "Resolving data.wprdc.org (data.wprdc.org)... 136.142.88.59\n",
      "Connecting to data.wprdc.org (data.wprdc.org)|136.142.88.59|:443... connected.\n",
      "HTTP request sent, awaiting response... 200 OK\n",
      "Length: 738257 (721K) [text/csv]\n",
      "Saving to: ‘e03a89dd-134a-4ee8-a2bd-62c40aeebc6f’\n",
      "\n",
      "e03a89dd-134a-4ee8- 100%[=====================>] 720.95K  --.-KB/s   in 0.05s  \n",
      "\n",
      "2016-11-27 03:33:05 (13.1 MB/s) - ‘e03a89dd-134a-4ee8-a2bd-62c40aeebc6f’ saved [738257/738257]\n",
      "\n"
     ]
    }
   ],
   "source": [
    "!wget https://data.wprdc.org/datastore/dump/e03a89dd-134a-4ee8-a2bd-62c40aeebc6f"
   ]
  },
  {
   "cell_type": "markdown",
   "metadata": {},
   "source": [
    "We find another external data about arrested criminals in Pittsburgh. We are curious about how age, gender, race, public_works_division affect crimes."
   ]
  },
  {
   "cell_type": "code",
   "execution_count": 55,
   "metadata": {
    "collapsed": false
   },
   "outputs": [],
   "source": [
    "!mv -n e03a89dd-134a-4ee8-a2bd-62c40aeebc6f arrest.csv"
   ]
  },
  {
   "cell_type": "code",
   "execution_count": 56,
   "metadata": {
    "collapsed": false
   },
   "outputs": [
    {
     "name": "stdout",
     "output_type": "stream",
     "text": [
      "  1: _id\r\n",
      "  2: PK\r\n",
      "  3: CCR\r\n",
      "  4: AGE\r\n",
      "  5: GENDER\r\n",
      "  6: RACE\r\n",
      "  7: ARRESTTIME\r\n",
      "  8: ARRESTLOCATION\r\n",
      "  9: OFFENSES\r\n",
      " 10: INCIDENTLOCATION\r\n",
      " 11: INCIDENTNEIGHBORHOOD\r\n",
      " 12: INCIDENTZONE\r\n",
      " 13: INCIDENTTRACT\r\n",
      " 14: COUNCIL_DISTRICT\r\n",
      " 15: PUBLIC_WORKS_DIVISION\r\n",
      " 16: X\r\n",
      " 17: Y\r\n"
     ]
    }
   ],
   "source": [
    "!csvcut -n arrest.csv"
   ]
  },
  {
   "cell_type": "code",
   "execution_count": 57,
   "metadata": {
    "collapsed": false
   },
   "outputs": [
    {
     "name": "stdout",
     "output_type": "stream",
     "text": [
      "2526 arrest.csv\r\n"
     ]
    }
   ],
   "source": [
    "!wc -l arrest.csv"
   ]
  },
  {
   "cell_type": "code",
   "execution_count": 58,
   "metadata": {
    "collapsed": false
   },
   "outputs": [
    {
     "name": "stdout",
     "output_type": "stream",
     "text": [
      "|-------+---------+----------+-----+--------+------+---------------------+----------------------------------------------------------+----------------------------------------------------------------------------------------------------------------------------------------------------------------+----------------------------------------------------------+----------------------+--------------+---------------+------------------+-----------------------+-------------------+-------------------|\r\n",
      "|  _id  | PK      | CCR      | AGE | GENDER | RACE | ARRESTTIME          | ARRESTLOCATION                                           | OFFENSES                                                                                                                                                       | INCIDENTLOCATION                                         | INCIDENTNEIGHBORHOOD | INCIDENTZONE | INCIDENTTRACT | COUNCIL_DISTRICT | PUBLIC_WORKS_DIVISION | X                 | Y                 |\r\n",
      "|-------+---------+----------+-----+--------+------+---------------------+----------------------------------------------------------+----------------------------------------------------------------------------------------------------------------------------------------------------------------+----------------------------------------------------------+----------------------+--------------+---------------+------------------+-----------------------+-------------------+-------------------|\r\n",
      "|  4    | 1974550 | 16145257 | 25  | F      | W    | 2016-08-05T02:36:00 | Foreland ST & Cedar AV Pittsburgh, PA 15212              | 5503 Disorderly Conduct. / 5505 Public Drunkenness                                                                                                             | Foreland ST & Cedar AV Pittsburgh, PA 15212              | East Allegheny       | 1            | 2304          | 1                | 1                     | -80.0019387579446 | 40.454080431959   |\r\n",
      "|  1713 | 1976626 | 16186051 | 29  | M      | B    | 2016-10-02T04:11:00 | 4600 Block Browns Hill RD Pittsburgh, PA 15217           | 9093 Indirect Criminal Contempt                                                                                                                                | 4600 Block Browns Hill RD Pittsburgh, PA 15217           | Squirrel Hill South  | 4            | 1414          | 5                | 3                     | -79.9249410972177 | 40.4155942417593  |\r\n",
      "|  1902 | 1976884 | 16194344 | 36  | M      | B    | 2016-10-14T15:34:00 | 100 Block Broad ST & N Whitfield ST Pittsburgh, PA 15206 | 4910 Tampering with or Fabricating Physical Evidence. / 13(a)(32) Paraphernalia - Use or Possession / 4914 False Identification to Law Enforcement Authorities | 100 Block Broad ST & N Whitfield ST Pittsburgh, PA 15206 | East Liberty         | 5            | 1115          |                  |                       | 0.0               | 0.0               |\r\n",
      "|  5    | 1974596 | 16145962 | 25  | M      | B    | 2016-08-06T02:00:00 | 900 Block Woodlow ST Pittsburgh, PA 15205                | 2702 Aggravated Assault. / 2705 Recklessy Endangering Another Person. / 3925 Receiving Stolen Property. / 4304(a)(1) Endangering Welfare of Children.          | 900 Block Woodlow ST Pittsburgh, PA 15205                | Crafton Heights      | 5            | 2814          | 2                | 5                     | -80.0522041374568 | 40.4458998235053  |\r\n",
      "|  14   | 1974578 | 16144432 | 27  | M      | W    | 2016-08-13T15:43:00 | 1300 Block E Carson ST Pittsburgh, PA 15203              | 3921(a) Theft by Unlawful Taking or Disposition - Movable item                                                                                                 | 1000 Block Lessing ST Pittsburgh, PA 15205               | Crafton Heights      | 6            | 2814          | 2                | 5                     | -80.0496857912552 | 40.4439178364361  |\r\n",
      "|  19   | 1975192 | 16150754 | 33  | M      | W    | 2016-08-12T21:07:00 | 1500 Block Milan AV Pittsburgh, PA 15226                 | 9501 Bench Warrant                                                                                                                                             | 1500 Block Milan AV Pittsburgh, PA 15226                 | Brookline            | 6            | 3206          | 4                | 4                     | -80.0058032356292 | 40.3938682477685  |\r\n",
      "|  1005 | 1975718 | 16166519 | 22  | M      | A    | 2016-09-06T16:44:00 | 600 Block 1st AV Pittsburgh, PA 15219                    | 493(1) Furnishing Liquor/Malt to Intox.Persons/Minors.Etc. / 6310.1 Selling Liquor to Minors / 601.19 Social Host and Underage Drinking                        | 300 Block Atwood ST Pittsburgh, PA 15213                 | Central Oakland      | 4            | 405           | 3                | 3                     | -79.9559451409605 | 40.4395175941235  |\r\n",
      "|  1503 | 1976375 | 16180874 | 20  | F      | B    | 2016-09-24T14:00:00 | Beaver AV & Pennsylvania AV Pittsburgh, PA 15233         | 903 Criminal Conspiracy. / 3502 Burglary. / 3701 Robbery.                                                                                                      | 10 Block Mitchell ST Pittsburgh, PA 15212                | Marshall-Shadeland   | 1            | 2715          | 1                | 1                     | -80.0298621150587 | 40.4770183009667  |\r\n",
      "|  2401 | 1977545 | 16204926 | 28  | M      | B    | 2016-10-30T22:00:00 | 1100 Block Buente ST Pittsburgh, PA 15212                | 903 Criminal Conspiracy. / 2901 Kidnapping. / 2902 Unlawful Restraint. / 2903 False Imprisonment. / 3701 Robbery.                                              | 300 Block S Main ST Pittsburgh, PA 15220                 | West End             | 6            | 2019          | 7                | 2                     | -79.9579443641231 | 40.4673750344012  |\r\n",
      "|-------+---------+----------+-----+--------+------+---------------------+----------------------------------------------------------+----------------------------------------------------------------------------------------------------------------------------------------------------------------+----------------------------------------------------------+----------------------+--------------+---------------+------------------+-----------------------+-------------------+-------------------|\r\n"
     ]
    }
   ],
   "source": [
    "!head arrest.csv|csvlook"
   ]
  },
  {
   "cell_type": "code",
   "execution_count": 59,
   "metadata": {
    "collapsed": false
   },
   "outputs": [],
   "source": [
    "!createdb -U dbuser arrest"
   ]
  },
  {
   "cell_type": "code",
   "execution_count": 60,
   "metadata": {
    "collapsed": false
   },
   "outputs": [
    {
     "data": {
      "text/plain": [
       "'Connected: dbuser@arrest'"
      ]
     },
     "execution_count": 60,
     "metadata": {},
     "output_type": "execute_result"
    }
   ],
   "source": [
    "%sql postgresql://dbuser@localhost:5432/arrest"
   ]
  },
  {
   "cell_type": "code",
   "execution_count": 61,
   "metadata": {
    "collapsed": false
   },
   "outputs": [],
   "source": [
    "!csvsql --db sqlite:///arrest.db --insert arrest.csv"
   ]
  },
  {
   "cell_type": "code",
   "execution_count": 62,
   "metadata": {
    "collapsed": false
   },
   "outputs": [
    {
     "name": "stdout",
     "output_type": "stream",
     "text": [
      "Done.\n",
      "Done.\n"
     ]
    },
    {
     "data": {
      "text/plain": [
       "[]"
      ]
     },
     "execution_count": 62,
     "metadata": {},
     "output_type": "execute_result"
    }
   ],
   "source": [
    "%%sql\n",
    "DROP TABLE IF EXISTS arrest;\n",
    "CREATE TABLE arrest\n",
    "(\n",
    "    id INTEGER,\n",
    "    PK INTEGER,\n",
    "    CCR INTEGER,\n",
    "    AGE INTEGER, \n",
    "    GENDER VARCHAR(4),\n",
    "    RACE VARCHAR(1),\n",
    "    ARREST_TIME TIMESTAMP,\n",
    "    ARRESTLOCATION VARCHAR(64),\n",
    "    OFFENSES VARCHAR(629),\n",
    "    INCIDENTLOCATION VARCHAR(68),\n",
    "    INCIDENTNEIGHBORHOOD VARCHAR(27),\n",
    "    INCIDENTZONE VARCHAR(3),\n",
    "    INCIDENTTRACT INTEGER,\n",
    "    COUNCIL_DISTRICT INTEGER,\n",
    "    PUBLIC_WORKS_DIVISION INTEGER,\n",
    "    X FLOAT, \n",
    "    Y FLOAT\n",
    ")"
   ]
  },
  {
   "cell_type": "code",
   "execution_count": 63,
   "metadata": {
    "collapsed": false
   },
   "outputs": [
    {
     "name": "stdout",
     "output_type": "stream",
     "text": [
      "2525 rows affected.\n"
     ]
    },
    {
     "data": {
      "text/plain": [
       "[]"
      ]
     },
     "execution_count": 63,
     "metadata": {},
     "output_type": "execute_result"
    }
   ],
   "source": [
    "%%sql\n",
    "COPY arrest FROM '/home/jovyan/work/arrest.csv'\n",
    "CSV\n",
    "HEADER\n",
    "QUOTE '\"'\n",
    "DELIMITER ',';"
   ]
  },
  {
   "cell_type": "code",
   "execution_count": 64,
   "metadata": {
    "collapsed": false
   },
   "outputs": [
    {
     "name": "stdout",
     "output_type": "stream",
     "text": [
      "1 rows affected.\n"
     ]
    },
    {
     "data": {
      "text/html": [
       "<table>\n",
       "    <tr>\n",
       "        <th>count</th>\n",
       "    </tr>\n",
       "    <tr>\n",
       "        <td>2525</td>\n",
       "    </tr>\n",
       "</table>"
      ],
      "text/plain": [
       "[(2525,)]"
      ]
     },
     "execution_count": 64,
     "metadata": {},
     "output_type": "execute_result"
    }
   ],
   "source": [
    "%%sql\n",
    "SELECT COUNT(*)\n",
    "FROM arrest;"
   ]
  },
  {
   "cell_type": "code",
   "execution_count": 65,
   "metadata": {
    "collapsed": false
   },
   "outputs": [
    {
     "name": "stdout",
     "output_type": "stream",
     "text": [
      "10 rows affected.\n"
     ]
    },
    {
     "data": {
      "text/html": [
       "<table>\n",
       "    <tr>\n",
       "        <th>id</th>\n",
       "        <th>pk</th>\n",
       "        <th>ccr</th>\n",
       "        <th>age</th>\n",
       "        <th>gender</th>\n",
       "        <th>race</th>\n",
       "        <th>arrest_time</th>\n",
       "        <th>arrestlocation</th>\n",
       "        <th>offenses</th>\n",
       "        <th>incidentlocation</th>\n",
       "        <th>incidentneighborhood</th>\n",
       "        <th>incidentzone</th>\n",
       "        <th>incidenttract</th>\n",
       "        <th>council_district</th>\n",
       "        <th>public_works_division</th>\n",
       "        <th>x</th>\n",
       "        <th>y</th>\n",
       "    </tr>\n",
       "    <tr>\n",
       "        <td>4</td>\n",
       "        <td>1974550</td>\n",
       "        <td>16145257</td>\n",
       "        <td>25</td>\n",
       "        <td>F</td>\n",
       "        <td>W</td>\n",
       "        <td>2016-08-05 02:36:00</td>\n",
       "        <td>Foreland ST &amp; Cedar AV Pittsburgh, PA 15212</td>\n",
       "        <td>5503 Disorderly Conduct. / 5505 Public Drunkenness</td>\n",
       "        <td>Foreland ST &amp; Cedar AV Pittsburgh, PA 15212</td>\n",
       "        <td>East Allegheny</td>\n",
       "        <td>1</td>\n",
       "        <td>2304</td>\n",
       "        <td>1</td>\n",
       "        <td>1</td>\n",
       "        <td>-80.0019387579446</td>\n",
       "        <td>40.454080431959</td>\n",
       "    </tr>\n",
       "    <tr>\n",
       "        <td>1713</td>\n",
       "        <td>1976626</td>\n",
       "        <td>16186051</td>\n",
       "        <td>29</td>\n",
       "        <td>M</td>\n",
       "        <td>B</td>\n",
       "        <td>2016-10-02 04:11:00</td>\n",
       "        <td>4600 Block Browns Hill RD Pittsburgh, PA 15217</td>\n",
       "        <td>9093 Indirect Criminal Contempt</td>\n",
       "        <td>4600 Block Browns Hill RD Pittsburgh, PA 15217</td>\n",
       "        <td>Squirrel Hill South</td>\n",
       "        <td>4</td>\n",
       "        <td>1414</td>\n",
       "        <td>5</td>\n",
       "        <td>3</td>\n",
       "        <td>-79.9249410972177</td>\n",
       "        <td>40.4155942417593</td>\n",
       "    </tr>\n",
       "    <tr>\n",
       "        <td>1902</td>\n",
       "        <td>1976884</td>\n",
       "        <td>16194344</td>\n",
       "        <td>36</td>\n",
       "        <td>M</td>\n",
       "        <td>B</td>\n",
       "        <td>2016-10-14 15:34:00</td>\n",
       "        <td>100 Block Broad ST &amp; N Whitfield ST Pittsburgh, PA 15206</td>\n",
       "        <td>4910 Tampering with or Fabricating Physical Evidence. / 13(a)(32) Paraphernalia - Use or Possession / 4914 False Identification to Law Enforcement Authorities</td>\n",
       "        <td>100 Block Broad ST &amp; N Whitfield ST Pittsburgh, PA 15206</td>\n",
       "        <td>East Liberty</td>\n",
       "        <td>5</td>\n",
       "        <td>1115</td>\n",
       "        <td>None</td>\n",
       "        <td>None</td>\n",
       "        <td>0.0</td>\n",
       "        <td>0.0</td>\n",
       "    </tr>\n",
       "    <tr>\n",
       "        <td>5</td>\n",
       "        <td>1974596</td>\n",
       "        <td>16145962</td>\n",
       "        <td>25</td>\n",
       "        <td>M</td>\n",
       "        <td>B</td>\n",
       "        <td>2016-08-06 02:00:00</td>\n",
       "        <td>900 Block Woodlow ST Pittsburgh, PA 15205</td>\n",
       "        <td>2702 Aggravated Assault. / 2705 Recklessy Endangering Another Person. / 3925 Receiving Stolen Property. / 4304(a)(1) Endangering Welfare of Children.</td>\n",
       "        <td>900 Block Woodlow ST Pittsburgh, PA 15205</td>\n",
       "        <td>Crafton Heights</td>\n",
       "        <td>5</td>\n",
       "        <td>2814</td>\n",
       "        <td>2</td>\n",
       "        <td>5</td>\n",
       "        <td>-80.0522041374568</td>\n",
       "        <td>40.4458998235053</td>\n",
       "    </tr>\n",
       "    <tr>\n",
       "        <td>14</td>\n",
       "        <td>1974578</td>\n",
       "        <td>16144432</td>\n",
       "        <td>27</td>\n",
       "        <td>M</td>\n",
       "        <td>W</td>\n",
       "        <td>2016-08-13 15:43:00</td>\n",
       "        <td>1300 Block E Carson ST Pittsburgh, PA 15203</td>\n",
       "        <td>3921(a) Theft by Unlawful Taking or Disposition - Movable item</td>\n",
       "        <td>1000 Block Lessing ST Pittsburgh, PA 15205</td>\n",
       "        <td>Crafton Heights</td>\n",
       "        <td>6</td>\n",
       "        <td>2814</td>\n",
       "        <td>2</td>\n",
       "        <td>5</td>\n",
       "        <td>-80.0496857912552</td>\n",
       "        <td>40.4439178364361</td>\n",
       "    </tr>\n",
       "    <tr>\n",
       "        <td>19</td>\n",
       "        <td>1975192</td>\n",
       "        <td>16150754</td>\n",
       "        <td>33</td>\n",
       "        <td>M</td>\n",
       "        <td>W</td>\n",
       "        <td>2016-08-12 21:07:00</td>\n",
       "        <td>1500 Block Milan AV Pittsburgh, PA 15226</td>\n",
       "        <td>9501 Bench Warrant</td>\n",
       "        <td>1500 Block Milan AV Pittsburgh, PA 15226</td>\n",
       "        <td>Brookline</td>\n",
       "        <td>6</td>\n",
       "        <td>3206</td>\n",
       "        <td>4</td>\n",
       "        <td>4</td>\n",
       "        <td>-80.0058032356292</td>\n",
       "        <td>40.3938682477685</td>\n",
       "    </tr>\n",
       "    <tr>\n",
       "        <td>1005</td>\n",
       "        <td>1975718</td>\n",
       "        <td>16166519</td>\n",
       "        <td>22</td>\n",
       "        <td>M</td>\n",
       "        <td>A</td>\n",
       "        <td>2016-09-06 16:44:00</td>\n",
       "        <td>600 Block 1st AV Pittsburgh, PA 15219</td>\n",
       "        <td>493(1) Furnishing Liquor/Malt to Intox.Persons/Minors.Etc. / 6310.1 Selling Liquor to Minors / 601.19 Social Host and Underage Drinking</td>\n",
       "        <td>300 Block Atwood ST Pittsburgh, PA 15213</td>\n",
       "        <td>Central Oakland</td>\n",
       "        <td>4</td>\n",
       "        <td>405</td>\n",
       "        <td>3</td>\n",
       "        <td>3</td>\n",
       "        <td>-79.9559451409605</td>\n",
       "        <td>40.4395175941235</td>\n",
       "    </tr>\n",
       "    <tr>\n",
       "        <td>1503</td>\n",
       "        <td>1976375</td>\n",
       "        <td>16180874</td>\n",
       "        <td>20</td>\n",
       "        <td>F</td>\n",
       "        <td>B</td>\n",
       "        <td>2016-09-24 14:00:00</td>\n",
       "        <td>Beaver AV &amp; Pennsylvania AV Pittsburgh, PA 15233</td>\n",
       "        <td>903 Criminal Conspiracy. / 3502 Burglary. / 3701 Robbery.</td>\n",
       "        <td>10 Block Mitchell ST Pittsburgh, PA 15212</td>\n",
       "        <td>Marshall-Shadeland</td>\n",
       "        <td>1</td>\n",
       "        <td>2715</td>\n",
       "        <td>1</td>\n",
       "        <td>1</td>\n",
       "        <td>-80.0298621150587</td>\n",
       "        <td>40.4770183009667</td>\n",
       "    </tr>\n",
       "    <tr>\n",
       "        <td>2401</td>\n",
       "        <td>1977545</td>\n",
       "        <td>16204926</td>\n",
       "        <td>28</td>\n",
       "        <td>M</td>\n",
       "        <td>B</td>\n",
       "        <td>2016-10-30 22:00:00</td>\n",
       "        <td>1100 Block Buente ST Pittsburgh, PA 15212</td>\n",
       "        <td>903 Criminal Conspiracy. / 2901 Kidnapping. / 2902 Unlawful Restraint. / 2903 False Imprisonment. / 3701 Robbery.</td>\n",
       "        <td>300 Block S Main ST Pittsburgh, PA 15220</td>\n",
       "        <td>West End</td>\n",
       "        <td>6</td>\n",
       "        <td>2019</td>\n",
       "        <td>7</td>\n",
       "        <td>2</td>\n",
       "        <td>-79.9579443641231</td>\n",
       "        <td>40.4673750344012</td>\n",
       "    </tr>\n",
       "    <tr>\n",
       "        <td>1903</td>\n",
       "        <td>1976885</td>\n",
       "        <td>16194377</td>\n",
       "        <td>21</td>\n",
       "        <td>M</td>\n",
       "        <td>W</td>\n",
       "        <td>2016-10-14 16:35:00</td>\n",
       "        <td>Henderson ST &amp; Sandusky CT Pittsburgh, PA 15212</td>\n",
       "        <td>4910 Tampering with or Fabricating Physical Evidence. / 13(a)(16) Possession of Controlled Substance / 3503(b)(1)(ii) Defiant Trespass Notice Posted by Sign(s)</td>\n",
       "        <td>Henderson ST &amp; Sandusky CT Pittsburgh, PA 15212</td>\n",
       "        <td>Fineview</td>\n",
       "        <td>1</td>\n",
       "        <td>2509</td>\n",
       "        <td>6</td>\n",
       "        <td>1</td>\n",
       "        <td>-80.0056236909827</td>\n",
       "        <td>40.4592271304641</td>\n",
       "    </tr>\n",
       "</table>"
      ],
      "text/plain": [
       "[(4, 1974550, 16145257, 25, 'F', 'W', datetime.datetime(2016, 8, 5, 2, 36), 'Foreland ST & Cedar AV Pittsburgh, PA 15212', '5503 Disorderly Conduct. / 5505 Public Drunkenness', 'Foreland ST & Cedar AV Pittsburgh, PA 15212', 'East Allegheny', '1', 2304, 1, 1, -80.0019387579446, 40.454080431959),\n",
       " (1713, 1976626, 16186051, 29, 'M', 'B', datetime.datetime(2016, 10, 2, 4, 11), '4600 Block Browns Hill RD Pittsburgh, PA 15217', '9093 Indirect Criminal Contempt', '4600 Block Browns Hill RD Pittsburgh, PA 15217', 'Squirrel Hill South', '4', 1414, 5, 3, -79.9249410972177, 40.4155942417593),\n",
       " (1902, 1976884, 16194344, 36, 'M', 'B', datetime.datetime(2016, 10, 14, 15, 34), '100 Block Broad ST & N Whitfield ST Pittsburgh, PA 15206', '4910 Tampering with or Fabricating Physical Evidence. / 13(a)(32) Paraphernalia - Use or Possession / 4914 False Identification to Law Enforcement Authorities', '100 Block Broad ST & N Whitfield ST Pittsburgh, PA 15206', 'East Liberty', '5', 1115, None, None, 0.0, 0.0),\n",
       " (5, 1974596, 16145962, 25, 'M', 'B', datetime.datetime(2016, 8, 6, 2, 0), '900 Block Woodlow ST Pittsburgh, PA 15205', '2702 Aggravated Assault. / 2705 Recklessy Endangering Another Person. / 3925 Receiving Stolen Property. / 4304(a)(1) Endangering Welfare of Children.', '900 Block Woodlow ST Pittsburgh, PA 15205', 'Crafton Heights', '5', 2814, 2, 5, -80.0522041374568, 40.4458998235053),\n",
       " (14, 1974578, 16144432, 27, 'M', 'W', datetime.datetime(2016, 8, 13, 15, 43), '1300 Block E Carson ST Pittsburgh, PA 15203', '3921(a) Theft by Unlawful Taking or Disposition - Movable item', '1000 Block Lessing ST Pittsburgh, PA 15205', 'Crafton Heights', '6', 2814, 2, 5, -80.0496857912552, 40.4439178364361),\n",
       " (19, 1975192, 16150754, 33, 'M', 'W', datetime.datetime(2016, 8, 12, 21, 7), '1500 Block Milan AV Pittsburgh, PA 15226', '9501 Bench Warrant', '1500 Block Milan AV Pittsburgh, PA 15226', 'Brookline', '6', 3206, 4, 4, -80.0058032356292, 40.3938682477685),\n",
       " (1005, 1975718, 16166519, 22, 'M', 'A', datetime.datetime(2016, 9, 6, 16, 44), '600 Block 1st AV Pittsburgh, PA 15219', '493(1) Furnishing Liquor/Malt to Intox.Persons/Minors.Etc. / 6310.1 Selling Liquor to Minors / 601.19 Social Host and Underage Drinking', '300 Block Atwood ST Pittsburgh, PA 15213', 'Central Oakland', '4', 405, 3, 3, -79.9559451409605, 40.4395175941235),\n",
       " (1503, 1976375, 16180874, 20, 'F', 'B', datetime.datetime(2016, 9, 24, 14, 0), 'Beaver AV & Pennsylvania AV Pittsburgh, PA 15233', '903 Criminal Conspiracy. / 3502 Burglary. / 3701 Robbery.', '10 Block Mitchell ST Pittsburgh, PA 15212', 'Marshall-Shadeland', '1', 2715, 1, 1, -80.0298621150587, 40.4770183009667),\n",
       " (2401, 1977545, 16204926, 28, 'M', 'B', datetime.datetime(2016, 10, 30, 22, 0), '1100 Block Buente ST Pittsburgh, PA 15212', '903 Criminal Conspiracy. / 2901 Kidnapping. / 2902 Unlawful Restraint. / 2903 False Imprisonment. / 3701 Robbery.', '300 Block S Main ST Pittsburgh, PA 15220', 'West End', '6', 2019, 7, 2, -79.9579443641231, 40.4673750344012),\n",
       " (1903, 1976885, 16194377, 21, 'M', 'W', datetime.datetime(2016, 10, 14, 16, 35), 'Henderson ST & Sandusky CT Pittsburgh, PA 15212', '4910 Tampering with or Fabricating Physical Evidence. / 13(a)(16) Possession of Controlled Substance / 3503(b)(1)(ii) Defiant Trespass Notice Posted by Sign(s)', 'Henderson ST & Sandusky CT Pittsburgh, PA 15212', 'Fineview', '1', 2509, 6, 1, -80.0056236909827, 40.4592271304641)]"
      ]
     },
     "execution_count": 65,
     "metadata": {},
     "output_type": "execute_result"
    }
   ],
   "source": [
    "%%sql\n",
    "SELECT *\n",
    "FROM arrest\n",
    "LIMIT 10;"
   ]
  },
  {
   "cell_type": "code",
   "execution_count": 66,
   "metadata": {
    "collapsed": false
   },
   "outputs": [
    {
     "name": "stdout",
     "output_type": "stream",
     "text": [
      "Done.\n",
      "Done.\n"
     ]
    },
    {
     "data": {
      "text/plain": [
       "[]"
      ]
     },
     "execution_count": 66,
     "metadata": {},
     "output_type": "execute_result"
    }
   ],
   "source": [
    "%%sql\n",
    "DROP TABLE IF EXISTS person_dim;\n",
    "CREATE TABLE person_dim (\n",
    "  person_dim_id SERIAL PRIMARY KEY,\n",
    "  age INTEGER, \n",
    "  gender VARCHAR(4) DEFAULT NULL,\n",
    "  race VARCHAR(1) DEFAULT NULL,\n",
    "  public_works_division INTEGER\n",
    ");"
   ]
  },
  {
   "cell_type": "code",
   "execution_count": 67,
   "metadata": {
    "collapsed": false
   },
   "outputs": [
    {
     "name": "stdout",
     "output_type": "stream",
     "text": [
      "2525 rows affected.\n"
     ]
    },
    {
     "data": {
      "text/plain": [
       "[]"
      ]
     },
     "execution_count": 67,
     "metadata": {},
     "output_type": "execute_result"
    }
   ],
   "source": [
    "%%sql\n",
    "INSERT INTO person_dim (age, gender, race, public_works_division)\n",
    "SELECT \n",
    "    age, \n",
    "    gender,\n",
    "    race,\n",
    "    public_works_division\n",
    "FROM arrest\n",
    ";"
   ]
  },
  {
   "cell_type": "code",
   "execution_count": 68,
   "metadata": {
    "collapsed": false
   },
   "outputs": [
    {
     "name": "stdout",
     "output_type": "stream",
     "text": [
      "10 rows affected.\n"
     ]
    },
    {
     "data": {
      "text/html": [
       "<table>\n",
       "    <tr>\n",
       "        <th>person_dim_id</th>\n",
       "        <th>age</th>\n",
       "        <th>gender</th>\n",
       "        <th>race</th>\n",
       "        <th>public_works_division</th>\n",
       "    </tr>\n",
       "    <tr>\n",
       "        <td>1</td>\n",
       "        <td>25</td>\n",
       "        <td>F</td>\n",
       "        <td>W</td>\n",
       "        <td>1</td>\n",
       "    </tr>\n",
       "    <tr>\n",
       "        <td>2</td>\n",
       "        <td>29</td>\n",
       "        <td>M</td>\n",
       "        <td>B</td>\n",
       "        <td>3</td>\n",
       "    </tr>\n",
       "    <tr>\n",
       "        <td>3</td>\n",
       "        <td>36</td>\n",
       "        <td>M</td>\n",
       "        <td>B</td>\n",
       "        <td>None</td>\n",
       "    </tr>\n",
       "    <tr>\n",
       "        <td>4</td>\n",
       "        <td>25</td>\n",
       "        <td>M</td>\n",
       "        <td>B</td>\n",
       "        <td>5</td>\n",
       "    </tr>\n",
       "    <tr>\n",
       "        <td>5</td>\n",
       "        <td>27</td>\n",
       "        <td>M</td>\n",
       "        <td>W</td>\n",
       "        <td>5</td>\n",
       "    </tr>\n",
       "    <tr>\n",
       "        <td>6</td>\n",
       "        <td>33</td>\n",
       "        <td>M</td>\n",
       "        <td>W</td>\n",
       "        <td>4</td>\n",
       "    </tr>\n",
       "    <tr>\n",
       "        <td>7</td>\n",
       "        <td>22</td>\n",
       "        <td>M</td>\n",
       "        <td>A</td>\n",
       "        <td>3</td>\n",
       "    </tr>\n",
       "    <tr>\n",
       "        <td>8</td>\n",
       "        <td>20</td>\n",
       "        <td>F</td>\n",
       "        <td>B</td>\n",
       "        <td>1</td>\n",
       "    </tr>\n",
       "    <tr>\n",
       "        <td>9</td>\n",
       "        <td>28</td>\n",
       "        <td>M</td>\n",
       "        <td>B</td>\n",
       "        <td>2</td>\n",
       "    </tr>\n",
       "    <tr>\n",
       "        <td>10</td>\n",
       "        <td>21</td>\n",
       "        <td>M</td>\n",
       "        <td>W</td>\n",
       "        <td>1</td>\n",
       "    </tr>\n",
       "</table>"
      ],
      "text/plain": [
       "[(1, 25, 'F', 'W', 1),\n",
       " (2, 29, 'M', 'B', 3),\n",
       " (3, 36, 'M', 'B', None),\n",
       " (4, 25, 'M', 'B', 5),\n",
       " (5, 27, 'M', 'W', 5),\n",
       " (6, 33, 'M', 'W', 4),\n",
       " (7, 22, 'M', 'A', 3),\n",
       " (8, 20, 'F', 'B', 1),\n",
       " (9, 28, 'M', 'B', 2),\n",
       " (10, 21, 'M', 'W', 1)]"
      ]
     },
     "execution_count": 68,
     "metadata": {},
     "output_type": "execute_result"
    }
   ],
   "source": [
    "%%sql\n",
    "SELECT * \n",
    "FROM person_dim\n",
    "LIMIT 10;"
   ]
  },
  {
   "cell_type": "markdown",
   "metadata": {
    "collapsed": true
   },
   "source": [
    "The above is the new dimension table we created which includes detailed personal information about the criminal is Pittsburgh area. These information are useful supplement to our existing star schema. \n",
    "\n",
    "Xinyi LU and Boer FENG do each part together and we all contribute significantly to this project."
   ]
  }
 ],
 "metadata": {
  "anaconda-cloud": {},
  "kernelspec": {
   "display_name": "Python [Root]",
   "language": "python",
   "name": "Python [Root]"
  },
  "language_info": {
   "codemirror_mode": {
    "name": "ipython",
    "version": 3
   },
   "file_extension": ".py",
   "mimetype": "text/x-python",
   "name": "python",
   "nbconvert_exporter": "python",
   "pygments_lexer": "ipython3",
   "version": "3.5.2"
  }
 },
 "nbformat": 4,
 "nbformat_minor": 1
}
