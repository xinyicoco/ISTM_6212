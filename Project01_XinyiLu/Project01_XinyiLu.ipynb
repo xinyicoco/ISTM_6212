{
 "cells": [
  {
   "cell_type": "markdown",
   "metadata": {},
   "source": [
    "#Problem 1\n",
    "\n",
    "#Part A"
   ]
  },
  {
   "cell_type": "code",
   "execution_count": 2,
   "metadata": {
    "collapsed": false
   },
   "outputs": [
    {
     "name": "stdout",
     "output_type": "stream",
     "text": [
      "--2016-09-22 16:45:05--  https://raw.githubusercontent.com/gwsb-istm-6212-fall-2016/syllabus-and-schedule/master/projects/project-01/women.txt\n",
      "Resolving raw.githubusercontent.com (raw.githubusercontent.com)... 151.101.32.133\n",
      "Connecting to raw.githubusercontent.com (raw.githubusercontent.com)|151.101.32.133|:443... connected.\n",
      "HTTP request sent, awaiting response... 200 OK\n",
      "Length: 1053440 (1.0M) [text/plain]\n",
      "Saving to: ‘women.txt’\n",
      "\n",
      "women.txt           100%[===================>]   1.00M  --.-KB/s    in 0.1s    \n",
      "\n",
      "2016-09-22 16:45:05 (8.77 MB/s) - ‘women.txt’ saved [1053440/1053440]\n",
      "\n"
     ]
    }
   ],
   "source": [
    "!wget https://raw.githubusercontent.com/gwsb-istm-6212-fall-2016/syllabus-and-schedule/master/projects/project-01/women.txt"
   ]
  },
  {
   "cell_type": "code",
   "execution_count": 24,
   "metadata": {
    "collapsed": false
   },
   "outputs": [
    {
     "name": "stdout",
     "output_type": "stream",
     "text": [
      "   18877\r\n"
     ]
    }
   ],
   "source": [
    "!grep Jo women.txt | wc -w"
   ]
  },
  {
   "cell_type": "code",
   "execution_count": 8,
   "metadata": {
    "collapsed": false
   },
   "outputs": [
    {
     "name": "stdout",
     "output_type": "stream",
     "text": [
      "5684\r\n"
     ]
    }
   ],
   "source": [
    "!grep Beth women.txt | wc -w"
   ]
  },
  {
   "cell_type": "code",
   "execution_count": 9,
   "metadata": {
    "collapsed": false
   },
   "outputs": [
    {
     "name": "stdout",
     "output_type": "stream",
     "text": [
      "8314\r\n"
     ]
    }
   ],
   "source": [
    "!grep Meg women.txt | wc -w"
   ]
  },
  {
   "cell_type": "code",
   "execution_count": 10,
   "metadata": {
    "collapsed": false
   },
   "outputs": [
    {
     "name": "stdout",
     "output_type": "stream",
     "text": [
      "7933\r\n"
     ]
    }
   ],
   "source": [
    "!grep Amy women.txt | wc -w"
   ]
  },
  {
   "cell_type": "markdown",
   "metadata": {
    "collapsed": true
   },
   "source": [
    "#Part B"
   ]
  },
  {
   "cell_type": "code",
   "execution_count": 12,
   "metadata": {
    "collapsed": false
   },
   "outputs": [
    {
     "name": "stdout",
     "output_type": "stream",
     "text": [
      "--2016-09-22 16:50:11--  https://raw.githubusercontent.com/gwsb-istm-6212-fall-2016/syllabus-and-schedule/master/projects/project-01/romeo.txt\n",
      "Resolving raw.githubusercontent.com (raw.githubusercontent.com)... 151.101.32.133\n",
      "Connecting to raw.githubusercontent.com (raw.githubusercontent.com)|151.101.32.133|:443... connected.\n",
      "HTTP request sent, awaiting response... 200 OK\n",
      "Length: 178983 (175K) [text/plain]\n",
      "Saving to: ‘romeo.txt’\n",
      "\n",
      "romeo.txt           100%[===================>] 174.79K  --.-KB/s    in 0.01s   \n",
      "\n",
      "2016-09-22 16:50:11 (11.5 MB/s) - ‘romeo.txt’ saved [178983/178983]\n",
      "\n"
     ]
    }
   ],
   "source": [
    "!wget https://raw.githubusercontent.com/gwsb-istm-6212-fall-2016/syllabus-and-schedule/master/projects/project-01/romeo.txt"
   ]
  },
  {
   "cell_type": "markdown",
   "metadata": {},
   "source": [
    "Since the speaking lines start with \"Rom.\" and \"Jul.\", I found the word count of those two words. \"\\\" used to escape \".\"."
   ]
  },
  {
   "cell_type": "code",
   "execution_count": 15,
   "metadata": {
    "collapsed": false
   },
   "outputs": [
    {
     "name": "stdout",
     "output_type": "stream",
     "text": [
      "    1519\r\n"
     ]
    }
   ],
   "source": [
    "!grep -n 'Rom\\.' romeo.txt | wc -w"
   ]
  },
  {
   "cell_type": "code",
   "execution_count": 16,
   "metadata": {
    "collapsed": false
   },
   "outputs": [
    {
     "name": "stdout",
     "output_type": "stream",
     "text": [
      "    1141\r\n"
     ]
    }
   ],
   "source": [
    "!grep -n 'Jul\\.' romeo.txt | wc -w"
   ]
  },
  {
   "cell_type": "markdown",
   "metadata": {
    "collapsed": true
   },
   "source": [
    "#Problem 2\n",
    "\n",
    "#Part A"
   ]
  },
  {
   "cell_type": "code",
   "execution_count": 1,
   "metadata": {
    "collapsed": false
   },
   "outputs": [
    {
     "name": "stdout",
     "output_type": "stream",
     "text": [
      "--2016-09-23 01:11:05--  https://raw.githubusercontent.com/gwsb-istm-6212-fall-2016/syllabus-and-schedule/master/projects/project-01/2016q1.csv.zip\n",
      "Resolving raw.githubusercontent.com... 151.101.32.133\n",
      "Connecting to raw.githubusercontent.com|151.101.32.133|:443... connected.\n",
      "HTTP request sent, awaiting response... 200 OK\n",
      "Length: 10643003 (10M) [application/octet-stream]\n",
      "Saving to: '2016q1.csv.zip'\n",
      "\n",
      "2016q1.csv.zip      100%[===================>]  10.15M  4.78MB/s    in 2.1s    \n",
      "\n",
      "2016-09-23 01:11:07 (4.78 MB/s) - '2016q1.csv.zip' saved [10643003/10643003]\n",
      "\n"
     ]
    }
   ],
   "source": [
    "!wget https://raw.githubusercontent.com/gwsb-istm-6212-fall-2016/syllabus-and-schedule/master/projects/project-01/2016q1.csv.zip"
   ]
  },
  {
   "cell_type": "code",
   "execution_count": 2,
   "metadata": {
    "collapsed": false
   },
   "outputs": [
    {
     "name": "stdout",
     "output_type": "stream",
     "text": [
      "Archive:  2016q1.csv.zip\n",
      "  inflating: 2016q1.csv              \n"
     ]
    }
   ],
   "source": [
    "!unzip 2016q1.csv.zip"
   ]
  },
  {
   "cell_type": "code",
   "execution_count": 3,
   "metadata": {
    "collapsed": true
   },
   "outputs": [],
   "source": [
    "!mv 2016q1.csv q1.csv"
   ]
  },
  {
   "cell_type": "code",
   "execution_count": 4,
   "metadata": {
    "collapsed": false
   },
   "outputs": [
    {
     "name": "stdout",
     "output_type": "stream",
     "text": [
      "Duration (ms),Start date,End date,Start station number,Start station,End station number,End station,Bike number,Member Type\r",
      "\r\n",
      "301295,3/31/2016 23:59,4/1/2016 0:04,31280,11th & S St NW,31506,1st & Rhode Island Ave NW,W00022,Registered\r",
      "\r\n",
      "557887,3/31/2016 23:59,4/1/2016 0:08,31275,New Hampshire Ave & 24th St NW,31114,18th St & Wyoming Ave NW,W01294,Registered\r",
      "\r\n",
      "555944,3/31/2016 23:59,4/1/2016 0:08,31101,14th & V St NW,31221,18th & M St NW,W01416,Registered\r",
      "\r\n",
      "766916,3/31/2016 23:57,4/1/2016 0:09,31226,34th St & Wisconsin Ave NW,31214,17th & Corcoran St NW,W01090,Registered\r",
      "\r\n",
      "139656,3/31/2016 23:57,3/31/2016 23:59,31011,23rd & Crystal Dr,31009,27th & Crystal Dr,W21934,Registered\r",
      "\r\n",
      "967713,3/31/2016 23:57,4/1/2016 0:13,31266,11th & M St NW,31600,5th & K St NW,W20562,Casual\r",
      "\r\n",
      "534836,3/31/2016 23:57,4/1/2016 0:06,31222,New York Ave & 15th St NW,31278,18th & R St NW,W20222,Registered\r",
      "\r\n",
      "243864,3/31/2016 23:56,4/1/2016 0:00,31228,8th & H St NW,31600,5th & K St NW,W20291,Registered\r",
      "\r\n",
      "372524,3/31/2016 23:55,4/1/2016 0:01,31113,Columbia Rd & Belmont St NW,31234,20th & O St NW / Dupont South,W20590,Registered\r",
      "\r\n"
     ]
    }
   ],
   "source": [
    "!head q1.csv"
   ]
  },
  {
   "cell_type": "code",
   "execution_count": 7,
   "metadata": {
    "collapsed": false
   },
   "outputs": [
    {
     "name": "stdout",
     "output_type": "stream",
     "text": [
      "  1: Duration (ms)\r\n",
      "  2: Start date\r\n",
      "  3: End date\r\n",
      "  4: Start station number\r\n",
      "  5: Start station\r\n",
      "  6: End station number\r\n",
      "  7: End station\r\n",
      "  8: Bike number\r\n",
      "  9: Member Type\r\n"
     ]
    }
   ],
   "source": [
    "!csvcut -n q1.csv"
   ]
  },
  {
   "cell_type": "code",
   "execution_count": 9,
   "metadata": {
    "collapsed": false
   },
   "outputs": [
    {
     "name": "stdout",
     "output_type": "stream",
     "text": [
      "13120 Columbus Circle / Union Station\r\n",
      "9560 Massachusetts Ave & Dupont Circle NW\r\n",
      "9388 Lincoln Memorial\r\n",
      "8138 Jefferson Dr & 14th St SW\r\n",
      "7479 Thomas Circle\r\n",
      "7401 15th & P St NW\r\n",
      "6568 14th & V St NW\r\n",
      "6491 New Hampshire Ave & T St NW\r\n",
      "5649 Eastern Market Metro / Pennsylvania Ave & 7th St SE\r\n",
      "5514 17th & Corcoran St NW\r\n"
     ]
    }
   ],
   "source": [
    "!csvcut -c5 q1.csv | csvsort | uniq -c | sort -rn | head -10"
   ]
  },
  {
   "cell_type": "code",
   "execution_count": 10,
   "metadata": {
    "collapsed": false
   },
   "outputs": [
    {
     "name": "stdout",
     "output_type": "stream",
     "text": [
      "13880 Columbus Circle / Union Station\r\n",
      "11183 Massachusetts Ave & Dupont Circle NW\r\n",
      "9419 Lincoln Memorial\r\n",
      "8975 Jefferson Dr & 14th St SW\r\n",
      "8092 15th & P St NW\r\n",
      "7267 14th & V St NW\r\n",
      "6997 Thomas Circle\r\n",
      "6245 New Hampshire Ave & T St NW\r\n",
      "5761 5th & K St NW\r\n",
      "5651 17th & Corcoran St NW\r\n"
     ]
    }
   ],
   "source": [
    "!csvcut -c7 q1.csv | csvsort | uniq -c | sort -rn | head -10"
   ]
  },
  {
   "cell_type": "markdown",
   "metadata": {
    "collapsed": true
   },
   "source": [
    "#Part B\n",
    "\n",
    "From Part A, we can see that the most popular start station and destination station is \"Columbus Circle / Union Station\". So I sort the bike number under this station."
   ]
  },
  {
   "cell_type": "code",
   "execution_count": 13,
   "metadata": {
    "collapsed": false
   },
   "outputs": [
    {
     "name": "stdout",
     "output_type": "stream",
     "text": [
      "  17 W22227\r\n",
      "  16 W21867\r\n",
      "  16 W21641\r\n",
      "  16 W21538\r\n",
      "  16 W21239\r\n",
      "  16 W20540\r\n",
      "  16 W00714\r\n",
      "  15 W22080\r\n",
      "  15 W21450\r\n",
      "  15 W21076\r\n"
     ]
    }
   ],
   "source": [
    "!csvcut -c5,8 q1.csv | csvgrep -c1 -m 'Columbus Circle / Union Station' | csvcut  -c2 | csvsort -c1 | uniq -c | sort -rn | head -10"
   ]
  },
  {
   "cell_type": "code",
   "execution_count": 14,
   "metadata": {
    "collapsed": false
   },
   "outputs": [
    {
     "name": "stdout",
     "output_type": "stream",
     "text": [
      "  17 W22227\r\n",
      "  16 W21867\r\n",
      "  16 W21641\r\n",
      "  16 W21538\r\n",
      "  16 W21239\r\n",
      "  16 W20540\r\n",
      "  16 W00714\r\n",
      "  15 W22080\r\n",
      "  15 W21450\r\n",
      "  15 W21076\r\n"
     ]
    }
   ],
   "source": [
    "!csvcut -c5,8 q1.csv | csvgrep -c1 -m 'Columbus Circle / Union Station' | csvcut  -c2 | csvsort -c1 | uniq -c | sort -rn | head -10"
   ]
  },
  {
   "cell_type": "markdown",
   "metadata": {
    "collapsed": true
   },
   "source": [
    "#Problem 3 "
   ]
  },
  {
   "cell_type": "code",
   "execution_count": 17,
   "metadata": {
    "collapsed": false
   },
   "outputs": [
    {
     "name": "stdout",
     "output_type": "stream",
     "text": [
      "8155 and\r\n",
      "7689 the\r\n",
      "5152 to\r\n",
      "3523 of\r\n",
      "3245 her\r\n",
      "2774 it\r\n",
      "2503 in\r\n",
      "2447 you\r\n",
      "2343 she\r\n",
      "2233 for\r\n",
      "sort: write failed: standard output: Broken pipe\r\n",
      "sort: write error\r\n"
     ]
    }
   ],
   "source": [
    "!cat women.txt| grep -oE '\\w{{2,}}' | tr '[:upper:]' '[:lower:]' | sort | uniq -c | sort -rn | head -10"
   ]
  },
  {
   "cell_type": "markdown",
   "metadata": {},
   "source": [
    "I created three python filter scripts: filter_wordsplit.py, filter_tolower.py and filter_stopword.py"
   ]
  },
  {
   "cell_type": "code",
   "execution_count": 4,
   "metadata": {
    "collapsed": true
   },
   "outputs": [],
   "source": [
    "!chmod +x filter_wordsplit.py\n",
    "!chmod +x filter_tolower.py\n",
    "!chmod +x filter_stopword.py"
   ]
  },
  {
   "cell_type": "code",
   "execution_count": 5,
   "metadata": {
    "collapsed": false
   },
   "outputs": [
    {
     "name": "stdout",
     "output_type": "stream",
     "text": [
      "8155 and\r\n",
      "7689 the\r\n",
      "5152 to\r\n",
      "3523 of\r\n",
      "3245 her\r\n",
      "2774 it\r\n",
      "2503 in\r\n",
      "2447 you\r\n",
      "2343 she\r\n",
      "2233 for\r\n",
      "sort: write failed: standard output: Broken pipe\r\n",
      "sort: write error\r\n"
     ]
    }
   ],
   "source": [
    "!cat women.txt | ./filter_wordsplit.py | ./filter_tolower.py | sort | uniq -c | sort -r | head -10"
   ]
  },
  {
   "cell_type": "code",
   "execution_count": 6,
   "metadata": {
    "collapsed": false,
    "scrolled": false
   },
   "outputs": [
    {
     "name": "stdout",
     "output_type": "stream",
     "text": [
      "1362 jo\r\n",
      " 730 little\r\n",
      " 686 meg\r\n",
      " 652 amy\r\n",
      " 598 laurie\r\n",
      " 550 don\r\n",
      " 467 beth\r\n",
      " 377 mother\r\n",
      " 361 ll\r\n",
      " 321 time\r\n",
      " 317 march\r\n",
      " 273 home\r\n",
      " 268 girls\r\n",
      " 263 dear\r\n",
      " 242 day\r\n",
      " 240 looked\r\n",
      " 238 look\r\n",
      " 218 tell\r\n",
      " 214 love\r\n",
      " 208 eyes\r\n",
      " 204 heart\r\n",
      " 190 till\r\n",
      " 190 help\r\n",
      " 187 ve\r\n",
      " 187 head\r\n",
      "sort: write failed: standard output: Broken pipe\r\n",
      "sort: write error\r\n"
     ]
    }
   ],
   "source": [
    "!cat women.txt | ./filter_wordsplit.py | ./filter_tolower.py | ./filter_stopword.py | sort | uniq -c | sort -r | head -25"
   ]
  },
  {
   "cell_type": "markdown",
   "metadata": {
    "collapsed": true
   },
   "source": [
    "Extra:"
   ]
  },
  {
   "cell_type": "code",
   "execution_count": 18,
   "metadata": {
    "collapsed": false
   },
   "outputs": [
    {
     "name": "stdout",
     "output_type": "stream",
     "text": [
      "--2016-09-23 10:50:52--  https://raw.githubusercontent.com/gwsb-istm-6212-fall-2016/syllabus-and-schedule/master/projects/project-01/texts.zip\n",
      "Resolving raw.githubusercontent.com... 151.101.32.133\n",
      "Connecting to raw.githubusercontent.com|151.101.32.133|:443... connected.\n",
      "HTTP request sent, awaiting response... 200 OK\n",
      "Length: 12668137 (12M) [application/octet-stream]\n",
      "Saving to: 'texts.zip'\n",
      "\n",
      "texts.zip           100%[===================>]  12.08M  5.35MB/s    in 2.3s    \n",
      "\n",
      "2016-09-23 10:50:55 (5.35 MB/s) - 'texts.zip' saved [12668137/12668137]\n",
      "\n"
     ]
    }
   ],
   "source": [
    "!wget  https://raw.githubusercontent.com/gwsb-istm-6212-fall-2016/syllabus-and-schedule/master/projects/project-01/texts.zip"
   ]
  },
  {
   "cell_type": "code",
   "execution_count": 19,
   "metadata": {
    "collapsed": false
   },
   "outputs": [
    {
     "name": "stdout",
     "output_type": "stream",
     "text": [
      "Archive:  texts.zip\n",
      "  inflating: 10001.txt               \n",
      "  inflating: 10002.txt               \n",
      "  inflating: 10003.txt               \n",
      "  inflating: 10004.txt               \n",
      "  inflating: 10005.txt               \n",
      "  inflating: 10006.txt               \n",
      "  inflating: 10007.txt               \n",
      "  inflating: 10008.txt               \n",
      "  inflating: 10009.txt               \n",
      "  inflating: 10010.txt               \n",
      "  inflating: 10011.txt               \n",
      "  inflating: 10012.txt               \n",
      "  inflating: 10013.txt               \n",
      "  inflating: 10014.txt               \n",
      "  inflating: 10015.txt               \n",
      "  inflating: 10016.txt               \n",
      "  inflating: 10017.txt               \n",
      "  inflating: 10018.txt               \n",
      "  inflating: 10019.txt               \n",
      "  inflating: 10020.txt               \n",
      "  inflating: 10021.txt               \n",
      "  inflating: 10023.txt               \n",
      "  inflating: 10024.txt               \n",
      "  inflating: 10025.txt               \n",
      "  inflating: 10026.txt               \n",
      "  inflating: 10027.txt               \n",
      "  inflating: 10028.txt               \n",
      "  inflating: 10029.txt               \n",
      "  inflating: 10030.txt               \n",
      "  inflating: 10031.txt               \n",
      "  inflating: 10032.txt               \n",
      "  inflating: 10033.txt               \n",
      "  inflating: 10034.txt               \n",
      "  inflating: 10035.txt               \n",
      "  inflating: 10036.txt               \n",
      "  inflating: 10037.txt               \n",
      "  inflating: 10038.txt               \n",
      "  inflating: 10039.txt               \n",
      "  inflating: 10040.txt               \n",
      "  inflating: 10041.txt               \n",
      "  inflating: 10042.txt               \n",
      "  inflating: 10043.txt               \n",
      "  inflating: 10045.txt               \n",
      "  inflating: 10046.txt               \n",
      "  inflating: 10047.txt               \n",
      "  inflating: 10048.txt               \n",
      "  inflating: 10049.txt               \n",
      "  inflating: 10050.txt               \n",
      "  inflating: 10051.txt               \n",
      "  inflating: 10052.txt               \n",
      "  inflating: 10056.txt               \n",
      "  inflating: 10059.txt               \n",
      "  inflating: 10060.txt               \n",
      "  inflating: 10062.txt               \n",
      "  inflating: 12370.txt               \n",
      "  inflating: 12372.txt               \n",
      "  inflating: 12373.txt               \n",
      "  inflating: 12374.txt               \n",
      "  inflating: 12375.txt               \n",
      "  inflating: 12376.txt               \n",
      "  inflating: 12377.txt               \n",
      "  inflating: 12378.txt               \n",
      "  inflating: 12380.txt               \n",
      "  inflating: 12381.txt               \n",
      "  inflating: 12383.txt               \n",
      "  inflating: 12384.txt               \n",
      "  inflating: 12385.txt               \n",
      "  inflating: 12386.txt               \n",
      "  inflating: 1jcfs10.txt             \n",
      "  inflating: 2babb10.txt             \n",
      "  inflating: 3babb10.txt             \n",
      "  inflating: 50bab10.txt             \n",
      "  inflating: ajtl10.txt              \n",
      "  inflating: allyr10.txt             \n",
      "  inflating: alpsn10.txt             \n",
      "  inflating: balen10.txt             \n",
      "  inflating: baleng2.txt             \n",
      "  inflating: batlf10.txt             \n",
      "  inflating: bgopr10.txt             \n",
      "  inflating: brnte10.txt             \n",
      "  inflating: bstjg10.txt             \n",
      "  inflating: cambp10.txt             \n",
      "  inflating: canbe10.txt             \n",
      "  inflating: cantp10.txt             \n",
      "  inflating: cfrz10.txt              \n",
      "  inflating: crsnk10.txt             \n",
      "  inflating: esbio10.txt             \n",
      "  inflating: grybr10.txt             \n",
      "  inflating: mklmt10.txt             \n",
      "  inflating: morem10.txt             \n",
      "  inflating: mspcd10.txt             \n",
      "  inflating: penbr10.txt             \n",
      "  inflating: pgjr10.txt              \n",
      "  inflating: pntvw10.txt             \n",
      "  inflating: prcpg10.txt             \n",
      "  inflating: prhg10.txt              \n",
      "  inflating: prhsb10.txt             \n",
      "  inflating: rlsl110.txt             \n",
      "  inflating: rlsl210.txt             \n",
      "  inflating: rmlav10.txt             \n",
      "  inflating: sesli10.txt             \n",
      "  inflating: svyrd10.txt             \n",
      "  inflating: tecom10.txt             \n",
      "  inflating: utrkj10.txt             \n",
      "  inflating: vpasm10.txt             \n",
      "  inflating: wldsp10.txt             \n",
      "  inflating: wtrbs10.txt             \n",
      "  inflating: zncli10.txt             \n"
     ]
    }
   ],
   "source": [
    "!unzip texts.zip"
   ]
  },
  {
   "cell_type": "code",
   "execution_count": 27,
   "metadata": {
    "collapsed": false
   },
   "outputs": [],
   "source": [
    "!chmod +x filter_wordsplit.py\n",
    "!chmod +x filter_tolower.py\n",
    "!chmod +x filter_stopword.py"
   ]
  },
  {
   "cell_type": "code",
   "execution_count": 31,
   "metadata": {
    "collapsed": false
   },
   "outputs": [
    {
     "name": "stdout",
     "output_type": "stream",
     "text": [
      "   1 standard\r\n",
      "   1 matches\r\n",
      "   1 input\r\n",
      "   1 file\r\n",
      "   1 binary\r\n"
     ]
    }
   ],
   "source": [
    "!cat texts.zip |  grep -oE '\\w{{2,}}' | ./filter_wordsplit.py | ./filter_tolower.py | sort | uniq -c | sort -r | head -25"
   ]
  },
  {
   "cell_type": "code",
   "execution_count": null,
   "metadata": {
    "collapsed": true
   },
   "outputs": [],
   "source": []
  }
 ],
 "metadata": {
  "anaconda-cloud": {},
  "kernelspec": {
   "display_name": "Python [Root]",
   "language": "python",
   "name": "Python [Root]"
  },
  "language_info": {
   "codemirror_mode": {
    "name": "ipython",
    "version": 3
   },
   "file_extension": ".py",
   "mimetype": "text/x-python",
   "name": "python",
   "nbconvert_exporter": "python",
   "pygments_lexer": "ipython3",
   "version": "3.5.2"
  }
 },
 "nbformat": 4,
 "nbformat_minor": 0
}
